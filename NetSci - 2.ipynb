{
 "cells": [
  {
   "cell_type": "markdown",
   "metadata": {},
   "source": [
    "<h1 align=center> Network Science </h1>\n",
    "\n",
    "<img src = \"http://31.media.tumblr.com/2000847d0d1bdf770b5920f71b8ceaf1/tumblr_n0tejefx891qznyv2o1_400.gif\" ></img>"
   ]
  },
  {
   "cell_type": "markdown",
   "metadata": {},
   "source": [
    "Networks are a ubiquitous way to represent complex systems, including those in the social and economic sciences. Half the things we read and write about in media are in some ways related to complex systems, but much of it is simplified for quick and easy consumption. This is why its so important to understand how to analyze and evaluate problems originating from complex systems. \n",
    "\n",
    "A fundamental way to understand such systems - global climate, organisms, the human brain, organizations (both social and economic), ecosystems, digital societies etc. is to analyze the networks of structured behavior or information flow.   \n",
    "\n",
    "Arguably the history of network analysis.. is rich. \n",
    "\n",
    "<img src = \"http://sumandebroy.com/columbia/images/nets1.png\" width=\"80%\"></img>\n",
    "\n",
    "\n",
    "The elementary structural attributes of all networks are the nodes, which are the basic units of a system, and the links, which are the connections between the nodes. Both the nodes and the links can widely differ in different fields. For example, the nodes might be humans or scientists in social networks; molecules, genes, or neurons in biology; routers or transformers in infrastructural networks; and Web pages or research publications in information networks. Similarly, the links might be friendships, alliances, reactions, synapses, optical and copper cables, URLs, or citations. \n",
    "\n",
    "In general, networks can be found in biology, in neuroscience, social science, economics, ecology, how computers are connected etc. "
   ]
  },
  {
   "cell_type": "markdown",
   "metadata": {},
   "source": [
    "### Why study networks ?\n",
    "\n",
    "Analyzing complex systems can be tricky. Writing about them can be trickier. Here are some properties that make these systems complex (but not complicated) to depict:\n",
    "\n",
    "1. *Cascading Effects* : A complex system posses the ability to send ripple effects due to strong coupling among its components. Failures or collapses can lead to cascading failures. \n",
    "2. *Nested layers* : Components about complex systems can themselves be complex. Think about economies, they are made up of organizations, which are made up of people and unions.\n",
    "3. *Emergent Phenomena* : While the results/ purpose of the individual or basic components may be analyzed separately, there are key systems properties that are only visible on a higher level of analysis. One interesting example of this is [Starlings murmurations](https://www.wired.com/2011/11/starling-flock/). Another example is how [hurricanes evolve](http://www.evolutionofcomputing.org/Multicellular/Emergence.html). "
   ]
  },
  {
   "cell_type": "markdown",
   "metadata": {},
   "source": [
    "** Analyzing Spread **: \n",
    "\n",
    "<img src= \"http://currents.plos.org/outbreaks/files/2014/08/ebolatrafficconnections4.png\" width=\"60%\"></img>\n",
    "\n",
    "Epidemics can be simulated using networks. For e.g, the 2014 West African Ebola Outbreak is so far the largest and deadliest recorded in history. The affected countries, Sierra Leone, Guinea, Liberia, and Nigeria, were  struggling to contain and to mitigate the outbreak. A network model was developed based on the confirmed and suspected cases, 2615 as of 20 August 2014, to predict the risk of international dissemination, especially because the epidemic is now affecting cities with major commercial airports.\n",
    "\n",
    "Networks are also a traditionally powerful way to depict conversations in social platforms\n",
    "\n",
    "<img src= \"https://cdn-images-1.medium.com/max/1000/1*YCLWmSc-kPxILwq58PhrVw.jpeg\" width=\"90%\"></img>\n",
    "\n",
    "*2016 US Elections — Annotated Network Graph highlights the dominant communities on Twitter (made with Gephi and [Scale Model](https://medium.com/in-beta/scale-model-94018a5536a5))*"
   ]
  },
  {
   "cell_type": "markdown",
   "metadata": {},
   "source": [
    "### Network Elements. \n",
    "\n",
    "A network can be an exceedingly complex structure, as the connections among the nodes can exhibit complicated patterns. One challenge in studying complex networks is to develop simplified measures that capture some elements of the structure in an understandable way.\n",
    "\n",
    "The totality of the nodes and the links defines a network, often represented in graphic form as a connectivity matrix, telling us which nodes are directly connected to each other. Given that the study of networks was traditionally part of graph theory, a branch of discrete math, most of the language that network theory uses today has its roots in graph theory. Graphs are models of networks. Graphs are useful because they serve as mathematical models of network structures.\n",
    "\n",
    "- *Directed graph* : edges are directed, e.g. in a network that keeps track of which authors cite which other authors, or which web pages have links to which others\n",
    "\n",
    "- *Undirected graph*: edges are undirected...  this behavior is generally true\n",
    "of many social and/or economic relationships, such as partnerships, friendships,\n",
    "alliances, and acquaintances. \n",
    "\n",
    "#### Properties of Network\n",
    "\n",
    "Once a network has been mapped, the first priority is to characterize its topological and structural features.\n",
    "\n",
    "*Degree of a node*: \n",
    "- Degree of connectivity represents the most elementary measure of a node, specifying the number of links a node has to other nodes. Much can be learned about a network by inspecting the degree distribution, which in its simplest manifestation is a histogram of the number of nodes with a given degree.\n",
    "\n",
    "*Indegree and outdegree* of a node: \n",
    "- If the graph is directed, indegree represents possibilites of information flowing in to the note, and out-degree flowing out of the node.\n",
    "\n",
    "Much of the interest in networked relationships comesfrom the fact that individual\n",
    "nodes benefit (or suffer) from indirect relationships. Friends might provide access\n",
    "to favors from their friends, and information might spread through the links of\n",
    "a network. To capture the indirect interactions in a network, it is important to\n",
    "model paths through the network.\n",
    "\n",
    "*Edges*:\n",
    "    - weighted\n",
    "    - incident on a node\n",
    "    - Shortest path between two nodes\n",
    "    - Hop \n",
    "    - Density\n",
    "\n",
    "- What is the difference between a path and a walk?\n",
    "\n",
    "- Google's original ranking algorithm, **PageRank**, is also based on network science. Recall PageRank's orginal thesis:  \"to examine the entire link structure of the web and determine which pages are most important.\" \n",
    "    - A hyperlink from page x to page y counts as a \"vote\" cast by x for y. A vote from a high-ranked page is worth more than a vote from a low-ranked page.\n",
    "    - In this case, websites are represented by nodes, and urls embedded in them as links. (So each page can vote for any number of other pages; however, the weight of each of its individual votes decreases according to the total number of votes it has cast)\n",
    "    - ... but a lot of the rest of it is.. the closely guarded. \n",
    "    "
   ]
  },
  {
   "cell_type": "markdown",
   "metadata": {},
   "source": [
    "## Intro to Gephi\n",
    "\n",
    "<img src = \"http://sumandebroy.com/columbia/images/beta2.gif\" width=\"40%\"></img>"
   ]
  },
  {
   "cell_type": "markdown",
   "metadata": {},
   "source": [
    "Now that you know the basic elements of networks, lets go and interact with one. \n",
    "\n",
    "For this exercise, we shall use a tool called [Gephi](https://gephi.org/).\n",
    "\n",
    "\n",
    "- First, download Gephi from [here](https://gephi.org/users/download/)\n",
    "- Gephi can ingest dataset files in different graph formats, one of which is [GML](https://en.wikipedia.org/wiki/Graph_Modelling_Language). \n",
    "- Lets download the dataset. Go to [this](http://sumandebroy.com/columbia/word_adjacencies.gml.zip) zip file, and extract the .gml file (dataset) in the folder where you are running the notebook. You will see a \".gml\" file. \n",
    "\n",
    "*What is this data about: * The dataset contains **word adjacencies**, i.e. an adjacency network of common adjectives and nouns in the novel David Copperfield by Charles Dickens. It was extracted in the paper: M. E. J. Newman, Phys. Rev. E 74, 036104 (2006). "
   ]
  },
  {
   "cell_type": "markdown",
   "metadata": {
    "collapsed": true
   },
   "source": [
    "### Gephi Demo 1 - David Copperfield, word adjacencies\n",
    "\n",
    "- Now load Gephi.\n",
    "- The click on \"File\" --> \"Open\" .. and choose \"word_adjacencis.gml\"\n",
    "- You should see an import report with some stats about number of edges and nodes. \n",
    "- Click \"OK\" and gephi should show the graph now. \n",
    "\n",
    "1. To see the degree distribution: Go to right panel in Statistics --> \"Network Overview\", click \"Average Degree\". \n",
    "2. Change Appearance of nodes: Node size, node color, node label size.\n",
    "3. Changing Appearance of network layout: Network layout are a set of algorithms that arrange the graph in a way thats aesthatically pleasing. We will start with the [*force directed* layout](https://en.wikipedia.org/wiki/Force-directed_graph_drawing). While these layouts can be computationally expensive, one of the fastest algorithms to project a force directed was developed by Fruchterman & Reingold in 1991.\n",
    "\n",
    "4. go to the preview tab, click refresh. This is where you export your beautiful network picture.\n"
   ]
  },
  {
   "cell_type": "markdown",
   "metadata": {},
   "source": [
    "##  Social Network Analysis\n",
    "\n",
    "\n",
    "Ideas don't come from people, ideas come from conversations. Investigating social structures and information diffusion through the use of networks and graph theory can be one of the most powerful tools available to an analyst. "
   ]
  },
  {
   "cell_type": "markdown",
   "metadata": {},
   "source": [
    "### Properties of Real Networks ... \n",
    "\n",
    "We have already studied a few fundamental characteristics of networks, such as its degree distribution. The degree\n",
    "distribution of a network is a description of the relative frequencies of nodes that\n",
    "have different degrees. But there are many more richer features to characterize the network\n",
    "\n",
    "- *Centrality* \n",
    "    - Most of the measures discussed to this point are predominately macro in nature; that is, they describe broad characteristics of a network. In many cases, we might also be interested in micro measures that allow us to compare nodes and to say something about how a given node relates to the overall network. [Centrality](https://en.wikipedia.org/wiki/Centrality) describes the most important nodes in relation to every other node in the network.\n",
    "        - There are many types of centrality.. such as betweenness, degree etc... and they are so called because they use that particular feature of the network to draw up a statistical measure of centrality. For example, [betweeness centrality](https://en.wikipedia.org/wiki/Betweenness_centrality) is a statistical measure based on the shortest paths of the network. \n",
    "        - Eigenvector centrality assigns relative scores to nodes in the network based on the concept that connections to nodes with high score contribute more to the score of a node than connections to nodes with lower scores. PageRank is a variant of eigenvector centrality. You can see how the PageRank model works [here](http://bl.ocks.org/emeeks/f448eef177b5fe94b1c0).\n",
    "        \n",
    "\n",
    "- *Small world*\n",
    "    - A small-world network is one in which the mean geodesic (i.e., shortest-path) distance between nodes increases sufficiently slowly as a function of the number of nodes in the network. In other words, most nodes are not neighbors of one another, but the neighbors of any given node are likely to be neighbors of each other and most nodes can be reached from every other node by a small number of hops or steps. Thus, **nodes are highly clustered**. \n",
    "    - Social networks are intuitive examples of this organization, in which cliques or clusters of friends being interconnected but each person is really only five or six people away from anyone else.\n",
    "\n",
    "\n",
    "    \n",
    "- *Scale free*\n",
    "    - Scale-free networks are a type of network characterized by the presence of large hubs. These networks are incredibly tolerant to failures. Many known networks, such as the World Wide Web, online social networks, protein networks, interbank payment networks are scale free. \n",
    "\n",
    "<img src=\"http://blogs.cornell.edu/info2040/files/2012/09/scale-free-network-1p6ttzk.png\"> </img>\n",
    "\n",
    "Small World and Scale Free often go hand in hand, and give rise to patterns that have been found in many biological systems. One  theory in neuroscience is the brain is organised as a small-world  network, where most neurons are connected relatively sparsely and  locally. This theory also proposes there are a very small proportion of  highly connected neurons (hubs), which have connections spanning much  longer distances. [Some researchers claim to have found evidence for such  hub neurons in the human brain](http://science.sciencemag.org/content/326/5958/1419)\n",
    "\n",
    "\n",
    "- *Modularity*\n",
    "    - The tendency of the network to form explicit clusters of nodes. It measures the strength of division of a network into modules (also called groups, clusters or communities). This is used to find \"community stucture\" in networks. A community is a group of nodes that are more connected to each other than to other nodes of the network.\n",
    "    \n",
    "    \n",
    "The nature of all these properties have strong implications in our daily existence, including our social circles and even how we speak, write or conceptualize (think of semantic networks). And amazing, it can have interesting effects on [language acquisition](http://www.cnn.com/2011/OPINION/03/13/roy.tapes.childhood/)  "
   ]
  },
  {
   "cell_type": "markdown",
   "metadata": {
    "collapsed": false
   },
   "source": [
    "### Gephi Demo 2:  A social graph\n",
    "\n",
    "Lets play around with [this](http://socialcomputing.asu.edu/datasets/Twitter) dataset, which contains nodes and edges extracted from Twitter. The data here is anonymized, so nodes only have a number (not a name). But **you can crawl your own networks from Twitter** and then test it using this method. \n",
    "\n",
    "Basic statistics\n",
    "- Number of Nodes: 11,316,811\n",
    "- Number of Edges: 85,331,846\n",
    "\n",
    "Because I don't want gephi to crawl and run out of memory, we are going to visualize only the top~7K nodes of this network that had highest degree. You can get this reduced dataset [here](http://sumandebroy.com/columbia/nodes_7k.csv)\n",
    "\n",
    "- Just like the previous case, open gephi and click on \"File\" --> \"Open\" .. and choose \"nodes_7k.csv\"\n",
    "- You should see an import report with some stats about number of edges and nodes.\n",
    "- Click \"OK\" and gephi should show the graph now (or something like a dark square...these are all nodes!)\n",
    "\n",
    "Here's how to make the network viz:\n",
    "- Step 1: **Filtering for High Degree nodes only** - Lets see the degree distribution, but this time we will filter by range. Go to filters, click on topology and double-click on degree range. Now increase the lower limit to ~40. You should have fewer nodes in the graph now. \n",
    "- Step 2: **Checking Influence** - Run \"eigenvector centrality\" from the statistics window. \n",
    "- Step 3: Change node size by centrality. \n",
    "- Step 4: Change colors by centrality\n",
    "- Step 5: Change the layout to openord. Go to preview and see what you created (don't forget to refresh)\n",
    "- Step 6: Finally go over to statistics, and calculate at the average degree distribution. \n",
    "\n",
    "The degree distribution displays the count of nodes with the appropriate distribution (this will be based on filtered nodes).\n",
    "\n",
    "\n",
    "<img src=\"http://sumandebroy.com/columbia/ddist.png\" width=\"70%\"></img>\n",
    "\n",
    "- count = no. of nodes \n",
    "- value = degree of these nodes\n",
    "\n",
    "\n",
    "While Gephi is useful for aesthatically pleasing network depiction and visualization, there are more straightforward tools that let you not only build a network, but analyze here. One such tool is NetworkX. "
   ]
  },
  {
   "cell_type": "markdown",
   "metadata": {
    "collapsed": true
   },
   "source": [
    "## Building Graphs using NetworkX\n",
    "\n",
    "NetworkX is a Python language software package for the creation, manipulation, and study of the structure, dynamics, and functions of complex networks."
   ]
  },
  {
   "cell_type": "code",
   "execution_count": 1,
   "metadata": {
    "collapsed": false
   },
   "outputs": [
    {
     "name": "stdout",
     "output_type": "stream",
     "text": [
      "Requirement already satisfied: networkx in /anaconda/lib/python2.7/site-packages\r\n",
      "Requirement already satisfied: decorator>=3.4.0 in /anaconda/lib/python2.7/site-packages (from networkx)\r\n"
     ]
    }
   ],
   "source": [
    "!pip install networkx"
   ]
  },
  {
   "cell_type": "code",
   "execution_count": 2,
   "metadata": {
    "collapsed": true
   },
   "outputs": [],
   "source": [
    "import networkx as nx\n",
    "import matplotlib.pyplot as plt\n",
    "%matplotlib inline\n",
    "from operator import itemgetter\n",
    "import pandas as pd"
   ]
  },
  {
   "cell_type": "code",
   "execution_count": 76,
   "metadata": {
    "collapsed": true
   },
   "outputs": [],
   "source": [
    "G=nx.Graph() # this will create a graph object, without any edges or nodes. "
   ]
  },
  {
   "cell_type": "code",
   "execution_count": 77,
   "metadata": {
    "collapsed": false
   },
   "outputs": [
    {
     "name": "stdout",
     "output_type": "stream",
     "text": [
      "['__class__', '__contains__', '__delattr__', '__dict__', '__doc__', '__format__', '__getattribute__', '__getitem__', '__hash__', '__init__', '__iter__', '__len__', '__module__', '__new__', '__reduce__', '__reduce_ex__', '__repr__', '__setattr__', '__sizeof__', '__str__', '__subclasshook__', '__weakref__', 'add_cycle', 'add_edge', 'add_edges_from', 'add_node', 'add_nodes_from', 'add_path', 'add_star', 'add_weighted_edges_from', 'adj', 'adjacency_iter', 'adjacency_list', 'adjlist_dict_factory', 'clear', 'copy', 'degree', 'degree_iter', 'edge', 'edge_attr_dict_factory', 'edges', 'edges_iter', 'get_edge_data', 'graph', 'has_edge', 'has_node', 'is_directed', 'is_multigraph', 'name', 'nbunch_iter', 'neighbors', 'neighbors_iter', 'node', 'node_dict_factory', 'nodes', 'nodes_iter', 'nodes_with_selfloops', 'number_of_edges', 'number_of_nodes', 'number_of_selfloops', 'order', 'remove_edge', 'remove_edges_from', 'remove_node', 'remove_nodes_from', 'selfloop_edges', 'size', 'subgraph', 'to_directed', 'to_undirected']\n"
     ]
    }
   ],
   "source": [
    "print dir(G) # what all can G do ..? "
   ]
  },
  {
   "cell_type": "code",
   "execution_count": 78,
   "metadata": {
    "collapsed": true
   },
   "outputs": [],
   "source": [
    "# adding a node\n",
    "G.add_node('alpha')\n",
    "G.add_node('beta')"
   ]
  },
  {
   "cell_type": "code",
   "execution_count": 79,
   "metadata": {
    "collapsed": false
   },
   "outputs": [
    {
     "data": {
      "text/plain": [
       "['alpha', 'beta']"
      ]
     },
     "execution_count": 79,
     "metadata": {},
     "output_type": "execute_result"
    }
   ],
   "source": [
    "G.nodes()"
   ]
  },
  {
   "cell_type": "code",
   "execution_count": 80,
   "metadata": {
    "collapsed": false
   },
   "outputs": [
    {
     "data": {
      "text/plain": [
       "[]"
      ]
     },
     "execution_count": 80,
     "metadata": {},
     "output_type": "execute_result"
    }
   ],
   "source": [
    "G.edges()"
   ]
  },
  {
   "cell_type": "code",
   "execution_count": 81,
   "metadata": {
    "collapsed": true
   },
   "outputs": [],
   "source": [
    "G.add_edge('alpha','beta')"
   ]
  },
  {
   "cell_type": "code",
   "execution_count": 82,
   "metadata": {
    "collapsed": false
   },
   "outputs": [
    {
     "data": {
      "text/plain": [
       "[('alpha', 'beta')]"
      ]
     },
     "execution_count": 82,
     "metadata": {},
     "output_type": "execute_result"
    }
   ],
   "source": [
    "G.edges()"
   ]
  },
  {
   "cell_type": "code",
   "execution_count": 83,
   "metadata": {
    "collapsed": false
   },
   "outputs": [],
   "source": [
    "someList = ['gamma','delta','zeta']\n",
    "G.add_nodes_from(someList)"
   ]
  },
  {
   "cell_type": "code",
   "execution_count": 84,
   "metadata": {
    "collapsed": false
   },
   "outputs": [
    {
     "data": {
      "text/plain": [
       "['alpha', 'beta', 'zeta', 'gamma', 'delta']"
      ]
     },
     "execution_count": 84,
     "metadata": {},
     "output_type": "execute_result"
    }
   ],
   "source": [
    "G.nodes()"
   ]
  },
  {
   "cell_type": "code",
   "execution_count": 85,
   "metadata": {
    "collapsed": true
   },
   "outputs": [],
   "source": [
    "G.remove_node('gamma')"
   ]
  },
  {
   "cell_type": "code",
   "execution_count": 86,
   "metadata": {
    "collapsed": false
   },
   "outputs": [
    {
     "name": "stdout",
     "output_type": "stream",
     "text": [
      "[('alpha', 'beta')]\n",
      "['alpha', 'beta', 'zeta', 'delta']\n"
     ]
    }
   ],
   "source": [
    "print G.edges()\n",
    "print G.nodes()"
   ]
  },
  {
   "cell_type": "code",
   "execution_count": 87,
   "metadata": {
    "collapsed": false
   },
   "outputs": [],
   "source": [
    "G.add_edges_from([('alpha','delta'),('beta','delta')])"
   ]
  },
  {
   "cell_type": "code",
   "execution_count": 88,
   "metadata": {
    "collapsed": false
   },
   "outputs": [
    {
     "name": "stdout",
     "output_type": "stream",
     "text": [
      "[('alpha', 'beta'), ('alpha', 'delta'), ('beta', 'delta')]\n",
      "\n",
      "('alpha', 2)\n",
      "('beta', 2)\n",
      "('zeta', 0)\n",
      "('delta', 2)\n"
     ]
    }
   ],
   "source": [
    "print G.edges()\n",
    "print ''\n",
    "for i in G.degree_iter():\n",
    "    print i"
   ]
  },
  {
   "cell_type": "markdown",
   "metadata": {},
   "source": [
    "Now we come to the beautiful part: **Any NetworkX graph behaves like a Python dictionary** with nodes or edges as primary keys. Thus, we can add attributes to nodes or edges!! Each graph, node, and edge can hold key/value attribute pairs in an associated attribute dictionary (the keys must be hashable). By default these are empty"
   ]
  },
  {
   "cell_type": "code",
   "execution_count": 89,
   "metadata": {
    "collapsed": true
   },
   "outputs": [],
   "source": [
    "G.node['alpha']['type'] = 'dog'\n",
    "G.node['beta']['type'] = 'cat'"
   ]
  },
  {
   "cell_type": "code",
   "execution_count": 90,
   "metadata": {
    "collapsed": false
   },
   "outputs": [
    {
     "data": {
      "text/plain": [
       "{'alpha': 'dog', 'beta': 'cat'}"
      ]
     },
     "execution_count": 90,
     "metadata": {},
     "output_type": "execute_result"
    }
   ],
   "source": [
    "nx.get_node_attributes(G,'type')"
   ]
  },
  {
   "cell_type": "code",
   "execution_count": 51,
   "metadata": {
    "collapsed": true
   },
   "outputs": [],
   "source": [
    "# similarly you can add attributes to edges... and one such attribute is the LINK WEIGHT"
   ]
  },
  {
   "cell_type": "code",
   "execution_count": 91,
   "metadata": {
    "collapsed": false
   },
   "outputs": [
    {
     "name": "stdout",
     "output_type": "stream",
     "text": [
      "[('alpha', 'beta'), ('alpha', 'delta'), ('beta', 'delta')]\n"
     ]
    }
   ],
   "source": [
    "print G.edges()\n",
    "G['alpha']['delta']['weight']=5"
   ]
  },
  {
   "cell_type": "code",
   "execution_count": 92,
   "metadata": {
    "collapsed": false
   },
   "outputs": [
    {
     "data": {
      "text/plain": [
       "{'weight': 5}"
      ]
     },
     "execution_count": 92,
     "metadata": {},
     "output_type": "execute_result"
    }
   ],
   "source": [
    "G['alpha']['delta']"
   ]
  },
  {
   "cell_type": "code",
   "execution_count": 93,
   "metadata": {
    "collapsed": true
   },
   "outputs": [],
   "source": [
    "# you can also include the attribute while you add a new node or edge\n",
    "G.add_node('epsilon',type='parrot')\n",
    "G.add_edge('alpha','epsilon',weight=20)"
   ]
  },
  {
   "cell_type": "code",
   "execution_count": 94,
   "metadata": {
    "collapsed": false
   },
   "outputs": [
    {
     "name": "stdout",
     "output_type": "stream",
     "text": [
      "[('alpha', 'epsilon', {'weight': 20}), ('alpha', 'beta', {}), ('alpha', 'delta', {'weight': 5}), ('beta', 'delta', {})]\n"
     ]
    }
   ],
   "source": [
    "print G.edges(data=True)"
   ]
  },
  {
   "cell_type": "code",
   "execution_count": 114,
   "metadata": {
    "collapsed": false
   },
   "outputs": [],
   "source": [
    "# now we can also define a directed graph..like\n",
    "\n",
    "H = nx.DiGraph()"
   ]
  },
  {
   "cell_type": "code",
   "execution_count": 115,
   "metadata": {
    "collapsed": true
   },
   "outputs": [],
   "source": [
    "# and we can add edges from graph to another!\n",
    "\n",
    "H.add_edges_from(G.edges())"
   ]
  },
  {
   "cell_type": "code",
   "execution_count": 116,
   "metadata": {
    "collapsed": false
   },
   "outputs": [
    {
     "data": {
      "text/plain": [
       "[('alpha', 'epsilon', {}),\n",
       " ('alpha', 'beta', {}),\n",
       " ('alpha', 'delta', {}),\n",
       " ('beta', 'delta', {})]"
      ]
     },
     "execution_count": 116,
     "metadata": {},
     "output_type": "execute_result"
    }
   ],
   "source": [
    "H.edges(data=True)  "
   ]
  },
  {
   "cell_type": "markdown",
   "metadata": {},
   "source": [
    "Connected Components: As the name sounds, this is a subsection of the graph where you can reach every vertex from one another using a path"
   ]
  },
  {
   "cell_type": "code",
   "execution_count": 117,
   "metadata": {
    "collapsed": false
   },
   "outputs": [
    {
     "data": {
      "text/plain": [
       "[{'alpha', 'beta', 'delta', 'epsilon'}, {'zeta'}]"
      ]
     },
     "execution_count": 117,
     "metadata": {},
     "output_type": "execute_result"
    }
   ],
   "source": [
    "[i for i in nx.connected_components(G)]"
   ]
  },
  {
   "cell_type": "markdown",
   "metadata": {},
   "source": [
    "Computers can only compute on matrices.. so you might have already guessed .. every graph can be represented by a matrix!\n",
    "\n",
    "<img src=\"http://www.stoimen.com/blog/wp-content/uploads/2012/08/5.-Undirected-Graph-Adjacency-Matrix.png\" width=\"40%\"></img>"
   ]
  },
  {
   "cell_type": "code",
   "execution_count": 118,
   "metadata": {
    "collapsed": false
   },
   "outputs": [
    {
     "name": "stdout",
     "output_type": "stream",
     "text": [
      "('alpha', 'epsilon', 20)\n",
      "('alpha', 'beta', 'unknown')\n",
      "('alpha', 'delta', 5)\n",
      "('beta', 'alpha', 'unknown')\n",
      "('beta', 'delta', 'unknown')\n",
      "('epsilon', 'alpha', 20)\n",
      "('delta', 'alpha', 5)\n",
      "('delta', 'beta', 'unknown')\n"
     ]
    }
   ],
   "source": [
    "for n,nbrsdict in G.adjacency_iter():\n",
    "    for nbr,eattr in nbrsdict.items():\n",
    "        if 'weight' in eattr:\n",
    "            print (n,nbr,eattr['weight'])\n",
    "        else:\n",
    "            print (n,nbr,'unknown')"
   ]
  },
  {
   "cell_type": "code",
   "execution_count": 119,
   "metadata": {
    "collapsed": false
   },
   "outputs": [
    {
     "name": "stdout",
     "output_type": "stream",
     "text": [
      "['alpha', 'beta', 'delta', 'epsilon']\n",
      "[]\n"
     ]
    }
   ],
   "source": [
    "print H.nodes() \n",
    "H.clear() \n",
    "print H.nodes()"
   ]
  },
  {
   "cell_type": "code",
   "execution_count": 128,
   "metadata": {
    "collapsed": false
   },
   "outputs": [
    {
     "data": {
      "text/plain": [
       "[3, 2, 2, 1, 0]"
      ]
     },
     "execution_count": 128,
     "metadata": {},
     "output_type": "execute_result"
    }
   ],
   "source": [
    "degree_sequence=sorted(nx.degree(G).values(),reverse=True) \n",
    "degree_sequence"
   ]
  },
  {
   "cell_type": "code",
   "execution_count": 146,
   "metadata": {
    "collapsed": false
   },
   "outputs": [
    {
     "data": {
      "image/png": "[encoded data removed]",
      "text/plain": [
       "<matplotlib.figure.Figure at 0x1161aa650>"
      ]
     },
     "metadata": {},
     "output_type": "display_data"
    }
   ],
   "source": [
    "h,bins,patches = plt.hist(degree_sequence)\n",
    "hmax=max(h)\n",
    "plt.axis([0,5,0,5]) # set ranges\n",
    "#x=compress(h,bins)    # remove bins with zero entries\n",
    "#y=compress(h,h)       # remove corresponding entries\n",
    "x=bins.compress(h)\n",
    "y=h.compress(h)\n",
    "plt.plot(x,y,'-')\n",
    "plt.title(\"Degree distribution\")\n",
    "plt.xlabel(\"degree\")\n",
    "plt.ylabel(\"number of nodes\")\n",
    "plt.show()"
   ]
  },
  {
   "cell_type": "markdown",
   "metadata": {},
   "source": [
    "**Exercise: ** Lets spend 15-20 mins.. where you parse the susanrice tweets and make a network. The linkage can be based on any attribute.. people who tweeted to each other, used the same hashtag, used the words, tweeted at th same time etc...\n",
    "\n",
    "Once you have that network.. we will explore the final key metrics that can give us greater understanding of a network."
   ]
  },
  {
   "cell_type": "markdown",
   "metadata": {},
   "source": [
    "##### Networkx can read an edgelist, so you can directly load a part of the graph you've crawled"
   ]
  },
  {
   "cell_type": "code",
   "execution_count": 29,
   "metadata": {
    "collapsed": false
   },
   "outputs": [],
   "source": [
    "loc = 'http://sumandebroy.com/columbia/edges_names.csv'\n",
    "## ^^ This is the graph of all betaworks / friends/ media-companies connected to us"
   ]
  },
  {
   "cell_type": "code",
   "execution_count": 28,
   "metadata": {
    "collapsed": false,
    "scrolled": true
   },
   "outputs": [
    {
     "data": {
      "text/html": [
       "<div>\n",
       "<table border=\"1\" class=\"dataframe\">\n",
       "  <thead>\n",
       "    <tr style=\"text-align: right;\">\n",
       "      <th></th>\n",
       "      <th>node1</th>\n",
       "      <th>node2</th>\n",
       "    </tr>\n",
       "  </thead>\n",
       "  <tbody>\n",
       "    <tr>\n",
       "      <th>0</th>\n",
       "      <td>buster</td>\n",
       "      <td>sama</td>\n",
       "    </tr>\n",
       "    <tr>\n",
       "      <th>1</th>\n",
       "      <td>buster</td>\n",
       "      <td>tomcoates</td>\n",
       "    </tr>\n",
       "    <tr>\n",
       "      <th>2</th>\n",
       "      <td>buster</td>\n",
       "      <td>timoni</td>\n",
       "    </tr>\n",
       "    <tr>\n",
       "      <th>3</th>\n",
       "      <td>buster</td>\n",
       "      <td>dacort</td>\n",
       "    </tr>\n",
       "    <tr>\n",
       "      <th>4</th>\n",
       "      <td>buster</td>\n",
       "      <td>defunkt</td>\n",
       "    </tr>\n",
       "  </tbody>\n",
       "</table>\n",
       "</div>"
      ],
      "text/plain": [
       "    node1      node2\n",
       "0  buster       sama\n",
       "1  buster  tomcoates\n",
       "2  buster     timoni\n",
       "3  buster     dacort\n",
       "4  buster    defunkt"
      ]
     },
     "execution_count": 28,
     "metadata": {},
     "output_type": "execute_result"
    }
   ],
   "source": [
    "pd.read_csv(loc, names=['node1', 'node2']).head()"
   ]
  },
  {
   "cell_type": "markdown",
   "metadata": {},
   "source": [
    "network can read a csv as edgelist, so go ahead and [download this edge list](http://sumandebroy.com/columbia/edges_names.csv)\n"
   ]
  },
  {
   "cell_type": "code",
   "execution_count": 27,
   "metadata": {
    "collapsed": false
   },
   "outputs": [],
   "source": [
    "betaGraph = nx.read_edgelist('edges_names.csv', comments='#', delimiter=',')"
   ]
  },
  {
   "cell_type": "code",
   "execution_count": 26,
   "metadata": {
    "collapsed": false
   },
   "outputs": [
    {
     "name": "stdout",
     "output_type": "stream",
     "text": [
      "766\n",
      "14657\n"
     ]
    }
   ],
   "source": [
    "print len(betaGraph.nodes())\n",
    "print len(betaGraph.edges())"
   ]
  },
  {
   "cell_type": "code",
   "execution_count": 5,
   "metadata": {
    "collapsed": false
   },
   "outputs": [
    {
     "name": "stdout",
     "output_type": "stream",
     "text": [
      "[244, 214, 213, 197, 192, 183, 182, 182, 178, 175]\n"
     ]
    }
   ],
   "source": [
    "degree_sequence=sorted(nx.degree(betaGraph).values(),reverse=True) \n",
    "print degree_sequence[:10]"
   ]
  },
  {
   "cell_type": "code",
   "execution_count": 6,
   "metadata": {
    "collapsed": false
   },
   "outputs": [
    {
     "data": {
      "image/png": "[encoded data removed]",
      "text/plain": [
       "<matplotlib.figure.Figure at 0x114530790>"
      ]
     },
     "metadata": {},
     "output_type": "display_data"
    }
   ],
   "source": [
    "h,bins,patches = plt.hist(degree_sequence)\n",
    "hmax=max(h)\n",
    "plt.axis([0,250,0,500]) # set ranges\n",
    "#x=compress(h,bins)    # remove bins with zero entries\n",
    "#y=compress(h,h)       # remove corresponding entries\n",
    "x=bins.compress(h)\n",
    "y=h.compress(h)\n",
    "plt.plot(x,y,'-')\n",
    "plt.title(\"Degree distribution\")\n",
    "plt.xlabel(\"degree\")\n",
    "plt.ylabel(\"number of nodes\")\n",
    "plt.show()"
   ]
  },
  {
   "cell_type": "markdown",
   "metadata": {},
   "source": [
    "As we have seen before, social graphs have a distinctive degree distribution.. that of a power law distribution. Some credit this to preferential attachment - i.e. new nodes attaching to similar nodes in the network. "
   ]
  },
  {
   "cell_type": "code",
   "execution_count": 7,
   "metadata": {
    "collapsed": false
   },
   "outputs": [
    {
     "name": "stdout",
     "output_type": "stream",
     "text": [
      "True\n"
     ]
    }
   ],
   "source": [
    "# are there any disconnected components?\n",
    "print nx.is_connected(betaGraph)"
   ]
  },
  {
   "cell_type": "markdown",
   "metadata": {},
   "source": [
    "### Analyzing Sub Structures using NetworkX"
   ]
  },
  {
   "cell_type": "markdown",
   "metadata": {},
   "source": [
    "#### 1. Assortativity \n",
    "\n",
    "A graph metric that represents **to what extent nodes in a network associate with other nodes in the network, being of similar sort or being of opposing sort**. Generally, the assortativity of a network is determined for the degree (number of direct neighbours) of the nodes in the network. The concept of assortativity may, however, be applied to other characteristics of a node as well, such as node weight, type etc.. \n",
    "\n",
    "Assortativity can range from -1 to 1. A network is said to be assortative when high degree nodes are, on average, connected to other nodes with high degree and low degree nodes are, on average, connected to other nodes with low degree. **A network is disassortative when, on average, high degree nodes are connected to nodes with low(er) degree and, on average, low degree nodes are connected to nodes with high(er) degree**.Assortativity provides information about the structure of a network, but also about dynamic behaviour of the network and robustness of the network, such as random or targeted attack and virus spread."
   ]
  },
  {
   "cell_type": "code",
   "execution_count": 8,
   "metadata": {
    "collapsed": false
   },
   "outputs": [
    {
     "name": "stdout",
     "output_type": "stream",
     "text": [
      "0.0140333772566\n"
     ]
    }
   ],
   "source": [
    "print nx.degree_assortativity_coefficient(betaGraph)"
   ]
  },
  {
   "cell_type": "markdown",
   "metadata": {},
   "source": [
    "^^ It seems like the betaworks networks is neither assortative nor disassortative..as the coefficient is very close to zero. "
   ]
  },
  {
   "cell_type": "code",
   "execution_count": 10,
   "metadata": {
    "collapsed": false
   },
   "outputs": [
    {
     "data": {
      "text/plain": [
       "[(u'Scobleizer', 0.31895424836601305),\n",
       " (u'Borthwick', 0.2797385620915033),\n",
       " (u'baratunde', 0.27843137254901956),\n",
       " (u'neiltyson', 0.257516339869281),\n",
       " (u'betaworks', 0.25098039215686274),\n",
       " (u'SlackHQ', 0.2392156862745098),\n",
       " (u'nytimes', 0.23790849673202613),\n",
       " (u'gilgul', 0.23790849673202613),\n",
       " (u'McAndrew', 0.23267973856209148),\n",
       " (u'auerbach', 0.22875816993464052),\n",
       " (u'NateSilver538', 0.20784313725490194),\n",
       " (u'hmason', 0.20784313725490194),\n",
       " (u'paulbz', 0.20392156862745098),\n",
       " (u'huangkuan', 0.19999999999999998),\n",
       " (u'ponchoIRL', 0.19738562091503267),\n",
       " (u'johnmaeda', 0.19738562091503267),\n",
       " (u'bthdonohue', 0.19346405228758168),\n",
       " (u'BillGates', 0.19215686274509802),\n",
       " (u'LPKess', 0.1830065359477124),\n",
       " (u'_RoySD', 0.1803921568627451)]"
      ]
     },
     "execution_count": 10,
     "metadata": {},
     "output_type": "execute_result"
    }
   ],
   "source": [
    "dcentral = nx.degree_centrality(betaGraph)\n",
    "sorted(dcentral.iteritems(), key=itemgetter(1), reverse=True)[:20]"
   ]
  },
  {
   "cell_type": "markdown",
   "metadata": {},
   "source": [
    "#### 2. Cliques\n",
    "\n",
    "A group of nodes such that each node is adjacent (1 hop) away from one another. In a social networks, this translates to a group of individuals who all follow each other. "
   ]
  },
  {
   "cell_type": "code",
   "execution_count": 10,
   "metadata": {
    "collapsed": true
   },
   "outputs": [],
   "source": [
    "cliqs= list(nx.find_cliques(betaGraph))"
   ]
  },
  {
   "cell_type": "code",
   "execution_count": 12,
   "metadata": {
    "collapsed": false
   },
   "outputs": [
    {
     "data": {
      "text/plain": [
       "[u'primawesome',\n",
       " u'pattonoswalt',\n",
       " u'jenhasgreathair',\n",
       " u'AndyRichter',\n",
       " u'puddinstrip']"
      ]
     },
     "execution_count": 12,
     "metadata": {},
     "output_type": "execute_result"
    }
   ],
   "source": [
    "cliqs[1]"
   ]
  },
  {
   "cell_type": "code",
   "execution_count": 14,
   "metadata": {
    "collapsed": false
   },
   "outputs": [
    {
     "data": {
      "text/plain": [
       "24"
      ]
     },
     "execution_count": 14,
     "metadata": {},
     "output_type": "execute_result"
    }
   ],
   "source": [
    "max([len(a) for a in cliqs])  # the maximum clique size in this graph.. "
   ]
  },
  {
   "cell_type": "markdown",
   "metadata": {},
   "source": [
    "#### 3. K-Cores\n",
    "Another way to get some understanding of a graph is to peel away nodes, starting with the least connected. The k-core of a graph is the maximal subgraph (clique) such that every vertex has degree at least k. "
   ]
  },
  {
   "cell_type": "code",
   "execution_count": 43,
   "metadata": {
    "collapsed": false
   },
   "outputs": [
    {
     "name": "stdout",
     "output_type": "stream",
     "text": [
      "[u'LaBraveMargot', u'_RoySD', u'slbedard', u'jcinis', u'KrisHorowitz', u'LPKess', u'mhkt', u'bthdonohue', u'BetaworksTardis', u'HeyVeronica', u'daweiner', u'beta_mouse', u'jrlevine', u'tapestry', u'huangkuan', u'Borthwick', u'myoung', u'sammandel', u'MattHartman', u'auerbach', u'ponchoIRL', u'jonnyheadphones', u'baratunde', u'bananalise', u'Jason_Morrow', u'rachltroy', u'AnnaDubenko', u'AndrewDumont', u'koopstakov', u'pattty_cakes', u'mayafish', u'janatrantow', u'jvanslem', u'nchirls', u'tolar', u'joshpetri', u'paulbz', u'lexilewtan', u'patrickmoberg', u'digg', u'BetaSnacking', u'GrantCuster', u'subchild', u'alia_o_f', u'gilgul', u'lynnhait', u'McAndrew', u'dombutchello', u'jessgilliam', u'giphy', u'neilw', u'DrewKrama', u'digitalstrategy', u'0penbeta', u'betaworks', u'basker']\n"
     ]
    }
   ],
   "source": [
    "core= list(nx.k_core(betaGraph,38))\n",
    "print core"
   ]
  },
  {
   "cell_type": "markdown",
   "metadata": {},
   "source": [
    "Networks and graph theory has many incredible results, such as [The Theorem on Friends and Strangers](https://blogs.scientificamerican.com/roots-of-unity/ramsey-theory-on-facebook/), and especially when the questions is: **how many elements of some structure must there be to guarantee that a particular property will hold?**\n",
    "\n",
    "\n",
    "But these 3 are quite useful in characterizing the behavior of nodes and information flows in the network."
   ]
  },
  {
   "cell_type": "markdown",
   "metadata": {
    "collapsed": true
   },
   "source": [
    "<hr>\n",
    "\n",
    "## Now its your turn ..\n",
    "\n",
    "1. What are some of the tweet features that you can use to construct \"relationships\" ?\n",
    "    - People who have tweeted the same link/ hashtag\n",
    "    - Words that occur in the same tweet\n",
    "    - People that have an edge in the actual twitter network.\n",
    "    \n",
    "2. Make the nodes and the edges. \n",
    "3. Calculate network properties.\n",
    "4. Visualize"
   ]
  }
 ],
 "metadata": {
  "kernelspec": {
   "display_name": "Python 2",
   "language": "python",
   "name": "python2"
  },
  "language_info": {
   "codemirror_mode": {
    "name": "ipython",
    "version": 2
   },
   "file_extension": ".py",
   "mimetype": "text/x-python",
   "name": "python",
   "nbconvert_exporter": "python",
   "pygments_lexer": "ipython2",
   "version": "2.7.13"
  }
 },
 "nbformat": 4,
 "nbformat_minor": 2
}
