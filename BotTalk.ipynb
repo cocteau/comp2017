{
 "cells": [
  {
   "cell_type": "markdown",
   "metadata": {},
   "source": [
    "<img src=https://imgs.xkcd.com/comics/regular_expressions.png width=400>\n",
    "\n",
    "Regular Expressions\n",
    "-------------------\n",
    "\n",
    "In this portion of class, we are going to work with a \"language\" for expressing patterns in text. By \"pattern\" I mean specifying repetitions of symbols -- words or punctuation or sequences of numbers or any combination of these. Given a collection of text, for example, regular expressions might help you find dates or telephone numbers or URLs or email addresses -- all of these obey certain formatting rules. \n",
    "\n",
    "Regular expressions, then, are a way to describe these formatting rules so that we can search a body of text for them. Sometimes we are doing this because we want to find lists of facts about people (email addresses and their telephone numbers, say), creating structured data out of unstructured data (a common theme in this class). And sometimes we appeal to regular expressions because they help us in the act of \"cleaning\" data -- we might be given a date column in a data set that contains dates in two different formats (y-m-d and m/d/y, say) and we need to transform them into just one consistent format throughout. \n",
    "\n",
    "The patterns we express might also be about content. Can we detect the gender of sources? Can we find new memes in a stack of text? Unlike the proto-natural language processing we saw with TextBlob, regular expressions deal with words as patterns of characters. There is no understanding here about parts of speech or grammar. Just patterns of symbols -- characters, numbers, and emoji, even.\n",
    "\n",
    "**Trump's Press Conference**\n",
    "\n",
    "To explain how regular expressions work, we will look at a large collection of text -- the transcript of his Press Conference from February 16th. Lots of things were discussed and we can sort through topics, his speech patterns and so on.\n",
    "\n",
    "[The full transcript is here](http://compute-cuj.org/transcropt.txt)\n",
    "\n",
    "[A file with just sentences spoken by Trump is here](http://compute-cuj.org/just_trump_sentences.txt)\n",
    "\n",
    "You can download the file in a browser window and save it to your computer or you can use urlretrieve() to access the file from Python directly. To keep things automated and in the notebook, let's see how to do the latter."
   ]
  },
  {
   "cell_type": "code",
   "execution_count": null,
   "metadata": {
    "collapsed": false
   },
   "outputs": [],
   "source": [
    "from urllib import urlretrieve\n",
    "\n",
    "urlretrieve(\"http://compute-cuj.org/just_trump_sentences.txt\",\"sentences.txt\")\n",
    "sentences = open(\"sentences.txt\").readlines()\n",
    "\n",
    "print \"The object 'sentences' is of type\", type(sentences)\n",
    "print \"There are\", len(sentences), \"sentences in the list\"\n",
    "print \"\\n\"\n",
    "\n",
    "sentences[:10]"
   ]
  },
  {
   "cell_type": "markdown",
   "metadata": {},
   "source": [
    "**Aside: List comprehensions**\n",
    "\n",
    "Notice that each sentence has a \"newline\" at the end of it, the \\n character. We can remove these from the end of each sentence using a 'list comprehension.' This is a new piece of Python syntax that lets us create new lists from old ones, transforming each element of the old list. It is an alternative to a loop, and is, well, pretty snazzy. \n",
    "\n",
    "If we wanted to remove the \\n from each sentence we might do something like the following if we had to use a loop. It goes over each sentence and strip()'s off the whitespace from the start and end of the string. Whitespace includes spaces and tabs and newlines."
   ]
  },
  {
   "cell_type": "code",
   "execution_count": null,
   "metadata": {
    "collapsed": false
   },
   "outputs": [],
   "source": [
    "new_sentences = []\n",
    "\n",
    "for s in sentences:\n",
    "    new_sentences.append(s.strip())\n",
    "    \n",
    "new_sentences[:10]"
   ]
  },
  {
   "cell_type": "markdown",
   "metadata": {},
   "source": [
    "Here, we iterate through the list ofsentences. Each sentence is strip()'d, has all the \"white space\" removed from its front and back end, and then appended to the new_sentences list. I hope you agree that this is kind of clunky notation. \n",
    "\n",
    "A \"list comprehension\" is a cleaner way to accomplish the same thing. So, let's reread the data and apply this new code construction."
   ]
  },
  {
   "cell_type": "code",
   "execution_count": null,
   "metadata": {
    "collapsed": false
   },
   "outputs": [],
   "source": [
    "sentences = open(\"sentences.txt\").readlines()\n",
    "sentences = [s.strip() for s in sentences]\n",
    "\n",
    "sentences[:10]"
   ]
  },
  {
   "cell_type": "markdown",
   "metadata": {},
   "source": [
    "The second expression above says that we cycle through all the elements in \"sentences\", letting the variable name \"s\" represent each one in turn. The first element, for example, becomes the start of a new list, and it has had .strip() applied to it. The second element is then strip()'d and stored in the new list and so on. As you can see, a list comprehension reads like our loop in the previous cell and behaves similarly -- but it is syntactically nicer. \n",
    "\n",
    "You can also limit the number of results included in the new list by adding an \"if\" clause. As the list comprehension is running through the elements of the old list, it can chose whether or not to incude it in the new list. In the next line of code, for example, we keep only sentences that contain the word \"Thanks\". In terms of programming, we do this by counting the number of times \"Thanks\" occurs in the string and take only those that have a count bigger than 0.\n",
    "\n",
    "Again, the expression below runs through each entry in the list \"sentences\", labeling them \"s\" in turn, and keeps only those with at least one occurrence of the word \"Thanks\". (Here we don't save the new, reduced and transformed list -- we just have a look at it.) "
   ]
  },
  {
   "cell_type": "markdown",
   "metadata": {},
   "source": [
    "By way of comparison, here is a loop that does essentially the same thing. It's a lot clunkier, right?"
   ]
  },
  {
   "cell_type": "code",
   "execution_count": null,
   "metadata": {
    "collapsed": false
   },
   "outputs": [],
   "source": [
    "[s for s in sentences if s.count(\"fake\")]"
   ]
  },
  {
   "cell_type": "code",
   "execution_count": null,
   "metadata": {
    "collapsed": false
   },
   "outputs": [],
   "source": [
    "new_sentences = []\n",
    "\n",
    "for s in sentences:\n",
    "    if s.count(\"fake\"):\n",
    "        new_sentences.append(s)\n",
    "        \n",
    "new_sentences"
   ]
  },
  {
   "cell_type": "markdown",
   "metadata": {},
   "source": [
    "That's list comprehensions -- new lists from old with a syntax that's a lot cleaner to read than a loop. We'll be using them for the remainder of this drill. \n",
    "\n",
    "**Back to the transcript and regular expressions**\n",
    "\n",
    "Python implements the regular expression search framework through a package called \"re\" (aptly named). We are going to make use of the search() function in this package. It takes a pattern definition (a regular expression) and searches for it in a string, returning every match it finds. You can use this in a list comprehension because when a search() finds a regular expression pattern it is treated as True in an \"if\" statement. When it can't find the pattern, it is treated as False."
   ]
  },
  {
   "cell_type": "code",
   "execution_count": null,
   "metadata": {
    "collapsed": true
   },
   "outputs": [],
   "source": [
    "from re import search"
   ]
  },
  {
   "cell_type": "markdown",
   "metadata": {},
   "source": [
    "**Literals**. As a way of specifying patterns, let's start with so-called \"literals\" -- these characters just match themselves. For example, the literal *\"fake\"* matches the following sentences from Trump’s transcript. This should be equivalent to the results we had by using the string method .count(). "
   ]
  },
  {
   "cell_type": "code",
   "execution_count": null,
   "metadata": {
    "collapsed": false
   },
   "outputs": [],
   "source": [
    "[s for s in sentences if search(\"fake\",s)]"
   ]
  },
  {
   "cell_type": "markdown",
   "metadata": {},
   "source": [
    "Replace the literal *\"fake\"* with a search for *\"education\"\n",
    "*. Do you find any sentences matching this pattern? What other searches like this might you do to highlight sentences about education? Or other topics that this search suggests."
   ]
  },
  {
   "cell_type": "code",
   "execution_count": null,
   "metadata": {
    "collapsed": true
   },
   "outputs": [],
   "source": [
    "# your code here\n"
   ]
  },
  {
   "cell_type": "markdown",
   "metadata": {},
   "source": [
    "**Metacharacters**. Any character except for [ ]\\\\^\\$.|?\\*+( )\\{ and \\} can be used to specify a literal -- they\n",
    "match a single instance of themselves. The string *\"fake\"* represented a series of literals and to have a match we need to find a \"f\" followed by an \"a\" followed by an \"k\" and so on. The non-literals, on the other hand, are known as **metacharacters** and are used to specify much more complicated text patterns.\n",
    "\n",
    "They help us specify \"whitespace,\" word boundaries, sets or classes of literals, the beginning and end of a line, and various alternatives (\"war\" or \"peace\"). For example **^ represents the start of a line.** Let's look at what we get by searching Jeb's email for a pattern than includes this character."
   ]
  },
  {
   "cell_type": "code",
   "execution_count": null,
   "metadata": {
    "collapsed": false
   },
   "outputs": [],
   "source": [
    "[s for s in sentences if search(\"^I think\",s)]"
   ]
  },
  {
   "cell_type": "markdown",
   "metadata": {},
   "source": [
    "Try a new sentence starter and see what you find..."
   ]
  },
  {
   "cell_type": "code",
   "execution_count": null,
   "metadata": {
    "collapsed": true
   },
   "outputs": [],
   "source": [
    "# your code here\n"
   ]
  },
  {
   "cell_type": "markdown",
   "metadata": {},
   "source": [
    "To interpret what a regular expression is doing, we can use a special tool from [regexper.com](http://regexper.com/). It takes regular expressions and renders them graphically so you can get a better sense of how the machinery is functioning. For example, here is the display for our *\"^I think\"* example.\n",
    "\n",
    "[Graphical view of the pattern \"^I think\"](http://regexper.com/#%5EI%20think)\n",
    "\n",
    "You see a window where you can change the regular expression and then a graphical interpretation of what you've asked for. This is an extremely handy tool. \n",
    "\n",
    "Now, if specifying the start of a line is important, having a special character for the end of a line is likely to be handy also. **The \\$ represents the end of a line.** Consider the pattern *\"do.\\$\"*. Here are the lines it matches from Jeb's email. Do you notice anything odd here?\n"
   ]
  },
  {
   "cell_type": "code",
   "execution_count": null,
   "metadata": {
    "collapsed": false
   },
   "outputs": [],
   "source": [
    "[s for s in sentences if search(\"remember.$\",s)]"
   ]
  },
  {
   "cell_type": "markdown",
   "metadata": {},
   "source": [
    "Notice that we have sentences that end \"remember?\" as well as \"remember.\". that's because the dot, \".\", represents a wildcard and is used to refer to any character. So, *remember.\\$* will match lines that end in \"remember.\" or \"remember?\" or even \"remember9\" (should the transcriber be typing sloppily one day). Have a look at this at regexper.com.\n",
    "\n",
    "[Graphical view of the pattern \"remember.\\$\"](http://regexper.com/#remember.%24)\n",
    "\n",
    "Putting a backslash \\\\ before one of the special metacharacters [ ] \\\\^\\$/?\\*+()\\{ and \\} lets us include these in a pattern as literals -- in technical terms, we have \"escaped\" the special meaning of these characters. Consider the pattern *\"\\\\\\$1\"*. With the backslash, we have returned the dollar sign to its orginal meaning and the following lines will match sentences the Trump transcript. \n",
    "\n",
    ">Since my election, Ford announced it will abandon its plans to build a new factory in Mexico, and will instead invest \\$700 million in Michigan, creating many, many jobs.\n",
    "<br><br>\n",
    "Fiat Chrysler announced it will invest \\$1 billion in Ohio and Michigan, creating 2,000 new American jobs.\n",
    "\n",
    "\n",
    "And to bring the point home, look at the following.\n",
    "\n",
    "[Graphical view of the pattern \"\\\\\\$1\"](http://regexper.com/#%5C%241)\n",
    "\n",
    "So, given this, what do we need to do to match sentences ending with the word \"remember\" followed by a period?"
   ]
  },
  {
   "cell_type": "code",
   "execution_count": null,
   "metadata": {
    "collapsed": true
   },
   "outputs": [],
   "source": [
    "# your code here"
   ]
  },
  {
   "cell_type": "markdown",
   "metadata": {},
   "source": [
    "**A character class matches a single character out of all the possibilities contained in brackets, [  ]** — There are certain rules that apply when specifying these classes that we’ll get to in a second. Let's look at the pattern *\"[Tt]hanks\"* and see what lines it matches in the transcript."
   ]
  },
  {
   "cell_type": "code",
   "execution_count": null,
   "metadata": {
    "collapsed": false
   },
   "outputs": [],
   "source": [
    "[s for s in sentences if search(\"[Tt]hank\",s)]"
   ]
  },
  {
   "cell_type": "markdown",
   "metadata": {},
   "source": [
    "[Graphical view of the pattern \"[Tt]hank\"](http://regexper.com/#%5BTt%5Dhank)\n",
    "\n",
    "Keep in mind that while there might be lots of options in the square brackets, we are only trying to match one character out of this group. The graphical display makes this clear. We'll talk about specifying more than one match in a few minutes.\n",
    "\n",
    "In terms of the rules that work within character classes, you can specify a range of letters [a-z] or [A-Z] or numbers [0-9] — Keep in mind that the order within the character class doesn’t matter, it specifies a bag of characters from which we select one item. Let's look at the pattern *\"[0-9] years\"* and see which sentences it will match."
   ]
  },
  {
   "cell_type": "code",
   "execution_count": null,
   "metadata": {
    "collapsed": false
   },
   "outputs": [],
   "source": [
    "[s for s in sentences if search(\"[0-9] years\",s)]"
   ]
  },
  {
   "cell_type": "markdown",
   "metadata": {},
   "source": [
    "[Graphical view of the pattern \"[0-9] years\"](http://regexper.com/#%5B0-9%5D%20years)\n",
    "\n",
    "**When used at the beginning of a character class ^ is also a metacharacter and it indicates matching characters NOT in the indicated class.** So the pattern *\"[^?.]\\$\"* will match sentences that don't end in a period or a question mark (you don't have to \"escape\" characters in a character class -- or between [ and ]). "
   ]
  },
  {
   "cell_type": "code",
   "execution_count": null,
   "metadata": {
    "collapsed": false
   },
   "outputs": [],
   "source": [
    "[s for s in sentences if search(\"[^?.]$\",s)]"
   ]
  },
  {
   "cell_type": "markdown",
   "metadata": {},
   "source": [
    "We see a large number of exclamations in this list. And, here is the graphical representation.\n",
    "\n",
    "[Graphical view of the pattern \"[^?.]\\$\"](http://regexper.com/#%5B%5E%3F.%5D%24)\n",
    "\n",
    "Continuing on our survey of metacharacters, the vertical bar \"|\" translates to “or” — We can use it to combine expressions, the subexpressions being called alternatives. The expression *\"remember|forget\"* will match these lines from transcript file."
   ]
  },
  {
   "cell_type": "code",
   "execution_count": null,
   "metadata": {
    "collapsed": false
   },
   "outputs": [],
   "source": [
    "[s for s in sentences if search(\"remember|forget\",s)]"
   ]
  },
  {
   "cell_type": "markdown",
   "metadata": {},
   "source": [
    "Of course we can join several alternatives. Consider *\"year|month|day\"*."
   ]
  },
  {
   "cell_type": "code",
   "execution_count": null,
   "metadata": {
    "collapsed": false
   },
   "outputs": [],
   "source": [
    "[s for s in sentences if search(\"day|month|year\",s)]"
   ]
  },
  {
   "cell_type": "markdown",
   "metadata": {},
   "source": [
    "Here we see a lot of matches to patterns like \"Saturday\" or \"today\". Both contain the literal *\"day\"* but they might not be what we had in mind. What we need is to be able to specify a word boundary (like punctuation or a space or the end/start of the line) to isolate specific words and not pieces of words. More on that shortly.\n",
    "\n",
    "[Graphical view of the pattern \"year|month|day\"](http://regexper.com/#year%7Cmonth%7Cday)\n",
    "\n",
    "The alternatives an be real expressions and not just literals. What does the pattern *\"^[Kk]ate|email\\\\.\\$\"* do? Try it out, it matches these lines from our April 2000 emails."
   ]
  },
  {
   "cell_type": "code",
   "execution_count": null,
   "metadata": {
    "collapsed": false
   },
   "outputs": [],
   "source": [
    "[s for s in sentences if search(\"^[Ww]atch|OK\\?$\",s)]"
   ]
  },
  {
   "cell_type": "markdown",
   "metadata": {},
   "source": [
    "And again, regexper.com to help us out.\n",
    "\n",
    "[Graphical view of the pattern \"^[Ww]atch|OK\\\\?\\$\"](http://regexper.com/#%5E%5BWw%5Datch%7COK%5C?%24)\n",
    "\n",
    "**Subexpressions are often contained in parentheses (more metacharacters) to constrain the\n",
    "alternatives in some way.** For example *\"^(I would|I could)\"*. Later we will see that we can identify each subexpression separately,allowing us to extract (or capture) the content they match."
   ]
  },
  {
   "cell_type": "code",
   "execution_count": null,
   "metadata": {
    "collapsed": false
   },
   "outputs": [],
   "source": [
    "[s for s in sentences if search(\"^(I would|I could)\",s)]"
   ]
  },
  {
   "cell_type": "markdown",
   "metadata": {},
   "source": [
    "And the graphical representation -- notice the new reference to groups that are formed by the parentheses.\n",
    "\n",
    "<a href=http://regexper.com/#%5E(I%20would%7CI%20could)>Graphical view of the pattern \"^(I would|I could)\"</a>\n",
    "\n",
    "We're building up quite a vocabulary. Try a more complex expression on your own."
   ]
  },
  {
   "cell_type": "code",
   "execution_count": null,
   "metadata": {
    "collapsed": true
   },
   "outputs": [],
   "source": [
    "# Your code here"
   ]
  },
  {
   "cell_type": "markdown",
   "metadata": {},
   "source": [
    "**The question mark indicates that the indicated expression is optional.** The expression *\"George( W\\\\.)? Bush\"* will match references to “George W. Bush” or just “George Bush”.\n",
    "\n",
    "<a href=http://regexper.com/#George(%20W%5C.)%3F%20Bush>Graphical view of the pattern \"George( W\\\\.)? Bush\"</a>\n",
    "\n",
    "**The \\* and + signs are metacharacters used to indicate repetition** — the \\* means “any number, including zero, of the item” and + means “at least one of the item”. So we can specify parenthetical matter with the following regular expression."
   ]
  },
  {
   "cell_type": "code",
   "execution_count": null,
   "metadata": {
    "collapsed": false
   },
   "outputs": [],
   "source": [
    "[s for s in sentences if search(\"\\(.*\\)\",s)]"
   ]
  },
  {
   "cell_type": "markdown",
   "metadata": {},
   "source": [
    "To grab phone numbers that are separated by hyphens, or maybe even social security numbers in text, we could use this expression *\"[0-9]+-[0-9]+-[0-9]+\"*. Here's a series of lines (from a data release of Jeb Bush's emails, not the Trump transcript).\n",
    "\n",
    ">Phone: 407-240-1891<br><br>In reference to your letter dated october 29, 1998 in which you offer to help me with my inmigration question, i am a us citizen who is petition for my husband (a mexican citizen) petition #SRC-98-204-50114 his name is FRANCISCO JAVIER CORTEZ HERNANDEZ.<br><br>Fax: 407-888-2445<br><br>Pager: 850-301-8072<br><br>Cell: 407-484-8167<br><br>The Reverned uses his pager# 813-303-4726 to get in contact with, or you may email\n",
    "and I will get in touch with him. <br><br>\n",
    "\n",
    "Its graphical representation is given by regexper.com: <a href=http://regexper.com/#%5B0-9%5D%2B-%5B0-9%5D%2B-%5B0-9%5D%2B>Graphical view of the pattern \"[0-9]+-[0-9]+-[0-9]+\"</a>. In words, we are looking for one or more numbers followed by a hyphen, followed by one or more numbers, and then another hyphen, and finally one or more numbers.\n",
    "\n",
    "**The curly braces \\{ and \\} are referred to as interval quantifiers** — they let us specify the minimum and maximum number of matches of an expression *\"I (\\\\w+ ){1,7}your\"* will match lines that have \"I\" and then between 1 and 7 (inclusive) words before \"your\". We know we are looking for words because \\\\w is shorthand for the character class [a-zA-Z0-9]. We will see other shorthand notation like this shortly. In the parentheses, we are looking for a word character that occurs one or more times followed by a space. \n",
    "\n",
    "As with all shorthand, \\\\w comes about because people often need to look for \"word characters\" and all the typing with the full character class in square braces is a little tedious -- \\\\w is easier and cleaner.\n",
    "\n",
    "**Note: When using shorthand character classes like \\\\w we need to specify the string as being \"raw\" meaning the backslash is taken to mean a backslash (otherwise \\\\b is interpreted as a single character meaning a backspace, and not \\\\ and then b). This is done by putting an \"r\" before the quotes defining the string.**"
   ]
  },
  {
   "cell_type": "code",
   "execution_count": null,
   "metadata": {
    "collapsed": false
   },
   "outputs": [],
   "source": [
    "[s for s in sentences if search(r\"I (\\w+ ){1,7}your\",s)]"
   ]
  },
  {
   "cell_type": "markdown",
   "metadata": {},
   "source": [
    "Its graphical representation is given by regexper.com: <a href=http://regexper.com/#I%20(%5Cw%2B%20)%7B1%2C7%7Dyour>Graphical view of the pattern \"I (\\\\w+ ){1,7}your\"</a>.\n",
    "\n",
    "Notice that the graphical display recognizes \\\\w+ as a word. Ha! Now, we can get a bit more fine-grained control over repetitions. {m,n} means at least m but not more than n matches,\n",
    "{m} means exactly m matches, and {m,} means at least m matches.\n",
    "\n",
    "With this information, how would we skim these emails for specific kinds of numbers? Credit\n",
    "card numbers? Social Security numbers?\n",
    "\n",
    "In most implementations of regular expressions, the parentheses not only limit the scope\n",
    "of alternatives divided by a “|”, but also can be used to “remember” text matched by the\n",
    "subexpression enclosed. We refer to the matched text with \\1, \\2, etc. So the expression\n",
    "*\" ([a-zA-Z]+) \\1 \"* will match these lines in Jeb Bush’s inbox from January of 2000, not Trump's transcripts.\n",
    "\n",
    ">I feel this is a **win win** situation for the Governor, the Reverend and the people that need help.<br><br>I insisted **that that** be the outcome in that court and that we did not recede from that position.<br><br>I guess you're embarrassed **that that** line got out.<br><br>\n",
    "\n",
    "The pattern is asking for repeated words. We highlighted them in the text above. Also have a look at the graphical representation of this regular expression.\n",
    "\n",
    "<a href=http://regexper.com/#%20(%5Ba-zA-Z%5D%2B)%20%5C1%20>Graphical view of the pattern \" ([a-zA-Z]+) \\1 \"</a>.\n",
    "\n",
    "Before we leave this, we can go back to *\"day|month|year\"*. The shorthand \\\\b stands for word boundaries so what we really wanted with our original search a few cells back was *\"\\b(day|month|year)\\b\"*. Let's have a look."
   ]
  },
  {
   "cell_type": "code",
   "execution_count": null,
   "metadata": {
    "collapsed": false
   },
   "outputs": [],
   "source": [
    "[s for s in sentences if search(r\"\\b(day|month*|year)\\b\",s)]"
   ]
  },
  {
   "cell_type": "code",
   "execution_count": null,
   "metadata": {
    "collapsed": false
   },
   "outputs": [],
   "source": [
    "from re import sub\n",
    "sub(r\"\\(\\w+\\)\",\"(inaudible)\",\"I don't know, Peter (ph), is that one right?\")"
   ]
  },
  {
   "cell_type": "markdown",
   "metadata": {},
   "source": [
    "The presentation here is meant to give you a flavor of how regular expressions are structured; you have seen the major metacharacters and to use them to create patterns. Below I provide a useful cheat sheet to remember what the different metacharacters mean and what some of the useful shorthand character classes are. In addition, I can recommend [an interactive cheat sheet](https://www.debuggex.com/cheatsheet/regex/python), and the site [http://www.regular-expressions.info/](http://www.regular-expressions.info/) is also an excellent resource."
   ]
  },
  {
   "cell_type": "markdown",
   "metadata": {},
   "source": [
    "**Metacharacters**\n",
    "\n",
    "<table>\n",
    "          <tr>\n",
    "            <th>Metacharacter</th>\n",
    "            <th>What does it do?</th>\n",
    "            <th>Examples</th>\n",
    "            <th>Matches</th>\n",
    "          </tr>\n",
    "          <tr>\n",
    "            <td>^</td>\n",
    "            <td>Matches beginning of line</td>\n",
    "            <td>^abc</td>\n",
    "            <td>abc, abcdef.., abc123</td>\n",
    "          </tr>\n",
    "          <tr>\n",
    "            <td>\\$</td>\n",
    "            <td>Matches end of line</td>\n",
    "            <td>abc\\$</td>\n",
    "            <td>my:abc, 123abc, theabc</td>\n",
    "          </tr>\n",
    "          <tr>\n",
    "            <td>.</td>\n",
    "            <td>Match any character</td>\n",
    "            <td>a.c</td>\n",
    "            <td>abc, asg, a123c</td>\n",
    "          </tr>\n",
    "          <tr>\n",
    "            <td>[...]</td>\n",
    "            <td>Matches one character contained in brackets</td>\n",
    "            <td>[abc]</td>\n",
    "            <td>a,b, or c</td>\n",
    "          </tr>\n",
    "          <tr>\n",
    "            <td>[^...]</td>\n",
    "            <td>Matches one character not contained in brackets</td>\n",
    "            <td>[^abc]</td>\n",
    "            <td>xyz, 123, 1de</td>\n",
    "          </tr>\n",
    "          <tr>\n",
    "            <td>[a-z]</td>\n",
    "            <td>Matches one character between 'a' and 'z'</td>\n",
    "            <td>[b-z]</td>\n",
    "            <td>bc, mind, xyz</td>\n",
    "          </tr>\n",
    "          <tr>\n",
    "            <td>\\*</td>\n",
    "            <td>Matches character before \\* 0 or more times</td>\n",
    "            <td>ab\\*c</td>\n",
    "            <td>abc, abbc, ac</td>\n",
    "          </tr>\n",
    "          <tr>\n",
    "            <td>+</td>\n",
    "            <td>Matches character before + one or more times</td>\n",
    "            <td>a+c</td>\n",
    "            <td>ac, aac, aaac,</td>\n",
    "          </tr>\n",
    "          <tr>\n",
    "            <td>?</td>\n",
    "            <td>Matches the character before the ? zero or one times. Also, used as a non-greedy match</td>\n",
    "            <td>ab?c</td>\n",
    "            <td>ac, abc</td>\n",
    "          </tr>\n",
    "          <tr>\n",
    "            <td>{x}</td>\n",
    "            <td>Match exactly 'x' number of times</td>\n",
    "            <td>(abc){2}</td>\n",
    "            <td>abcabc</td>\n",
    "          </tr>\n",
    "          <tr>\n",
    "            <td>{x,}</td>\n",
    "            <td>Match 'x' number of times or more</td>\n",
    "            <td>(abc){2,}</td>\n",
    "            <td>abcabc, abcabcabc</td>\n",
    "          </tr>\n",
    "           <tr>\n",
    "            <td>{,x}</td>\n",
    "            <td>Match up to 'x' number of times</td>\n",
    "            <td>(abc){2,}</td>\n",
    "            <td>abcabc, abcabcabc</td>\n",
    "          </tr>\n",
    "          <tr>\n",
    "            <td>{x,y}</td>\n",
    "            <td>Match between 'x' and 'y' times.</td>\n",
    "            <td>(a){2,4}</td>\n",
    "            <td>aa, aaa, aaaaa</td>\n",
    "          </tr>\n",
    "           <tr>\n",
    "            <td>|</td>\n",
    "            <td>OR operator</td>\n",
    "            <td>abc|xyz</td>\n",
    "            <td>abc or xyz</td>\n",
    "          </tr>\n",
    "          <tr>\n",
    "            <td>(...)</td>\n",
    "            <td>Capture anything matched</td>\n",
    "            <td>(a)b(c)</td>\n",
    "            <td>Captures 'a' and 'c'</td>\n",
    "          </tr>\n",
    "          <tr>\n",
    "            <td>(?:...)</td>\n",
    "            <td>Non-capturing group</td>\n",
    "            <td>(a)b(?:c)</td>\n",
    "            <td>Captures 'a' but only groups 'c'</td>\n",
    "          </tr>\n",
    "           <tr>\n",
    "            <td>\\</td>\n",
    "            <td>Escape the character after the backslash; or create a special sequence (like word boundaries, \\b, or a character representing a space, \\s.</td>\n",
    "            <td>a\\sc</td>\n",
    "            <td>a c</td>\n",
    "          </tr>\n",
    "        </table>\n",
    "\n",
    "The special \"metacharacters\" () [] {} ^ \\$ . | \\* + ?  and \\\\ become \"literals\" again if you put a \\\\ in front of them -- That is, \\\\. matches a period and is no longer the wild card. We say we have \"escaped\" the metacharacter.\n",
    "\n",
    "**Shorthand character classes**\n",
    "\n",
    "<table>\n",
    "          <tr>\n",
    "            <td>\\d</td>\n",
    "            <td>Match any digit (0-9)</td>\n",
    "          </tr>\n",
    "          <tr>\n",
    "            <td>\\D</td>\n",
    "            <td>Match any non digit</td>\n",
    "          </tr>\n",
    "          <tr>\n",
    "            <td >\\t</td>\n",
    "            <td>Match a tab</td>\n",
    "          </tr>\n",
    "          <tr>\n",
    "            <td>\\n</td>\n",
    "            <td>Match a new line</td>\n",
    "          </tr>\n",
    "          <tr>\n",
    "            <td>\\r</td>\n",
    "            <td>Match a carriage return</td>\n",
    "          </tr>\n",
    "          <tr>\n",
    "            <td>\\s</td>\n",
    "            <td>Matches a space character (space, \\t, \\r, \\n)</td>\n",
    "          </tr>\n",
    "          <tr>\n",
    "            <td>\\S</td>\n",
    "            <td>Matches any non-space character </td>\n",
    "          </tr>\n",
    "          <tr>\n",
    "            <td>\\b</td>\n",
    "            <td>Word boundary</td>\n",
    "          </tr>\n",
    "          <tr>\n",
    "            <td>\\B</td>\n",
    "            <td>Non word boundary</td>\n",
    "          </tr>\n",
    "          <tr>\n",
    "            <td>\\w</td>\n",
    "            <td>Matches any one word character [a-zA-Z_0-9]</td>\n",
    "          </tr>\n",
    "          <tr>\n",
    "            <td>\\W</td>\n",
    "            <td>Matches any one non word character</td>\n",
    "          </tr>\n",
    "          </table>"
   ]
  },
  {
   "cell_type": "markdown",
   "metadata": {},
   "source": [
    "The Coming Age of Conversational Bots\n",
    "--------------------------------------\n",
    "<hr>\n",
    "<img src=\"https://cdn-images-1.medium.com/max/1000/1*-uuhR1UX709LfUnDiS30Rg.png\"  style=\"width: 65%;\"/>\n",
    "<br>\n",
    "\n"
   ]
  },
  {
   "cell_type": "markdown",
   "metadata": {},
   "source": [
    "While bots are very exicting to build, study and play around with, its also useful to survey the technology and media industries so we have a better sense of what we are dealing with. Bots are just another medium, and if history has shown us anything - its that communication mediums change. The evolution (or adaptation) of both tech and media industries affects the very nature of transmission, reception and assimilation of information. As these standards evolve, the medium through which people receive news alters. With a new medium, comes newer opportunities to experiment with news delivery, and newer metrics to judge performance with. \n",
    "\n",
    "So in this session, we will try to focus on three things: \n",
    "\n",
    "1. Understand why bots are popular again (all of a sudden). \n",
    "2. Why would people want to chat with \"the news\"? Will the media adapt? \n",
    "3. What aspects of conversation are machines good at ? And what aspects are humans better than machines at? "
   ]
  },
  {
   "cell_type": "markdown",
   "metadata": {
    "collapsed": true
   },
   "source": [
    "## 1. Why now? \n",
    "\n",
    "** Everything old is new again. ** \n",
    "\n",
    "A new paradigm is ushered because there were inefficiencies in the previous paradigm, either present in the design or caused by evolutionary usage. Lets start with that 1980s supercomputer in your pocket- the smartphone. Think about the apps on your phone. You can launch every app independenlty. But there are also digital assistants trying to become a central intelligene in your phone, through which you communicate with some of the apps. Apple’s Siri, Amazon’s Alexa, Facebook’s M, Google Now and Microsoft’s Cortana all provide a single interface to control specific app capabilities. However, none of them allow us to do anything drastically advanced other than reducing the number of taps we make on a phone.\n",
    "\n",
    "What exactly is better than.. *theres an app for that* ? The way humans perceive personal assistants is changing, as the word personal starts to take precedence over the assistant role. It may be only a matter of time until conversational agents invade consumer markets. There is [growing anticipation](http://observer.com/2016/01/2016-will-be-the-year-of-conversational-commerce/) because stats around user interactions with chat bots vs. app usage is incredible. \n",
    "\n",
    "Both the AppStore and Google Play host over 1.5 M apps each. Yet *on average, the number of apps downloaded by a person in the US every month is zero*. It seems like another paradigm shift is happening - the onset of messaging. Here are four main indicators that messaging is making apps irrelevant: \n",
    "\n",
    "1. App download slows considerably: \n",
    "    - Apps aren’t dying. But the entire space is collapsing, just like so many other industries before it. Its too crowded now, too hard to break in, numerous forced taps just for on-boarding and countless separate interfaces to keep track. Apps come with their own friction components — walled gardens, sign-up drags, untimely push notifications and re-installs. Both app makers and app users are getting increasingly frustrated with the ecosystem.\n",
    "    - App transition is costly. As a panacea, bots within WeChat enable its 600m monthly users to book taxis, or check in for flights, or buy cinema tickets, or manage banking and reserve doctors’ appointments without ever leaving the app. \n",
    "2. User Retention is poor: \n",
    "    - It is incredibly hard to make an app and keep people interested or engaged. On average, the Daily Average Users of an app drops to 77% within the first 3 days, and by a stunning 95% in first 3 months. \n",
    "3. Artificial Intelligence is improving: \n",
    "    - There are many things happening in the AI space, in the subfields of computer vision, natural language processing, algorithmic art, speech recognition etc. The field most applicable to bots is natural language understanding. \n",
    "    - Current state of bot intelligence is somewhat of an ugly marriage of bits of AI which kind of works and lots of hand coding ([but this can change soon, yes scientists are on it](http://www.wildml.com/2016/04/deep-learning-for-chatbots-part-1-introduction/)). To be honest, the bot world AI is still waiting for a  Pokémon Go moment with a giant breakout hit, but [we are getting there (in a fun way)](https://www.theguardian.com/technology/2016/jun/28/chatbot-ai-lawyer-donotpay-parking-tickets-london-new-york?CMP=share_btn_tw)\n",
    "4. Messaging usage is outgrowing app usage:\n",
    "    - The big 4 messsaging platforms now have more users than the big 4 social networks! Can you name them ?\n",
    "    - As an example, 40% of US teens use [Kik](https://en.wikipedia.org/wiki/Kik_Messenger) ! \n",
    "    \n",
    "This isn't a drill, its the biggest internet phenomena since the app store. \n",
    "<hr>"
   ]
  },
  {
   "cell_type": "markdown",
   "metadata": {},
   "source": [
    "### 1.1 What problems can bots solve ?\n",
    "\n",
    "While the bot industry is still in its early days, bot developers have already created many useful bots. Betaworks opened applications for [BotCamp](https://betaworks.com/botcamp/), a 90-day pre-seed program for chat bot startups. BotCamp was set to accept 10 companies, with each receiving some pre-seed funding. These companies would work out of the Betaworks Studios space in Manhattan’s Meatpacking district.\n",
    "\n",
    "We got many amazing applications, with people building bots in many verticals. This is the distribution of industries in which people were building bots. \n",
    "<br><br> \n",
    "<img src=\"http://sumandebroy.com/columbia/images/botcamp1.png\" style=\"width: 70%;\"/>\n",
    "<br>\n",
    "\n",
    "We did get 6% applications for bots in news media. "
   ]
  },
  {
   "cell_type": "markdown",
   "metadata": {},
   "source": [
    "\n",
    "### 1.2 On what platforms do bots exist?\n",
    "\n",
    "Platforms are important, because a bot's response must be tuned to the demographics, behavior and interaction patterns which is characteristic of the specific platform.\n",
    "\n",
    "<hr>\n",
    "<img src=\"http://sumandebroy.com/columbia/images/botcamp2.png\" style=\"width: 75%;\"/>\n",
    "<br>\n",
    "\n",
    "\n",
    "1 in 6 people in the world use facebook messenger, while sms is still popular (think 2-fact auth is the simplest transactional exchange).\n"
   ]
  },
  {
   "cell_type": "markdown",
   "metadata": {},
   "source": [
    "### 1.3 The botscape \n",
    "\n",
    "These are exciting times for bot developers and for bot users. Even with all these entertaining and productive bots, the best is yet to come! As you can see from the histograms above, people are building bots in all kinds of platforms, from voice to messaging to social networks. \n",
    "\n",
    "Before you embark on the journey to build your first news/cause/activism/media/journalism bot, it would be good to know what tools already exists, so you can invoke them when necessary. [Here's something](https://blog.chatbot.com/the-botscape-ce7581ae69a2#.11mcnpbpk) we compliled that gives you an idea of whats happening in the bots space. If you want to build a bot for news, this pipeline is a good study.  "
   ]
  },
  {
   "cell_type": "markdown",
   "metadata": {},
   "source": [
    "<img src=\"https://cdn-images-1.medium.com/max/2000/1*x6BMYnOHZ9k4_9lxbOQTNg.jpeg\" style=\"width: 95%;\"/>"
   ]
  },
  {
   "cell_type": "markdown",
   "metadata": {},
   "source": [
    "<hr>"
   ]
  },
  {
   "cell_type": "markdown",
   "metadata": {},
   "source": [
    "## 2. Elements of Conversation\n",
    "\n",
    "But today we will be talking about conversational bots. Language holds the weight of the human condition. Epistemically, there are two key reasons we converse. One originates from the fact that we consider time valuable, and the second originates from the fact that we want to be part of a community. \n",
    "- First, conversation demands a relatively equal exchange of information. What happens when there isn't a relatively equal exchange - can you think of terms we use for such \"talk\". \n",
    "- Second, since the early days of humanity, building social ties have been a critical factor in explaining behavior. Conversation is a natural way to \"bond\" and transfer knowledge. And thus humans have a natural urge to converse.. even if its with an artificial entity. For example, the mother of all bots and one of the first bots that millions of users ever interacted with was called [\"SmarterChild\"](https://en.wikipedia.org/wiki/SmarterChild), which lived on AOL and Windows/MSN messengers. Think of it as the precursor to Siri. \n"
   ]
  },
  {
   "cell_type": "markdown",
   "metadata": {},
   "source": [
    "### 2.1 Do people *really* want to converse with a bot? What does the data say? \n",
    "\n",
    "\n",
    "Users will try to converse with a bot EVEN IF they know that the bot's soul purpose is clearly transactional.  Here are some examples of conversational messages that poncho and the digg bot sees. Whenever a new chat message comes in, we pipe it through a slack channel. Going through the channel logs can be ...overwhelming.. and eye-opening. \n",
    "\n",
    "<h1 align=\"center\"></h1>\n",
    "<hr>\n",
    "<img src=\"http://sumandebroy.com/columbia/images/cmsg1.png\" style=\"width: 65%;\"/>\n",
    "<br>\n",
    "\n",
    "And it clear that for some queries, a bot must even having some ethical sense of whether to respond or not!\n",
    "\n",
    "In our bot datasets, more than 65% of conversations/user-queries had some form of conversational elements to it. \n",
    "Which brings us to the next section - what are those conversational elements?   "
   ]
  },
  {
   "cell_type": "markdown",
   "metadata": {},
   "source": [
    "### 2.2 What elements of conversation are computable ?\n",
    "\n",
    "Spend some time to think *what constitutes as **identifiable elements** of \"conversation\"*. And then we will go ahead and examine if any of these can be modeled computaitonally ?\n",
    "\n",
    "In the ideal sense, the word \"conversation\" possesses some sort of intimacy. Intimacy is shared remembered experiences. But apart from the esoteric nature of signals that signify an intimate conversation, theoretically, there are several discernible elements of conversation that we can try to compute. \n"
   ]
  },
  {
   "cell_type": "markdown",
   "metadata": {},
   "source": [
    "\n",
    "#### Some Identifiable Elements of Conversation:\n",
    "\n",
    "| Element of Conversation | Possible Techniques to Compute/ Quantify |\n",
    "| ------ | ----------- |\n",
    "|1. Notifications/ Recalling relevant things   |  Time Series Analysis, Alerting, Keyword caches |\n",
    "|2. Learning topics in context | Topic Mining/Modeling - extract the topic from the words in text |\n",
    "|3. Understanding Social Networks (offline and online)  | Network Science, the study of the structure of how things are connected and how information flows through it |\n",
    "|4. Responding to Emotion  | Sentiment Analysis\n",
    "|5. Having Episodic Memory  | Some kind of graphical model, [see Aditi's data post](https://medium.com/@aditinair/episodic-memory-modeling-for-conversational-agents-7c82e25b06b4#.9k65cziqw). |\n",
    "|6. Portraying Personality  | Decision Tree, which is a tree-like graph or model of decisions and their possible consequences, including chance event outcomes, resource costs, and utility. |\n",
    "\n"
   ]
  },
  {
   "cell_type": "markdown",
   "metadata": {},
   "source": [
    "### 2.3 Some bot examples\n",
    "\n",
    "- **Xiaoice**\n",
    "    - [Xiaoice](http://nautil.us/issue/33/attraction/your-next-new-best-friend-might-be-a-robot) is a chat bot developed by Microsoft Research Asia. It lives within apps like Line, WeChat and Weibo and boasts a user base of over 40 million, most of who spend hours chatting with it. In truth, labeling Xiaoice as an virtual assistant is an understatement. Xiaoice can comment if you’ve had a haircut. She can suggest products to purchase based on your conversations. She will respond angrily if you antagonize her. She is emotional, talkative, friendly and personal — in addition to supporting the usual transactional applications any user would demand. She is the 6th-most active celebrity on a platform that boasts 198 monthly active users; 25% of whom have said ‘I love you’ to her. \n",
    "- **TAY**\n",
    "    - Tay was supposed to be Xiaoice's US cousin. Launched on Twitter, it had a persona of a teenage girl and had minimal AI-driven responses. However, it was quickly embarked into a journey of improper tweets and responses, so much so that Micorosft had to kill it. [Read what happened](http://www.businessinsider.com/microsoft-deletes-racist-genocidal-tweets-from-ai-chatbot-tay-2016-3?r=UK&IR=T). It is an incredible story in how bot design can go [wrong](https://medium.com/@carolinesinders/microsoft-s-tay-is-an-example-of-bad-design-d4e65bb2569f#.m1lvqu5bs). \n",
    "- **Quartz News Bot**\n",
    "    - You don't read the news anymore, you chat with it. Quartz’s app doesn’t tailor its responses to your interests; it’s based on a flow of content created by human editors, not learning algorithms. [Read more](https://www.wired.com/2016/02/with-quartzs-app-you-dont-read-the-news-you-chat-with-it/)\n",
    "- **BBC bot**\n",
    "    - The bot lets the users read and subscribe to BBC Mundo top stories within the Messenger app and get automated replies and push breaking news alerts. Its on Twitter, FB Messenger and Telegram. [Read more](http://bbcnewslabs.co.uk/2016/07/12/bots-in-newslabs/)"
   ]
  },
  {
   "cell_type": "markdown",
   "metadata": {
    "collapsed": true
   },
   "source": [
    "### 2.4 Will there be a \"clickbait\" equivalent in the bot age\n",
    "\n",
    "The most valuable metric in the impact of a bot is engagement. At its simplest, engagement is the number of back-forth conversations/interactions between the bot and some user within a certain time interval. Note this is somewhat different from the currently popular news business metric, which measures clicks. While both paradigms are trying to measure **Attention**, here's the marked difference:\n",
    "\n",
    "* Web/Apps & Clicks = Momentary attention \n",
    "* Bots & Engagement = Sustained Attention in Context. \n",
    "\n",
    "Think how this can alter the news media business (if at all). What will be the clickbait or the curiosity-gap trick of the bot age? If something becomes computable, it can be hacked - but is it possible to hack a conversation ? \n",
    "\n",
    "<br>\n",
    "<hr>"
   ]
  },
  {
   "cell_type": "markdown",
   "metadata": {},
   "source": [
    "## 3. Scripted Bots, Decision Trees and Hybrids\n",
    "\n",
    "The simplest bots are scripted bots.  Their entire interaction is hard-coded (the “script”) that determines what the bot can and cannot do.  The “script” is a [decision tree](https://en.wikipedia.org/wiki/Decision_tree) where responding to one question takes you down a specific path, which opens up a new, pre-determined set of possibilities.\n",
    "\n",
    "For example, here's how you could design dialogue for a bot that helps users decide if they should have a cookie:\n",
    "\n",
    "\n",
    "<img src= \"http://static.twentytwowords.com/wp-content/uploads/cookie.gif\" style=\"width: 40%;\"/>"
   ]
  },
  {
   "cell_type": "markdown",
   "metadata": {},
   "source": [
    "### 3.1 Both an editorial and technical problem\n",
    "\n",
    "The scripted bot is a bot that will converse with a person based entirely off of a pre-programmed script. They use a decision tree model and depending on how the user interfaces are, might also employ a dialog tree to craft structured responses. Quartz bot frame is a good example here. \n",
    "\n",
    "<img src = \"http://photos2.appleinsidercdn.com/gallery/15868-12411-Screen-Shot-2016-02-11-at-21647-PM-l.jpg\">\n",
    "\n",
    "(source: appleinsider)\n",
    "\n",
    "The only issue with purely scripted bots is, as you suspected, scale. There are only so many stories that can be scripted as interactive frames. However, lets assume writers/editors construct many \"conversational\" frames over time. Can user interaction with these frames determine which conversations users prefer ? "
   ]
  },
  {
   "cell_type": "markdown",
   "metadata": {},
   "source": [
    "### 3.2  Conversation tracking in Bots"
   ]
  },
  {
   "cell_type": "markdown",
   "metadata": {},
   "source": [
    "Every sequence of conversation frames that you design or script into a bot... can be thought of a giant network.. a connected network. And given enough interactions with *actual* users, you could identify [which nodes of the conversation are activated most often](https://en.wikipedia.org/wiki/Network_science#Network_properties), leading you to hypothesize which paths in the network are more frequent. The editors can then optimize the scripts in these paths, while pruning other paths that users hardly take.  "
   ]
  },
  {
   "cell_type": "markdown",
   "metadata": {},
   "source": [
    "Here's a visualization of which nodes (or conversation points) are most often activated by users. If we know which conversation paths users frequently take, we get to know more about which conversations they like and script better responses [read here](https://medium.com/i-data/bot-analytics-simulating-random-walks-to-predict-network-interventions-4068d38c5a71#.a54xgn6nv). \n",
    "\n",
    "Fun story, the various conversation routes that a user can choose in a scripted bot can be modeled as another mathematical object - called [the random walk](https://en.wikipedia.org/wiki/Random_walk). \n",
    "\n",
    "<img src=\"https://cdn-images-1.medium.com/max/800/1*knmsr85ePLLEqB3QQK0kLA.gif\" style=\"width: 75%;\"/>"
   ]
  },
  {
   "cell_type": "markdown",
   "metadata": {
    "collapsed": true
   },
   "source": [
    "### 3.3 Hybrid  and Automated Bots\n",
    "\n",
    "In hybrid bots, some part of the interaction is driven by scripts (pre-written) but the majority is driven by an algorithm that isn't necessarily hardcoded. Instead, the model is instead generated from the current state of the data and then fitted into a conversation template, making it sound like a natural language response. \n",
    "\n",
    "This method can lead to hybrid bots, or fully automated ones:\n",
    "- extreme mashup + silly fun , like [NYTimes Minus Contex](https://twitter.com/NYTMinusContext) (this is automated)\n",
    "- scripted-funny + data-driven responses, like: poncho, xiaoice \n",
    "- scripted-onboarding + data-driven responses, like: digg, tay \n",
    "\n",
    "As Natural Language Processing becomes smarter, we will be able to do more fun things with bots at scale. The two key areas that is making lots of progress is (1) NL understanding: i.e. figuring out what the chat message means in context, and (2) NL Generation, i.e. generate a NL report from data (think about baseball or financial reports written by AI)\n",
    "\n",
    "<img src=\"http://sumandebroy.com/columbia/nlg.gif\" style=\"width: 65%;\"/>\n",
    "<br>\n",
    "<hr>\n",
    "<br>"
   ]
  },
  {
   "cell_type": "markdown",
   "metadata": {},
   "source": [
    "## Next Session:\n",
    "\n",
    "- You choose a current topic that you are passionate about.\n",
    "- We give you an API, and the API will return some news stories about that topic.\n",
    "- You parse the API response, extract relevant content and frame it as a bot message.\n",
    "- In a series of 2-3 back and forth chat exchanges, you need to enlighten a user about the most current story in that topic. Sending them the full story link is not allowed.  "
   ]
  },
  {
   "cell_type": "markdown",
   "metadata": {},
   "source": [
    "Bots, a practicum\n",
    "----\n",
    "\n",
    "Suman has done an excellent job of examining the terrain for conversational bots. FastCompany also published a nice history of  a particular kind of software robot: [How The New, Improved Chatbots Rewrite 50 Years Of Bot History](http://www.fastcompany.com/3059439/why-the-new-chatbot-invasion-is-so-different-from-its-predecessors). Chatbots are really a conversation-based interfaces to services of various kinds. As you have seen, sometimes the logic behind their inner workings is incredibly complex, but other times their operation is very service-oriented and shallow. \n",
    "\n",
    "The FastCompany article makes the point that while strands of artificial intelligence research has been obsessed with making a both that was believably human (or perhaps with the potential for one), the latest incarnations of these programs exist \"to help you get things done.\" They have grown plentiful using the scale of new platforms (Facebook, Twitter, and so on) and are fit tidily into their business interests.\n",
    "\n",
    "Here's a snippet.\n",
    "\n",
    ">But over the past few years, chatbots have made a comeback. With advancements in processing power, bots now have a better ability to interpret natural language and learn from users over time. Just as importantly, big companies like Facebook, Apple, and Microsoft are now eager to host our interactions with various services, and offer tools for developers to make those services available. Chatbots easily fit into their larger business models of advertising, e-commerce, online services, and device sales. Meanwhile, services that want to reach hundreds of millions of customers on a platform like Messenger will be helping to write the chat scripts.\n",
    "<br><br>\"A lot of the things that were barriers to us back then are no longer barriers to us today because of the evolution of the way technology works,\" Hoffer says.\n",
    "<br><br>\n",
    "Crucially, these bots are meant to be useful out of the gate, ... they no longer need conversation as a crutch for mass adoption. Sure, Apple’s Siri knows how to break the ice with a few jokes, but it largely exists to help you get things done. Rival assistants from Google and Amazon don’t exhibit much personality at all. Utility is winning out because the technology allows for it.\n",
    "\n",
    "The article ends with a comment about early artificial intelligence researcher Joseph Weizenbaum. Weizenbaum created something called ELIZA, a computer program that was modeled after a psychiatrist (or an \"active listener\"). \n",
    "\n",
    ">If the latest round of chatbots succeed, they might prove that Weizenbaum, the creator of ELIZA, was right all along. These machines are not warm and cuddly replacements for the human intellect. They’re just another set of tools—an evolution of the apps that have served us for years.\n",
    "\n",
    "As an aside, Weizenbaum didn't create ELIZA as a state of the art conversational program. He was, in fact, troubled by its positive reception, and later in life he wrote about the limits of artificial intelligence. The passage below is from his 1976 text [Computer power and human reason](https://en.wikipedia.org/wiki/Computer_Power_and_Human_Reason). He closes the third chapter with this image.\n",
    "\n",
    ">Sometimes when my children were still little, my wife and I would stand over them as they lay sleeping in their beds. We spoke to each other only in silence, rehearsing a scene as old as mankind itself. It is as Ionesco told his journal: ‘Not everything is unsayable in words, only the living truth.\n",
    "\n",
    "Beautiful, right? For a data class, it's a great reminder that data will always exist at distance from lived experience. We can try to pile more and more data on a given situation or phenomenon. But no matter how big our data gets, we are still missing something. That's why we've been stressing how your choice of data is a creative act.\n",
    "\n",
    "**ELIZA**\n",
    "\n",
    "Anyway, today we are going to work on the basics of a chatbot. Below we have the ELIZA program in Python form. Execute it and interact. You type \"quit\" to get out."
   ]
  },
  {
   "cell_type": "code",
   "execution_count": null,
   "metadata": {
    "collapsed": false
   },
   "outputs": [],
   "source": [
    "from re import match, IGNORECASE\n",
    "from random import choice\n",
    " \n",
    "reflections = {\n",
    "    \"am\": \"are\",\n",
    "    \"was\": \"were\",\n",
    "    \"i\": \"you\",\n",
    "    \"i'd\": \"you would\",\n",
    "    \"i've\": \"you have\",\n",
    "    \"i'll\": \"you will\",\n",
    "    \"my\": \"your\",\n",
    "    \"are\": \"am\",\n",
    "    \"you've\": \"I have\",\n",
    "    \"you'll\": \"I will\",\n",
    "    \"your\": \"my\",\n",
    "    \"yours\": \"mine\",\n",
    "    \"you\": \"me\",\n",
    "    \"me\": \"you\"\n",
    "}\n",
    " \n",
    "actions = [\n",
    "    [r'I need (.*)',\n",
    "     [\"Why do you need {0}?\",\n",
    "      \"Would it really help you to get {0}?\",\n",
    "      \"Are you sure you need {0}?\"]],\n",
    " \n",
    "    [r'Why don\\'?t you ([^\\?]*)\\??',\n",
    "     [\"Do you really think I don't {0}?\",\n",
    "      \"Perhaps eventually I will {0}.\",\n",
    "      \"Do you really want me to {0}?\"]],\n",
    " \n",
    "    [r'Why can\\'?t I ([^\\?]*)\\??',\n",
    "     [\"Do you think you should be able to {0}?\",\n",
    "      \"If you could {0}, what would you do?\",\n",
    "      \"I don't know -- why can't you {0}?\",\n",
    "      \"Have you really tried?\"]],\n",
    " \n",
    "    [r'I can\\'?t (.*)',\n",
    "     [\"How do you know you can't {0}?\",\n",
    "      \"Perhaps you could {0} if you tried.\",\n",
    "      \"What would it take for you to {0}?\"]],\n",
    " \n",
    "    [r'I am (.*)',\n",
    "     [\"Did you come to me because you are {0}?\",\n",
    "      \"How long have you been {0}?\",\n",
    "      \"How do you feel about being {0}?\"]],\n",
    " \n",
    "    [r'I\\'?m (.*)',\n",
    "     [\"How does being {0} make you feel?\",\n",
    "      \"Do you enjoy being {0}?\",\n",
    "      \"Why do you tell me you're {0}?\",\n",
    "      \"Why do you think you're {0}?\"]],\n",
    " \n",
    "    [r'Are you ([^\\?]*)\\??',\n",
    "     [\"Why does it matter whether I am {0}?\",\n",
    "      \"Would you prefer it if I were not {0}?\",\n",
    "      \"Perhaps you believe I am {0}.\",\n",
    "      \"I may be {0} -- what do you think?\"]],\n",
    " \n",
    "    [r'What (.*)',\n",
    "     [\"Why do you ask?\",\n",
    "      \"How would an answer to that help you?\",\n",
    "      \"What do you think?\"]],\n",
    " \n",
    "    [r'How (.*)',\n",
    "     [\"How do you suppose?\",\n",
    "      \"Perhaps you can answer your own question.\",\n",
    "      \"What is it you're really asking?\"]],\n",
    " \n",
    "    [r'Because (.*)',\n",
    "     [\"Is that the real reason?\",\n",
    "      \"What other reasons come to mind?\",\n",
    "      \"Does that reason apply to anything else?\",\n",
    "      \"If {0}, what else must be true?\"]],\n",
    " \n",
    "    [r'(.*) sorry (.*)',\n",
    "     [\"There are many times when no apology is needed.\",\n",
    "      \"What feelings do you have when you apologize?\"]],\n",
    " \n",
    "    [r'Hello(.*)',\n",
    "     [\"Hello... I'm glad you could drop by today.\",\n",
    "      \"Hi there... how are you today?\",\n",
    "      \"Hello, how are you feeling today?\"]],\n",
    " \n",
    "    [r'I think (.*)',\n",
    "     [\"Do you doubt {0}?\",\n",
    "      \"Do you really think so?\",\n",
    "      \"But you're not sure {0}?\"]],\n",
    " \n",
    "    [r'(.*) friend (.*)',\n",
    "     [\"Tell me more about your friends.\",\n",
    "      \"When you think of a friend, what comes to mind?\",\n",
    "      \"Why don't you tell me about a childhood friend?\"]],\n",
    " \n",
    "    [r'Yes',\n",
    "     [\"You seem quite sure.\",\n",
    "      \"OK, but can you elaborate a bit?\"]],\n",
    " \n",
    "    [r'(.*) computer(.*)',\n",
    "     [\"Are you really talking about me?\",\n",
    "      \"Does it seem strange to talk to a computer?\",\n",
    "      \"How do computers make you feel?\",\n",
    "      \"Do you feel threatened by computers?\"]],\n",
    " \n",
    "    [r'Is it (.*)',\n",
    "     [\"Do you think it is {0}?\",\n",
    "      \"Perhaps it's {0} -- what do you think?\",\n",
    "      \"If it were {0}, what would you do?\",\n",
    "      \"It could well be that {0}.\"]],\n",
    " \n",
    "    [r'It is (.*)',\n",
    "     [\"You seem very certain.\",\n",
    "      \"If I told you that it probably isn't {0}, what would you feel?\"]],\n",
    " \n",
    "    [r'Can you ([^\\?]*)\\??',\n",
    "     [\"What makes you think I can't {0}?\",\n",
    "      \"If I could {0}, then what?\",\n",
    "      \"Why do you ask if I can {0}?\"]],\n",
    " \n",
    "    [r'Can I ([^\\?]*)\\??',\n",
    "     [\"Perhaps you don't want to {0}.\",\n",
    "      \"Do you want to be able to {0}?\",\n",
    "      \"If you could {0}, would you?\"]],\n",
    " \n",
    "    [r'You are (.*)',\n",
    "     [\"Why do you think I am {0}?\",\n",
    "      \"Does it please you to think that I'm {0}?\",\n",
    "      \"Perhaps you would like me to be {0}.\",\n",
    "      \"Perhaps you're really talking about yourself?\"]],\n",
    " \n",
    "    [r'You\\'?re (.*)',\n",
    "     [\"Why do you say I am {0}?\",\n",
    "      \"Why do you think I am {0}?\",\n",
    "      \"Are we talking about you, or me?\"]],\n",
    " \n",
    "    [r'I don\\'?t (.*)',\n",
    "     [\"Don't you really {0}?\",\n",
    "      \"Why don't you {0}?\",\n",
    "      \"Do you want to {0}?\"]],\n",
    " \n",
    "    [r'I feel (.*)',\n",
    "     [\"Good, tell me more about these feelings.\",\n",
    "      \"Do you often feel {0}?\",\n",
    "      \"When do you usually feel {0}?\",\n",
    "      \"When you feel {0}, what do you do?\"]],\n",
    " \n",
    "    [r'I have (.*)',\n",
    "     [\"Why do you tell me that you've {0}?\",\n",
    "      \"Have you really {0}?\",\n",
    "      \"Now that you have {0}, what will you do next?\"]],\n",
    " \n",
    "    [r'I would (.*)',\n",
    "     [\"Could you explain why you would {0}?\",\n",
    "      \"Why would you {0}?\",\n",
    "      \"Who else knows that you would {0}?\"]],\n",
    " \n",
    "    [r'Is there (.*)',\n",
    "     [\"Do you think there is {0}?\",\n",
    "      \"It's likely that there is {0}.\",\n",
    "      \"Would you like there to be {0}?\"]],\n",
    " \n",
    "    [r'My (.*)',\n",
    "     [\"I see, your {0}.\",\n",
    "      \"Why do you say that your {0}?\",\n",
    "      \"When your {0}, how do you feel?\"]],\n",
    " \n",
    "    [r'You (.*)',\n",
    "     [\"We should be discussing you, not me.\",\n",
    "      \"Why do you say that about me?\",\n",
    "      \"Why do you care whether I {0}?\"]],\n",
    " \n",
    "    [r'Why (.*)',\n",
    "     [\"Why don't you tell me the reason why {0}?\",\n",
    "      \"Why do you think {0}?\"]],\n",
    " \n",
    "    [r'I want (.*)',\n",
    "     [\"What would it mean to you if you got {0}?\",\n",
    "      \"Why do you want {0}?\",\n",
    "      \"What would you do if you got {0}?\",\n",
    "      \"If you got {0}, then what would you do?\"]],\n",
    " \n",
    "    [r'(.*) mother(.*)',\n",
    "     [\"Tell me more about your mother.\",\n",
    "      \"What was your relationship with your mother like?\",\n",
    "      \"How do you feel about your mother?\",\n",
    "      \"How does this relate to your feelings today?\",\n",
    "      \"Good family relations are important.\"]],\n",
    " \n",
    "    [r'(.*) father(.*)',\n",
    "     [\"Tell me more about your father.\",\n",
    "      \"How did your father make you feel?\",\n",
    "      \"How do you feel about your father?\",\n",
    "      \"Does your relationship with your father relate to your feelings today?\",\n",
    "      \"Do you have trouble showing affection with your family?\"]],\n",
    " \n",
    "    [r'(.*) child(.*)',\n",
    "     [\"Did you have close friends as a child?\",\n",
    "      \"What is your favorite childhood memory?\",\n",
    "      \"Do you remember any dreams or nightmares from childhood?\",\n",
    "      \"Did the other children sometimes tease you?\",\n",
    "      \"How do you think your childhood experiences relate to your feelings today?\"]],\n",
    " \n",
    "    [r'(.*)\\?',\n",
    "     [\"Why do you ask that?\",\n",
    "      \"Please consider whether you can answer your own question.\",\n",
    "      \"Perhaps the answer lies within yourself?\",\n",
    "      \"Why don't you tell me?\"]],\n",
    " \n",
    "    [r'quit',\n",
    "     [\"Thank you for talking with me.\",\n",
    "      \"Good-bye.\",\n",
    "      \"Thank you, that will be $150.  Have a good day!\"]],\n",
    " \n",
    "    [r'(.*)',\n",
    "     [\"Please tell me more.\",\n",
    "      \"Let's change focus a bit... Tell me about your family.\",\n",
    "      \"Can you elaborate on that?\",\n",
    "      \"Why do you say that {0}?\",\n",
    "      \"I see.\",\n",
    "      \"Very interesting.\",\n",
    "      \"{0}.\",\n",
    "      \"I see.  And what does that tell you?\",\n",
    "      \"How does that make you feel?\",\n",
    "      \"How do you feel when you say that?\"]]\n",
    "]\n",
    " \n",
    " \n",
    "def reflect(fragment):\n",
    "    \n",
    "    # Turn a string into a series of words\n",
    "    tokens = fragment.lower().split()\n",
    "    \n",
    "    # for each word...\n",
    "    for i in range(len(tokens)):\n",
    "        token = tokens[i]\n",
    "    \n",
    "        # see if the word is in the \"reflections\" list and if it\n",
    "        # is, replace it with its reflection (you -> me, say)\n",
    "        if token in reflections:\n",
    "            tokens[i] = reflections[token]\n",
    "            \n",
    "    return ' '.join(tokens)\n",
    " \n",
    " \n",
    "def respond(statement):\n",
    "    \n",
    "    # run through all the actions\n",
    "    for j in range(len(actions)):\n",
    "    \n",
    "        # for each one, see if it matches the statment that was typed\n",
    "        pattern = actions[j][0] \n",
    "        responses = actions[j][1]\n",
    "        found = match(pattern, statement.rstrip(\".!\"),IGNORECASE)\n",
    "        \n",
    "        if found:\n",
    "        \n",
    "            # for the first match, select a response at random and insert\n",
    "            # the text from the statement into ELIZA's response\n",
    "            response = choice(responses)\n",
    "            return response.format(*[reflect(g) for g in found.groups()])\n",
    " \n",
    " \n",
    "def eliza():\n",
    "    # a friendly welcome\n",
    "    print \"Hello. How are you feeling today?\"\n",
    " \n",
    "    # talk forever...\n",
    "    while True:\n",
    "        \n",
    "        # collect a statement and respond, stop the conversation on 'quit'\n",
    "        statement = raw_input(\"> \")\n",
    "        print respond(statement)\n",
    " \n",
    "        if statement == \"quit\":\n",
    "            break\n"
   ]
  },
  {
   "cell_type": "markdown",
   "metadata": {},
   "source": [
    "The final function eliza() drops you into a loop (a \"while\" loop that you \"break\" out of by typing \"quit\". The only other new thing here is that the notebook has a funciton \"raw_input\" that lets your reader type things and gives you access to their musings. Play with ELIZA a little. What do you think?"
   ]
  },
  {
   "cell_type": "code",
   "execution_count": null,
   "metadata": {
    "collapsed": false
   },
   "outputs": [],
   "source": [
    "eliza()"
   ]
  },
  {
   "cell_type": "markdown",
   "metadata": {},
   "source": [
    "Before we turn you lose, let's examine the code a little. The reflect() function turns and \"I\" into a \"you\", allowing the program to turn a user's statement \"Because I love apples\" around into the question \"If you love apples, what else must be true?\" Here is reflect() working on single phrases."
   ]
  },
  {
   "cell_type": "code",
   "execution_count": null,
   "metadata": {
    "collapsed": false
   },
   "outputs": [],
   "source": [
    "reflect(\"I am troubled\")"
   ]
  },
  {
   "cell_type": "code",
   "execution_count": null,
   "metadata": {
    "collapsed": false
   },
   "outputs": [],
   "source": [
    "reflect(\"your analysis is wrong\")"
   ]
  },
  {
   "cell_type": "markdown",
   "metadata": {},
   "source": [
    "Next, let's look at the respond() function a little more closely. There are some new code constructions here. Here is respond() in action."
   ]
  },
  {
   "cell_type": "code",
   "execution_count": null,
   "metadata": {
    "collapsed": false
   },
   "outputs": [],
   "source": [
    "respond(\"I am doing fine.\")"
   ]
  },
  {
   "cell_type": "markdown",
   "metadata": {},
   "source": [
    "Below we take the same function but add a number of print statements to see what it's doing. The new function is called irespond() instead, to avoid confusion. "
   ]
  },
  {
   "cell_type": "code",
   "execution_count": null,
   "metadata": {
    "collapsed": false
   },
   "outputs": [],
   "source": [
    "from pprint import pprint\n",
    "\n",
    "def irespond(statement):\n",
    "    \n",
    "    # run through all the actions\n",
    "    for j in range(len(actions)):\n",
    "        \n",
    "        # for each one, see if it matches the statment that was typed\n",
    "        pattern = actions[j][0] \n",
    "        responses = actions[j][1]\n",
    "        found = match(pattern, statement.rstrip(\".!\"),IGNORECASE)\n",
    "        \n",
    "        if found:\n",
    "            \n",
    "            # for the first match, select a response at random and insert\n",
    "            # the text from the statement into ELIZA's response\n",
    "            \n",
    "            print \"Found pattern:\"\n",
    "            print pattern\n",
    "            print \"--\"*5\n",
    "            print \"Choosing between responses:\"\n",
    "            pprint(responses)\n",
    "            \n",
    "            response = choice(responses)            \n",
    "\n",
    "            print \"--\"*5\n",
    "            print \"The matched groups:\"\n",
    "            pprint([reflect(g) for g in found.groups()])\n",
    "            print \"--\"*5\n",
    "            \n",
    "            print \"ELIZA's response:\"\n",
    "            print response.format(*[reflect(g) for g in found.groups()])\n",
    "            print \"--\"*5\n",
    "            \n",
    "            return           "
   ]
  },
  {
   "cell_type": "code",
   "execution_count": null,
   "metadata": {
    "collapsed": false
   },
   "outputs": [],
   "source": [
    "irespond(\"My dog.\")"
   ]
  },
  {
   "cell_type": "markdown",
   "metadata": {},
   "source": [
    "The responses have references that look like \"{0}\" and \"{1}\" and so on. Given a string with these special character strings, the method format() will substitute its first argument for \"{0}\", its second for \"{1}\" and so on. Here we make two substitutions."
   ]
  },
  {
   "cell_type": "code",
   "execution_count": null,
   "metadata": {
    "collapsed": false
   },
   "outputs": [],
   "source": [
    "\"Not everything is {0} in words, only {1}\".format(\"sayable\",\"the living truth.\")"
   ]
  },
  {
   "cell_type": "markdown",
   "metadata": {},
   "source": [
    "The only other magic is the \"\\*\" inside the format() call in irespond() and respond(). What the star notation does is take a list and make it like each element is another argument for the function. So the list below has two elements, two strings, and the star make the call below just like the one above. The first element of the list is the first argument to format() and the second is the second argument. "
   ]
  },
  {
   "cell_type": "code",
   "execution_count": null,
   "metadata": {
    "collapsed": false
   },
   "outputs": [],
   "source": [
    "\"Not everything is {0} in words, only {1}\".format(*[\"sayable\",\"the living truth.\"])"
   ]
  },
  {
   "cell_type": "markdown",
   "metadata": {},
   "source": [
    "We do this because the match() command returns a list of the groups identified in the regular expression -- the items marked out with parenthese. So above, the word \"dog\" is the only match and the groups() method returns a list with just one item. format() then takes that item and plops it into the response string, replacing \"{0}\"."
   ]
  },
  {
   "cell_type": "code",
   "execution_count": null,
   "metadata": {
    "collapsed": false
   },
   "outputs": [],
   "source": [
    "irespond(\"do you think my mother would approve?\")"
   ]
  },
  {
   "cell_type": "code",
   "execution_count": null,
   "metadata": {
    "collapsed": false
   },
   "outputs": [],
   "source": [
    "irespond(\"I'm sad.\")"
   ]
  },
  {
   "cell_type": "markdown",
   "metadata": {},
   "source": [
    "Your turn! Start by copying and adapting the ELIZA code to fix up where it seems to get stuck, conversationally. When you are ready, start on your own bot. The more rules you rewrite the better. What are you going to talk about? What are you going to ground your conversation in? Maybe we ground it in Trump commentary (unless you're exhausted -- I'll understand)? [Here](https://www.nytimes.com/2016/11/18/technology/automated-pro-trump-bots-overwhelmed-pro-clinton-messages-researchers-say.html?_r=0) is a great article on simple political chat bots and another one [here](https://www.askhillaryanddonald.com/assets/Sample_Questions.pdf)."
   ]
  }
 ],
 "metadata": {
  "kernelspec": {
   "display_name": "Python [default]",
   "language": "python",
   "name": "python2"
  },
  "language_info": {
   "codemirror_mode": {
    "name": "ipython",
    "version": 2
   },
   "file_extension": ".py",
   "mimetype": "text/x-python",
   "name": "python",
   "nbconvert_exporter": "python",
   "pygments_lexer": "ipython2",
   "version": "2.7.12"
  }
 },
 "nbformat": 4,
 "nbformat_minor": 0
}
