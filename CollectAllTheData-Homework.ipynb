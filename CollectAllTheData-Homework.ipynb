{
 "cells": [
  {
   "cell_type": "markdown",
   "metadata": {
    "collapsed": true
   },
   "source": [
    "&#x1f392; Homework &#x1f392;\n",
    "-------\n",
    "\n",
    "**First**, we want to create a proper data set around the Senators:\n",
    "1. information about each candidate\n",
    "2. news\n",
    "3. video clips\n",
    "4. and more!\n",
    "\n",
    "You already know how to do #1 and #2. Use the [YouTube Data API](https://developers.google.com/youtube/v3/getting-started) to get #3. What else could you include in this data set? Campaign contributions? Voting records? Pull down and store as much information about each candidate as you can.\n",
    "\n",
    "Other APIs that might be helpful:\n",
    "https://developers.google.com/youtube/v3/getting-started\n",
    "https://www.govtrack.us/developers/api\n",
    "https://propublica.github.io/campaign-finance-api-docs/\n",
    "\n",
    "\n",
    "**Second**, how will you interact with this data? Say I want to get the latest news and video clips on Ron Wyden or Kirsten Gillibrand - what's the best way to query and then view/read/watch that? Seems like all of the bot work you've been doing could be a good interface for interacting with this data set...\n",
    "\n",
    "**Third**, we are going to start next week on algorithmic recommender systems. Since you have just used the YouTube API, we thought you could have a look at the [YouTube AI recommender.](https://www.infoq.com/news/2016/09/How-YouTube-Recommendation-Works) There have been a few examples analyzing how the AI recommender system works. \n",
    "\n",
    "> [YouTube’s A.I. was not neutral in the US presidential election](https://medium.com/the-graph/youtubes-ai-is-neutral-towards-clicks-but-is-biased-towards-people-and-ideas-3a2f643dea9a#.i8bozp3ht)<br>\n",
    "[FakeTube: AI-Generated News on YouTube](https://medium.com/@d1gi/faketube-ai-generated-news-on-youtube-233ad46849f9#.h6qrz9fn5)\n",
    "\n",
    "Read these over and consider examining the YouTube recommender. You can reproduce the results of one of these stories or you can launch off on your own. The readings are good at suggesting what kind of computation you might do for specific hypotheses. This is an open-ended dive, intentionally so. Have fun!"
   ]
  }
 ],
 "metadata": {
  "anaconda-cloud": {},
  "kernelspec": {
   "display_name": "Python [conda root]",
   "language": "python",
   "name": "conda-root-py"
  },
  "language_info": {
   "codemirror_mode": {
    "name": "ipython",
    "version": 2
   },
   "file_extension": ".py",
   "mimetype": "text/x-python",
   "name": "python",
   "nbconvert_exporter": "python",
   "pygments_lexer": "ipython2",
   "version": "2.7.12"
  }
 },
 "nbformat": 4,
 "nbformat_minor": 1
}
