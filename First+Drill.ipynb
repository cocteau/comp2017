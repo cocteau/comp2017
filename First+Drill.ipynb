{
 "cells": [
  {
   "cell_type": "markdown",
   "metadata": {},
   "source": [
    "Introduction \n",
    "-------------\n",
    "\n",
    "**IPyton or Jupyter Notebook**\n",
    "\n",
    "As we have mentioned, in this class our main language for computation will be [Python](http://www.python.org). It was chosen because of its emphasis on **readability and code sharing.** These and other desirable aspects of the language have helped attract a large community of users who have contributed an incredible range of capabilities to the language. Community-written code will let us pull data from web pages and PDFs, it will let us manipulate tweets and other posts from social media, and will even give us the capacity to anaylyze images and sound. *The more we see of the world as data, as open to computation in some way, our reporting skills expand and our stories become deeper.*\n",
    "\n",
    "We will program in Python (assemble Python expressions) using the Jupyter notebook -- the name \"Jupyter\" being a mix [Julia](http://julialang.org/), [Python](https://www.python.org/) and [R](https://www.r-project.org/), the three languages it originally supported. Programming with the notebook is often referred to as \"literate computing\" -- by that we mean that you code a little, have a look, write a little, come up with more ideas, code a little more, write a little more and so on. To support this, there are two kinds of \"cells\" that one can either write or program in. \n",
    "\n",
    "The writing is done in **Markdown cells**. Markdown (as opposed to Mark-up) is a language that lets you write in a plain text editor (in this simplest cases the Notepad or TextEdit would work fine too) and there are simple typographical shorthands to **make text bold** or *to put text in italics*. You can also make lists like\n",
    "\n",
    "+ Bread\n",
    "+ Milk\n",
    "+ Dog food\n",
    "+ Swiffer pads\n",
    "\n",
    "These Markdown conventions are then translated into HTML -- the upshot being that you don't have to know anything about HTML to create documents that look reasonably good, certainly good enough for your reporting notes. \n",
    "\n",
    "Double click in this window to see the \"raw\" Markdown. Notice that you can still recognize lists and emphasized text from the Markdown additions, and that's the other point of this. Your documents, while written in plain text, make use of typographical conventions that make the document's highlighting understandable even without translation to HTML. That's a good trick! \n",
    "\n",
    "You can find [the Markdown description here.](http://daringfireball.net/projects/markdown/). Don't forget that for our last class, you were expected to have gone through the [Markdown Tutorial](http://markdowntutorial.com). There might be other learning resources that we should share with the class, so let us know if you find something really helpful!\n",
    "\n",
    "*To re-render the Markdown in this cell into HTML, click in the cell and hit Shift-Enter to execute the transformation.*\n",
    "\n",
    "One last note. Many organizations (scientific research labs, journalistic organizations, and so on) are \"publishing\" dual works -- one that goes into an official journal like Science or The New York Times summarizing a set of computations, and then another that is published in the form of a notebook that documents the author's computational work. Here are some examples from science and journalism.\n",
    "\n",
    ">[Fact-Checking Facebook Politics Pages — Analysis](https://github.com/BuzzFeedNews/2016-10-facebook-fact-check/blob/master/notebooks/facebook-fact-check.ipynb). This analysis notebook was created by Jeremy Singer-Vine for a Buzzfeed article [Hyperpartisan Facebook Pages Are Publishing False And Misleading Information At An Alarming Rate](https://www.buzzfeed.com/craigsilverman/partisan-fb-pages-analysis)\n",
    "\n",
    ">[The Need for Openness in Data Journalism](http://nbviewer.jupyter.org/github/brianckeegan/Bechdel/blob/master/Bechdel_test.ipynb) by Brian Keegan. This is a little old, but Keegan makes good points about the benefits of working with a notebook.\n",
    "\n",
    ">[The Architecture of Jupyter -- Interactive by design](http://scisoftdays.org/pdf/2016_slides/perez.pdf) Starting on page 23 of this PDF, Fernando Perez, one of the designers of the Jupyter describes how notebooks have been published alongside papers in journals like Nature and Science and Scientific American, to name a few.\n",
    "\n",
    "You get the idea. There are an increasing number of projects like this -- the fact that you can take someone else's notebook and examine the steps they followed to arrive at their conclusions is, ultimately, an important step toward transparency in data or computational journalism. The notebooks become objects of coordination.\n",
    "\n",
    "**Introduction to Python: Some basic data types**\n",
    "\n",
    "Whether we code using a notebook or some other interface, our basic language will be Python. As we mentioned in class, Python is an **object-oriented language**. Software objects are a kind of programming abstraction, a particular way of organizing information and actions. Software objects try to mimic the notion of objects in the physical world -- that means they contain properties or **data** and also might have certain operations or **methods** that you can use to transform the object in some way. We used the example of one of our lovely purple rolling chairs -- it has operations (it can support you when you sit, it has a foldable arm for writing, and it can move around the room) as well as \"data\" (it has a seat height, a desk height, maybe even an RGB value specifying the lovely purple color).\n",
    "\n",
    "Python has a series of built-in types of objects, meaning certain types of information that are so basic that they are needed by just about every programming exercise you'll attempt. What might those be?\n",
    "\n",
    "As we have seen, some of the basic or built-in types of objects are really really basic like numbers (counting numbers or, more generally, integers, like 2, 5 and -3; as well as \"real\" numbers, those having a decimal point, like 5.67) and text strings (sequences of characters like \"Is he really going to make us read Trump's Tweets?\"). These data have *types* 'int' and 'float' and 'str' respectively. You can tell the type of any object in Python with a built-in function type(). Yes, some operations are so common or basic that they are also \"built-in\" as *functions*. \n",
    "\n",
    "In the lines below, we create strings (objects of type 'str') by surrounding some text with quotation marks. They can be double, single (or even triple double quotes) and Python doesn't care which as long as they match at the beginning and the end of the string. The built-in statement \"print\" will, well, print whatever follows it where we can print groups of things by separating them with commas.\n",
    "\n",
    "(For the record, we're now about to see three built-in types -- integers, real or floating point numbers, and strings -- a built-in function, type(), and a built-in statement, print. And it's only our first few cells of code!)\n",
    "\n",
    "In the first case, we look at a sequence of charactrers that constitute a string."
   ]
  },
  {
   "cell_type": "code",
   "execution_count": null,
   "metadata": {
    "collapsed": false
   },
   "outputs": [],
   "source": [
    "print \"Is he really going to make us read Trump's Tweets?\"\n",
    "print type(\"Is he really going to make us read Trump's Tweets?\")"
   ]
  },
  {
   "cell_type": "markdown",
   "metadata": {},
   "source": [
    "From strings we move to integers, numbers like 1, 5 or -3."
   ]
  },
  {
   "cell_type": "code",
   "execution_count": null,
   "metadata": {
    "collapsed": false
   },
   "outputs": [],
   "source": [
    "print 2\n",
    "print type(2)"
   ]
  },
  {
   "cell_type": "markdown",
   "metadata": {},
   "source": [
    "Change the 2 above to some other *integer* value and see that the type is the same. Now, here is real or floating point number like 2.1 or 3.14159."
   ]
  },
  {
   "cell_type": "code",
   "execution_count": null,
   "metadata": {
    "collapsed": false
   },
   "outputs": [],
   "source": [
    "print 5.7\n",
    "print type(5.7)"
   ]
  },
  {
   "cell_type": "markdown",
   "metadata": {},
   "source": [
    "Change the 5.7 above to some other number with a decimal point and see that the type is the same. \n",
    "\n",
    "It's worth being a little precise here -- although it takes us off our main course briefly. A *floating point* number is a representation of real numbers on the computer. This has some complexity because some numbers have decimal representations that never end. Take 1/3 for example -- it's 0.333333... and the 3's repeat forever. A computer can't deal with never-ending things and has to make compromises. The video below explains the difference between a *real* number like 1/3 and its *floating point* representation -- as told by a charming British man."
   ]
  },
  {
   "cell_type": "code",
   "execution_count": null,
   "metadata": {
    "collapsed": false
   },
   "outputs": [],
   "source": [
    "from IPython.display import YouTubeVideo\n",
    "YouTubeVideo('PZRI1IfStY0')"
   ]
  },
  {
   "cell_type": "markdown",
   "metadata": {},
   "source": [
    "Note that the example he references in the video of adding 0.1 and 0.2 happens in Python. This issue isn't with the language, it's with the way the computer represents numbers -- and what happends when a number has a really long representations."
   ]
  },
  {
   "cell_type": "code",
   "execution_count": null,
   "metadata": {
    "collapsed": false
   },
   "outputs": [],
   "source": [
    "0.1+0.2"
   ]
  },
  {
   "cell_type": "markdown",
   "metadata": {},
   "source": [
    "Let's leave that aside for the moment because we never want to stray too far from why we're learning this in the first place. Our goal is to use computation to heighten our understanding of the world around us. We will take an occasional detour to discuss nerdier issues since you'll see them and might wonder \"Why?\".\n",
    "\n",
    "Returning to the built-in data types, there's one more important one. It has only two values."
   ]
  },
  {
   "cell_type": "code",
   "execution_count": null,
   "metadata": {
    "collapsed": false
   },
   "outputs": [],
   "source": [
    "print True\n",
    "print type(True)"
   ]
  },
  {
   "cell_type": "markdown",
   "metadata": {},
   "source": [
    "The  data type above is called *Boolean.* It represents just two states -- true and false. Boolean data are generated by typing the special sequences of characters <font face=courier>True</font> or <font face=courier>False</font> (without quotations because they are not strings). Change the <font face=courier>True</font> in the above expression to  <font face=courier>False</font> to make sure that it, too, is a Boolean value\n",
    "\n",
    "You will primarily encounter Booleans as the output of some **logical expression.** Here are some examples of expressions that return Boolean (True/False) data. Try the expressions below -- each asks whether a relationship holds or not, is true or false.\n",
    "\n",
    "*Riddle me this: Is 3 bigger than 5?*"
   ]
  },
  {
   "cell_type": "code",
   "execution_count": null,
   "metadata": {
    "collapsed": false
   },
   "outputs": [],
   "source": [
    "print 3 > 5"
   ]
  },
  {
   "cell_type": "markdown",
   "metadata": {},
   "source": [
    "*Riddle me this: Is 10 smaller than 100?*"
   ]
  },
  {
   "cell_type": "code",
   "execution_count": null,
   "metadata": {
    "collapsed": false
   },
   "outputs": [],
   "source": [
    "print 10.0 < 100.0"
   ]
  },
  {
   "cell_type": "markdown",
   "metadata": {},
   "source": [
    "*Riddle me this: Is the letter 'e' in 'Jeb Bush'?*"
   ]
  },
  {
   "cell_type": "code",
   "execution_count": null,
   "metadata": {
    "collapsed": false
   },
   "outputs": [],
   "source": [
    "print \"e\" in \"Jeb Bush\""
   ]
  },
  {
   "cell_type": "markdown",
   "metadata": {},
   "source": [
    "*Riddle me this: Is the letter 'z' in 'Donald Trump'?*"
   ]
  },
  {
   "cell_type": "code",
   "execution_count": null,
   "metadata": {
    "collapsed": false
   },
   "outputs": [],
   "source": [
    "print \"z\" in \"Donald Trump\""
   ]
  },
  {
   "cell_type": "markdown",
   "metadata": {},
   "source": [
    "The first two logical expressions in the code above make **comparisons** while the second two test for **membership**. \n",
    "\n",
    "The Boolean type will be important when we start to write code that \"branches\" its behavior depending on whether some condition is true or false -- we might want to take one action if something is true, but another action if that thing is false. For example, we might want to analyze only the tweets coming from the President's mobile device and would use a Boolean to separate out those cases.\n",
    "\n",
    "With this in mind, sometimes, you will want to take action based on a combination of conditions. For this, we use \"and\", \"or\" and \"not\" to build more complicated expressions. \n",
    "\n",
    "*A series of logical expressions joined with 'and', for example, is True only if all the expressions are True.*"
   ]
  },
  {
   "cell_type": "code",
   "execution_count": null,
   "metadata": {
    "collapsed": false
   },
   "outputs": [],
   "source": [
    "print \"e\" in \"Jeb Bush\" and 3 < 5\n",
    "print \"z\" in \"Jeb Bush\" and 3 < 5"
   ]
  },
  {
   "cell_type": "markdown",
   "metadata": {},
   "source": [
    "*A series of conditions joined with 'or' is True if at least one expression is True.*"
   ]
  },
  {
   "cell_type": "code",
   "execution_count": null,
   "metadata": {
    "collapsed": false
   },
   "outputs": [],
   "source": [
    "print \"u\" in \"Jeb Bush\" or 3 < 5\n",
    "print 3>10 or 5>100"
   ]
  },
  {
   "cell_type": "markdown",
   "metadata": {},
   "source": [
    "*And you can flip from True to False (and vice versa) using the world 'not'. This is also called \"negation\".*"
   ]
  },
  {
   "cell_type": "code",
   "execution_count": null,
   "metadata": {
    "collapsed": false
   },
   "outputs": [],
   "source": [
    "print not \"u\" in \"Jeb Bush\"\n",
    "print 3<10 and not 5>100"
   ]
  },
  {
   "cell_type": "markdown",
   "metadata": {},
   "source": [
    "*As with simple algebraic expressions like (1+3)\\*5, we can use parentheses to make sure our expressions are evaluated in the right order.*"
   ]
  },
  {
   "cell_type": "code",
   "execution_count": null,
   "metadata": {
    "collapsed": false
   },
   "outputs": [],
   "source": [
    "print 6 > 5 or (2 > 5 and \"u\" in \"Trump\")"
   ]
  },
  {
   "cell_type": "markdown",
   "metadata": {},
   "source": [
    "Make sure you see why this evaluated to True. Finally, keep in mind, all of these expressions return a Boolean object."
   ]
  },
  {
   "cell_type": "code",
   "execution_count": null,
   "metadata": {
    "collapsed": false
   },
   "outputs": [],
   "source": [
    "print type(3<10 and not 5>100)"
   ]
  },
  {
   "cell_type": "markdown",
   "metadata": {},
   "source": [
    "Experiment a little on your own and make sure you understand how these expressions work."
   ]
  },
  {
   "cell_type": "code",
   "execution_count": null,
   "metadata": {
    "collapsed": true
   },
   "outputs": [],
   "source": [
    "# Your work here\n",
    "\n"
   ]
  },
  {
   "cell_type": "markdown",
   "metadata": {},
   "source": [
    "**Operators**\n",
    "\n",
    "Technically, all of these symbols (\">\", \"<\", \"in\", \"and\", \"or\" and \"not\") are examples of **operators** in Python. The simplest kind of operators are arithmetic. They probably would have been a better place to start (as we did in class) -- they underscore the idea that Python acts like a big calculator. Here \"+\" and \"\\*\" and \"/\" are called **arithmetic operators.**"
   ]
  },
  {
   "cell_type": "code",
   "execution_count": null,
   "metadata": {
    "collapsed": false
   },
   "outputs": [],
   "source": [
    "print 3+10\n",
    "print 100*5\n",
    "print 3*(100+2.5)"
   ]
  },
  {
   "cell_type": "markdown",
   "metadata": {},
   "source": [
    "As we have seen, Python also 'overloads' these arithmetic operators to do something sensible with various data types. For example, a common snag for Python beginners is that division with integer data leaves off the remainder. \n",
    "\n",
    "Below, 100/3 is just 33. But if at least one number in the expression is a floating point, then Python 'promotes' all the numbers to floating point (2 becomes 2.0, say) and you get a remainder back. Small point.\n",
    "\n",
    "Compare these calculations. Operators at work!"
   ]
  },
  {
   "cell_type": "code",
   "execution_count": null,
   "metadata": {
    "collapsed": false
   },
   "outputs": [],
   "source": [
    "print 100/3\n",
    "print 100.0/3"
   ]
  },
  {
   "cell_type": "markdown",
   "metadata": {},
   "source": [
    "As we have seen, this 'overloading' can be surprising. Take arithmetic operations on strings, for example..."
   ]
  },
  {
   "cell_type": "code",
   "execution_count": null,
   "metadata": {
    "collapsed": false
   },
   "outputs": [],
   "source": [
    "print 5*\"Tweets \"\n",
    "print \"Trump's\"+\" tweets\""
   ]
  },
  {
   "cell_type": "markdown",
   "metadata": {},
   "source": [
    "You can read about the various operators in Python [here](http://www.tutorialspoint.com/python/python_basic_operators.htm). It's a clean summary."
   ]
  },
  {
   "cell_type": "markdown",
   "metadata": {},
   "source": [
    "**Variables**\n",
    "\n",
    "Creating data in cells and printing it out is awesome and all, but most of what you will be doing in object-oriented programming is making and evolving objects. We can take any of the objects above and store them in a **variable**, literally associating them with a name that we can use to refer to later. The equals sign here is called an **assignment operator**. \n",
    "\n",
    "Notice that you can use variables to catch the output of all the expressions we've seen so far.  "
   ]
  },
  {
   "cell_type": "code",
   "execution_count": null,
   "metadata": {
    "collapsed": false
   },
   "outputs": [],
   "source": [
    "tweet = \"Just tried watching Saturday Night Live - unwatchable!\"\n",
    "ise = \"e\" in tweet\n",
    "\n",
    "print tweet\n",
    "print \"Is 'e' in this post?\", ise"
   ]
  },
  {
   "cell_type": "markdown",
   "metadata": {},
   "source": [
    "A new thing in the cell above. We printed out several different expressions in one line, separating each with a comma. You can chain several expressions in this way to make a tidier printout.\n",
    "\n",
    "Anyway, more examples of variables and operators -- this time with numeric data..."
   ]
  },
  {
   "cell_type": "code",
   "execution_count": null,
   "metadata": {
    "collapsed": false
   },
   "outputs": [],
   "source": [
    "x = 4.3\n",
    "y = 100.2\n",
    "\n",
    "print \"Adding x and y to get\", x+y"
   ]
  },
  {
   "cell_type": "markdown",
   "metadata": {},
   "source": [
    "... or a mix of types if the expression makes sense."
   ]
  },
  {
   "cell_type": "code",
   "execution_count": null,
   "metadata": {
    "collapsed": false
   },
   "outputs": [],
   "source": [
    "w = 5\n",
    "x = \"Trump\\t\"\n",
    "y = \"Multiplication with strings:\\n\"\n",
    "\n",
    "print y+x*w"
   ]
  },
  {
   "cell_type": "code",
   "execution_count": null,
   "metadata": {
    "collapsed": false
   },
   "outputs": [],
   "source": [
    "print u\"\\U0001f63b\""
   ]
  },
  {
   "cell_type": "markdown",
   "metadata": {},
   "source": [
    "This last cell introduces something new. The \"\\n\" in the expression above represents a **newline** character. It, well, moves your cursor to the start of a new line, and hence we see the five \"Trump\"'s on a seprate line. We also see another special character \"\\t\" for **tab**. \n",
    "\n",
    "In general, the \"\\\" is an **escape character**. It \"encodes difficult-to-type characters into a string\" like a tab or a new line. As another example, you can use \\' and \\\" to encode quotes inside a string... "
   ]
  },
  {
   "cell_type": "code",
   "execution_count": null,
   "metadata": {
    "collapsed": false
   },
   "outputs": [],
   "source": [
    "print \"He said, \\\"I cannot believe we are looking at Trump's tweets\\\"\""
   ]
  },
  {
   "cell_type": "markdown",
   "metadata": {},
   "source": [
    "Here we used double quotes to start and end our string and so we had to \"escape\" the double quotes on the inside of the string. Otherwise Python would confuse them for the start or end of our string. You can read more about escape sequences [here](https://learnpythonthehardway.org/book/ex10.html). But for the moment, it's enough to know that the backslash is a special character so that you won't be surprised when you see it. \n",
    "\n",
    "(Like when we work with emoji and need to declare them in \"Unicode\" with the \"\\U\" escape sequence. More on this later.)"
   ]
  },
  {
   "cell_type": "code",
   "execution_count": null,
   "metadata": {
    "collapsed": false
   },
   "outputs": [],
   "source": [
    "print u\"\\U0001f601\", u\"\\U0000270c\", u\"\\U0001f370\", u\"\\U0001f423\""
   ]
  },
  {
   "cell_type": "markdown",
   "metadata": {},
   "source": [
    "Finally, as we mentioned in class, if you ever need help on something, there is a built-in function called, well, help(). Remember in the last cell, we made x a string..."
   ]
  },
  {
   "cell_type": "code",
   "execution_count": null,
   "metadata": {
    "collapsed": false
   },
   "outputs": [],
   "source": [
    "help(type(x))"
   ]
  },
  {
   "cell_type": "code",
   "execution_count": null,
   "metadata": {
    "collapsed": false
   },
   "outputs": [],
   "source": [
    "help(type(w))"
   ]
  },
  {
   "cell_type": "markdown",
   "metadata": {},
   "source": [
    "Notice in the code above that the variable x was first set to equal the number 4.3 and then it was assigned a string representing a tweet. Python is flexible that way. (It's called **dynamic typing** if you want to get formal -- if you have programmed before you might know that not all languages are so loose.) \n",
    "\n",
    "Technically, when you create a variable, the name on the lefthand side of the expression is associated or \"points to\" the value you assign to it. At any time, you can have that name reassigned and point to another object. This flexibility is really handy. Here is an example that drives the point home. Variables are just names that \"point to\" objects, acting like labels. You can reapply the labels as you see fit..."
   ]
  },
  {
   "cell_type": "code",
   "execution_count": null,
   "metadata": {
    "collapsed": false
   },
   "outputs": [],
   "source": [
    "x = 3\n",
    "y = x\n",
    "print \"Here x and y are both pointing to the value 3:\", x, y\n",
    "\n",
    "y = 5\n",
    "print \"But now y points to the value 5, and x is unchanged:\", x, y"
   ]
  },
  {
   "cell_type": "markdown",
   "metadata": {},
   "source": [
    "**Objects**\n",
    "\n",
    "As we said in class, everything in Python is an **object**. Just like objects in the real world, you might be able to guess about the kinds of things you'd like to be able to do to a particular software object. \n",
    "\n",
    "As we saw in class, a string (of type 'str') is just a set of characters, for example -- what might you want to do to such an object?"
   ]
  },
  {
   "cell_type": "code",
   "execution_count": null,
   "metadata": {
    "collapsed": false
   },
   "outputs": [],
   "source": [
    "tweet = \"Just tried watching Saturday Night Live - unwatchable!\"\n",
    "\n",
    "print \"There are\",tweet.count(\"e\"),\"occurences of the letter e\",\"\\n\"\n",
    "print \"There are\",tweet.count(\"a\"),\"occurences of the letter a\",\"\\n\"\n",
    "\n",
    "print \"Make the first line all caps:\", tweet.upper()\n",
    "print \"Or all lowercase:\", tweet.lower(),\"\\n\"\n",
    "\n",
    "print \"Or swap e's for a's:\"\n",
    "print tweet.replace(\"e\",\"a\"),\"\\n\"\n",
    "\n",
    "print \"... or 'un' with 'Super ':\"\n",
    "print tweet.replace('un','Super ')"
   ]
  },
  {
   "cell_type": "markdown",
   "metadata": {},
   "source": [
    "OK even with this tiny bit of programming, we were a little dangerous. In class, we read in Trump's last 1000 tweets as a long string object and counted occurences of certain string patterns like \"RT\" or \"#\" or \"!\". Rather than continue with strings, we are going to examine another kind of basic object in Python, a **list**."
   ]
  },
  {
   "cell_type": "markdown",
   "metadata": {},
   "source": [
    "**From single variables to lists**\n",
    "\n",
    "It's one thing to store single values (a single number or a single string), but as we know, we tend to collect a lot of data different aspects of a person or thing in the world - we might offer a survey to 100 people that consists of 10 questions; or we might record facts about the last 100 of Donald Trump's tweets, including the time he tweeted and the number of retweets each earned; or we might look at the last month of the top trending topics on Facebook, recording them every 15 minutes. \n",
    "\n",
    "A **list** is simply an **ordered collection** of objects. It has a well-defined first entry, a second entry and a last entry. It can hold different kinds of objects in each position. It is constructed using square brackets [ ]. \n",
    "\n",
    "A common mistake for people learning Python is to confuse the parentheses we use to indicate a function like \"tweet.count('RT')\" with the square brackets we will use to group objects into a list. They look similar so be careful! 😉\n",
    "\n",
    "For the moment, we are going to look again at Donald Trump's most recent tweets. Again, you can have access to all Trump's Tweets through the [Trump Twitter Archive](http://www.trumptwitterarchive.com/). The underlying data [are stored here.](https://github.com/bpb27/political_twitter_archive/tree/master/realdonaldtrump) \n",
    "\n",
    "Returning to lists, here we store the 15 retweet counts for Trump's most recent tweets."
   ]
  },
  {
   "cell_type": "code",
   "execution_count": null,
   "metadata": {
    "collapsed": false
   },
   "outputs": [],
   "source": [
    "counts = [5181,3811,6146,6859,5133,5396,411,545,5564,8911,9115,22118,6877,5947,12107]\n",
    "\n",
    "print \"The type of 'counts' is\",type(counts), \"and its length is\", len(counts)"
   ]
  },
  {
   "cell_type": "markdown",
   "metadata": {},
   "source": [
    "The len() function returns the number of elements in a list, or its **length.**\n",
    "\n",
    "As an object, a list carries both data as well as methods that you can apply. What kinds of things would you like to be able to do to this type of object? \n",
    "\n",
    "*Maybe add new objects to the list? append() does that.*"
   ]
  },
  {
   "cell_type": "code",
   "execution_count": null,
   "metadata": {
    "collapsed": false
   },
   "outputs": [],
   "source": [
    "print counts\n",
    "\n",
    "counts.append(1614)\n",
    "print counts"
   ]
  },
  {
   "cell_type": "markdown",
   "metadata": {},
   "source": [
    "*Maybe sort the list? sort() does that.*"
   ]
  },
  {
   "cell_type": "code",
   "execution_count": null,
   "metadata": {
    "collapsed": false
   },
   "outputs": [],
   "source": [
    "counts.sort()\n",
    "print counts"
   ]
  },
  {
   "cell_type": "markdown",
   "metadata": {},
   "source": [
    "As a container object (an object that holds or groups other objects), the most obvious set of operations you would like to perform should involve storing and retrieveing data from the list. As we said, a list stores objects in a well-defined order. There is a first, a second, a third, and so on. You access these objects using **an index.**  A small catch: Python refers to positions starting at 0 and not at 1. So the first object has index 0, the second has index 1 and so on. \n",
    "\n",
    "Here we have a row of data from the Trump Tweet Archive. It records the \"favorite_count\", the \"source\", the actual \"text\" of the tweet, the \"in_reply_to_screen_name\", whether it \"is_retweet\", when it was \"created_at\", its \"retweet_count\", and its Twitter \"id_str\".\n",
    "\n",
    "Let's look at how we extract data from this container."
   ]
  },
  {
   "cell_type": "code",
   "execution_count": null,
   "metadata": {
    "collapsed": false
   },
   "outputs": [],
   "source": [
    "x = [21740,\"Twitter Web Client\",\"Thank you to General Motors and Walmart for starting the big jobs push back into the U.S.!\",\n",
    "     False,\"Tue Jan 17 17:55:38 +0000 2017\",5181,821415698278875136]\n",
    "\n",
    "print x, \"\\n\"\n",
    "\n",
    "print \"The list has\", len(x), \"elements\", \"\\n\"\n",
    "\n",
    "# the first element in the list has index 0\n",
    "print \"The first element:\", x[0], \"\\n\"\n",
    "\n",
    "# and the fourth has index 3\n",
    "print \"The fourth element:\", x[3], \"\\n\"\n",
    "\n",
    "# and the last has index -1 -- the negative indices count from the right!\n",
    "print \"The last element:\", x[-1], \"\\n\"\n",
    "print \"The third from the last:\", x[-3], \"\\n\"\n",
    "\n",
    "# Finally, you can pull more than one element with the : symbol to create a 'slice'\n",
    "print \"From the fourth element to the end:\", x[3:], \"\\n\"\n",
    "print \"Up to but not including the third element:\", x[:2], \"\\n\"\n",
    "print \"From the fifth up to but not including the seventh element:\", x[4:6], \"\\n\""
   ]
  },
  {
   "cell_type": "markdown",
   "metadata": {},
   "source": [
    "Just as you can pull data from a list,  you can also change the contents of one or more elements of a list."
   ]
  },
  {
   "cell_type": "code",
   "execution_count": null,
   "metadata": {
    "collapsed": false
   },
   "outputs": [],
   "source": [
    "x[0] = 6000\n",
    "print x, \"\\n\"\n",
    "\n",
    "x[2:5] = [1,10,100]\n",
    "print x"
   ]
  },
  {
   "cell_type": "markdown",
   "metadata": {},
   "source": [
    "Certain operations produce lists. For example, we can divide a character string into pieces by \"splitting\" on a character using the method split(). This gives us a crude way to pull words from a string that represents a sentence."
   ]
  },
  {
   "cell_type": "code",
   "execution_count": null,
   "metadata": {
    "collapsed": false
   },
   "outputs": [],
   "source": [
    "line = \"Thank you to General Motors and Walmart for starting the big jobs push back into the U.S.!\"\n",
    "\n",
    "# divide into substrings using the space character \" \" as a breakpoint -- this gives a rough division into words.\n",
    "rough_words = line.split(\" \")\n",
    "print rough_words\n",
    "\n",
    "print \"There are roughly\", len(rough_words), \"words in this tweet.\""
   ]
  },
  {
   "cell_type": "markdown",
   "metadata": {},
   "source": [
    "Explain here what might be wrong with this approach to pulling words from text.\n",
    "\n"
   ]
  },
  {
   "cell_type": "markdown",
   "metadata": {},
   "source": [
    "Finally, use \"e\" as a breakpoint to split the string. Make sure you understand what happened here."
   ]
  },
  {
   "cell_type": "code",
   "execution_count": null,
   "metadata": {
    "collapsed": false
   },
   "outputs": [],
   "source": [
    "print line.split(\"e\")"
   ]
  },
  {
   "cell_type": "markdown",
   "metadata": {},
   "source": [
    "Make sure you understand lists. Create one and try out forming subsets, changing values and so on."
   ]
  },
  {
   "cell_type": "code",
   "execution_count": null,
   "metadata": {
    "collapsed": true
   },
   "outputs": [],
   "source": [
    "# put your work here\n"
   ]
  },
  {
   "cell_type": "markdown",
   "metadata": {},
   "source": [
    "**Higher-level objects: A DataFrame**\n",
    "\n",
    "Let's start with a simplified version of a tweet. We'll look at the \"source\" or client the President used to author the tweet (a desktop or mobile phone, say), the time and day the tweet was posted to Twitter, and the number of retweets it received. So Each tweet consists of those three pieces of information. \n",
    "\n",
    "We will store each tweet as a list, where the first element is the source, the second is the date and the third is the retweet count. Then, in the cell below, we form a data set consisting of 6 tweets. We store each tweet (each list with the data for a tweet) in a list. Yes, a  **list of lists.**"
   ]
  },
  {
   "cell_type": "code",
   "execution_count": null,
   "metadata": {
    "collapsed": false
   },
   "outputs": [],
   "source": [
    "dat = [\n",
    "    \n",
    "    [\"Twitter Web Client\",\"Tue Jan 17 17:55:38 +0000 2017\",5181],\n",
    "    [\"Twitter Web Client\",\"Tue Jan 17 17:36:45 +0000 2017\",3811],  \n",
    "    [\"Twitter for Android\",\"Tue Jan 17 14:52:39 +0000 2017\",6146],  \n",
    "    [\"Twitter for Android\",\"Tue Jan 17 14:46:27 +0000 2017\",6859],  \n",
    "    [\"Twitter for Android\",\"Tue Jan 17 14:36:26 +0000 2017\",5133],\n",
    "    [\"Twitter for Android\",\"Tue Jan 17 14:30:19 +0000 2017\",5396]\n",
    "]\n",
    "\n",
    "print type(dat)\n",
    "print len(dat)"
   ]
  },
  {
   "cell_type": "markdown",
   "metadata": {},
   "source": [
    "This is certainly a fine way to store the data. We can select information about the third tweet by \"subsetting\" just the third row, say."
   ]
  },
  {
   "cell_type": "code",
   "execution_count": null,
   "metadata": {
    "collapsed": false
   },
   "outputs": [],
   "source": [
    "dat[2]\n",
    "\n",
    "# why 2?"
   ]
  },
  {
   "cell_type": "markdown",
   "metadata": {},
   "source": [
    "We will, from time to time, make our data sets \"by hand\" like this. Suppose, for example, we wanted to add to our tweet data, simple indicators about whether the President used an exclamation mark or we wanted to count the number of words in the tweet. We might consider building the data row by row as we did above. \n",
    "\n",
    "Our data format, the list of lists, is trying really hard to create essentially a **table**. That is, a grid of data, where each row refers to a tweet and then each column refers to a different attribute of the tweet. For our simple tweet data above, that's 6 rows and 3 columns.\n",
    "\n",
    "Interacting with even this simple data in this format is a little cumbersome. We can appeal to a higher-level object to create a proper table for us. You are probably familiar with Excel or some spreadsheet. These programs are all about tables. In Python, the answer to Excel (or a popular answer) is a so-called Pandas **DataFrame**. Pandas refers to a package contributed by a Python developer who wanted to make working with tabular data easier. \n",
    "\n",
    "[You can read more about Pandas here](http://pandas.pydata.org/)\n",
    "\n",
    "[And there are simple tutorials here](http://nbviewer.jupyter.org/github/jvns/pandas-cookbook/blob/v0.1/cookbook/Chapter%201%20-%20Reading%20from%20a%20CSV.ipynb)\n",
    "\n",
    "Pandas is a **package** that means its author has published data, functions and a host of new objects for the community to use. Whereas the built-in objects are basic and get us pretty far, often we need something special to make our lives easier. In the case of Pandas, an object of type DataFrame will help us manipulate (compute with, make graphs of, etc) simple tabular data. \n",
    "\n",
    "We can use the \"dat\" object (the list of lists) and turn it into a DataFrame using the function DataFrame(). (Yeah, that might be confusing -- the type of the object is \"DataFrame\" and the name of the function to turn your data into an object of that type is also called \"DataFrame\". This is a fairly common naming convention, and functions like this are called \"constructors.\") As arguments, it takes the data itself (the list of lists) and then optionally a list of strings that represent the column names.\n",
    "\n",
    "We **import** the function \"DataFrame\" from the pandas package first. The import command is giving us super powers to do things not built into the basic Python system. We will see this construction a lot."
   ]
  },
  {
   "cell_type": "code",
   "execution_count": null,
   "metadata": {
    "collapsed": false
   },
   "outputs": [],
   "source": [
    "from pandas import DataFrame\n",
    "\n",
    "tweets = DataFrame(dat,columns=[\"source\",\"created_at\",\"retweet_count\"])\n",
    "tweets"
   ]
  },
  {
   "cell_type": "markdown",
   "metadata": {},
   "source": [
    "Notice that the way our data looks has changed. It's much more like an actual table now with column headings and the like. The DataFrame has lots of wonderful things you can do to it -- lots of ways to compute with the data contained in the underlying table. \n",
    "\n",
    "One simple thing is just to get its size. How many rows and columns? This is an attribute, information, stored with the object that we can again access with \"dot\" notation."
   ]
  },
  {
   "cell_type": "code",
   "execution_count": null,
   "metadata": {
    "collapsed": false
   },
   "outputs": [],
   "source": [
    "tweets.shape"
   ]
  },
  {
   "cell_type": "markdown",
   "metadata": {},
   "source": [
    "Because we are looking up information and not computing something (like making strings lowercase, say), we don't need parentheses.\n",
    "\n",
    "**More with DataFrames**\n",
    " \n",
    "\n",
    "Rather than play around with this shortened data, let's read in all the tweets in the Trump Twitter Archive.\n",
    "The Twitter Trump Archive gives you the complete set of tweets from Donald Trump's account. They make the data available in two ways -- first as a table stored in a CSV (comma-separated-values) file.\n",
    "\n",
    "Have a look at the [CSV file from the archive](https://github.com/bpb27/political_twitter_archive/blob/master/realdonaldtrump/realdonaldtrump.csv), choosing to view the \"Raw Data\". For each row in the file, you will see a number of fields separated by commas. The first row of the file is called a \"header\" and gives you the names of the variables recorded on each tweet. So you will see things like \"created_at\" and the tweets' IDs. There are eight entries in the header, separated by commas, and 8 entries in every subsequent row. \n",
    "\n",
    "Each row after the first represents a tweet from the President, arranged so that the most recent are first and the oldest appear last in the file. Following the names in the header, the first entry in each row is the \"favorite_count\", the second is \"source\", the platform the President used to send the tweet, and so on. Each row arranges the data about its tweet according to the labels in the first row, and separating the entries by commas. Hence CSV.\n",
    "\n",
    "For each tweet, however, Twitter actually publishes a lot more data than these 8 fields, so this table represents a subset of the information we get when the President tweets. These 8 were probably chosen because the publishers made most frequent use of these fields in their analysis. The table format is also easy to work with. We'll return to the complete tweets in our next drill.\n",
    "\n",
    "In the cell below, we first import two functions, read_csv() and set_option(). Unlike DataFrame(), read_csv()  takes a CSV file and creates a DataFrame. Oh and it takes as its argument either the URL of a CSV or the location of a CSV file on your computer. Here we supply the URL on github.\n",
    "\n",
    "The set_option() function lets us specify options about the way our data are processed as they are turned into a DataFrame. Bascially, we can control what the lovely table above looks like. The option we will set says how many characters are printed in each cell. Because we have tweets, we want to allow for up to 140 characters."
   ]
  },
  {
   "cell_type": "code",
   "execution_count": null,
   "metadata": {
    "collapsed": false
   },
   "outputs": [],
   "source": [
    "from pandas import read_csv, set_option\n",
    "\n",
    "# set the maximum number of characters in any cell\n",
    "set_option(\"display.max_colwidth\",140)\n",
    "\n",
    "# read in the tweets from the CSV file on the Trump Twitter Archive's github page\n",
    "tweets = read_csv(\"https://github.com/bpb27/political_twitter_archive/raw/master/realdonaldtrump/realdonaldtrump.csv\")\n",
    "print type(tweets)"
   ]
  },
  {
   "cell_type": "code",
   "execution_count": null,
   "metadata": {
    "collapsed": false
   },
   "outputs": [],
   "source": [
    "tweets.shape"
   ]
  },
  {
   "cell_type": "markdown",
   "metadata": {},
   "source": [
    "So We have 30,315 tweets (rows in the table) and 8 variables recorded for each. We can have a look at the \"top\" and \"bottom\" of the data set. These are printed with head() and tail() methods."
   ]
  },
  {
   "cell_type": "code",
   "execution_count": null,
   "metadata": {
    "collapsed": false
   },
   "outputs": [],
   "source": [
    "tweets.head()"
   ]
  },
  {
   "cell_type": "code",
   "execution_count": null,
   "metadata": {
    "collapsed": false
   },
   "outputs": [],
   "source": [
    "tweets.tail()"
   ]
  },
  {
   "cell_type": "markdown",
   "metadata": {},
   "source": [
    "The head() and tail() methods of a DataFrame gives you five tweets from the start and end of the data (and you can give an argument to see more). It's important to look at the top and bottom of the file to check that everything looks consistent (column entries seem to mean what they should) and see how the data might be organized (here it's in time order of the tweet, from newest to oldest).\n",
    "\n",
    "It's typically a good idea to look at each column in a data set and determine what kind of measurement it represents -- is it qualitative or quantitative. That determination will help you decide what computations makes sense and what are a little silly. We can create simple numerical summaries of data that look like numbers (means and so on) using a method of the DataFrame object called describe(). We do this below. What do you notice? Do you see any issues with the summaries presented?"
   ]
  },
  {
   "cell_type": "code",
   "execution_count": null,
   "metadata": {
    "collapsed": false
   },
   "outputs": [],
   "source": [
    "tweets.describe()"
   ]
  },
  {
   "cell_type": "markdown",
   "metadata": {},
   "source": [
    "The numerical summaries here are applied if Python feels like the column is made of numbers. These summaries are great for quantitative data like favorite_count (What is the average favorite count for Trump's tweets?) but might not make sense for data that look like quantitative measurements but are not. Do you see any of those mistakes above? Answer in the space below.\n",
    "\n",
    ".\n",
    "\n",
    ".\n",
    "\n",
    "."
   ]
  },
  {
   "cell_type": "markdown",
   "metadata": {},
   "source": [
    "DataFrames implement a number of methods that help you extract data you might want to look at more closely. As with our list of lists, if we provide a range of numbers (a slice), we can form subsets of rows of the table. Here we select just rows 1000 through 1025..."
   ]
  },
  {
   "cell_type": "code",
   "execution_count": null,
   "metadata": {
    "collapsed": false
   },
   "outputs": [],
   "source": [
    "tweets[999:1025]"
   ]
  },
  {
   "cell_type": "markdown",
   "metadata": {},
   "source": [
    "We are often interested in extracting other kinds of subsets of data from a table and not just ranges of rows. For example, we might want to pull out all 30,315 favorite_counts in the table. We again use the square brackets, but now we just supply the name of the column we are after (or list of names if we want several columns)."
   ]
  },
  {
   "cell_type": "code",
   "execution_count": null,
   "metadata": {
    "collapsed": false
   },
   "outputs": [],
   "source": [
    "tweets[\"favorite_count\"]"
   ]
  },
  {
   "cell_type": "markdown",
   "metadata": {},
   "source": [
    "... and maybe compute the mean once we've extracted the values."
   ]
  },
  {
   "cell_type": "code",
   "execution_count": null,
   "metadata": {
    "collapsed": false
   },
   "outputs": [],
   "source": [
    "tweets[\"favorite_count\"].mean()"
   ]
  },
  {
   "cell_type": "markdown",
   "metadata": {},
   "source": [
    "Notice that the square brackets are doing very different things. In one case, we are pulling out ranges of rows and in another named columns. The designer of the software decided that these are common uses and wanted to make them easy for you. There is a more formal subset mechanism that we will discuss later. \n",
    "\n",
    "You can nest these subsetting operations as well. For example, here are the first five values of retweet_count."
   ]
  },
  {
   "cell_type": "code",
   "execution_count": null,
   "metadata": {
    "collapsed": false
   },
   "outputs": [],
   "source": [
    "tweets[\"retweet_count\"][:5]"
   ]
  },
  {
   "cell_type": "markdown",
   "metadata": {},
   "source": [
    "For qualitative data, we might summarize the different categories based on counts. Here the source of the President's tweets might be something of interest. We can create a tabulation of the different values using a method called value_counts()."
   ]
  },
  {
   "cell_type": "code",
   "execution_count": null,
   "metadata": {
    "collapsed": false
   },
   "outputs": [],
   "source": [
    "tweets[\"source\"].value_counts()"
   ]
  },
  {
   "cell_type": "code",
   "execution_count": null,
   "metadata": {
    "collapsed": true
   },
   "outputs": [],
   "source": [
    "# Pick another qualitative variable and produce a table of counts. \n",
    "# What story does it tell?\n",
    "\n",
    "\n"
   ]
  },
  {
   "cell_type": "markdown",
   "metadata": {},
   "source": [
    "If we look back at the output of describe() we see that the maximum retweet_count was 352174. That's high. We can count how many tweets had a count as high as 50000, say, by using our comparison operator, making a new data set of True's and False's and then tabulating them."
   ]
  },
  {
   "cell_type": "code",
   "execution_count": null,
   "metadata": {
    "collapsed": false
   },
   "outputs": [],
   "source": [
    "tweets[\"retweet_count\"] > 50000"
   ]
  },
  {
   "cell_type": "code",
   "execution_count": null,
   "metadata": {
    "collapsed": false
   },
   "outputs": [],
   "source": [
    "(tweets[\"retweet_count\"] > 50000).value_counts()"
   ]
  },
  {
   "cell_type": "markdown",
   "metadata": {},
   "source": [
    "We can also use booleans to subset our Data Frame. Let's look at the tweets with over 50,000 retweets. Here we see a third kind of subsetting. First it was ranges of numbers for rows. Then names (or list of names) for columns, and now Booleans to subset those rows that evaluate to True. Inside the square braces we see the logical expression two cells back."
   ]
  },
  {
   "cell_type": "code",
   "execution_count": null,
   "metadata": {
    "collapsed": false
   },
   "outputs": [],
   "source": [
    "tweets[ tweets[\"retweet_count\"] > 50000 ]"
   ]
  },
  {
   "cell_type": "markdown",
   "metadata": {},
   "source": [
    "So what we have done is extracted data, made simple summaries, and created subsets. Try making a subset on your own using whether the tweet is a retweet or not. Or maybe compare favorites or retweets by the source of the tweet."
   ]
  },
  {
   "cell_type": "code",
   "execution_count": null,
   "metadata": {
    "collapsed": true
   },
   "outputs": [],
   "source": [
    "# Put your work here\n",
    "\n"
   ]
  }
 ],
 "metadata": {
  "anaconda-cloud": {},
  "kernelspec": {
   "display_name": "Python [Root]",
   "language": "python",
   "name": "Python [Root]"
  },
  "language_info": {
   "codemirror_mode": {
    "name": "ipython",
    "version": 2
   },
   "file_extension": ".py",
   "mimetype": "text/x-python",
   "name": "python",
   "nbconvert_exporter": "python",
   "pygments_lexer": "ipython2",
   "version": "2.7.12"
  }
 },
 "nbformat": 4,
 "nbformat_minor": 0
}
