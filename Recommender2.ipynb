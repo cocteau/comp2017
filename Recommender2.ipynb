{
 "cells": [
  {
   "cell_type": "markdown",
   "metadata": {},
   "source": [
    "Collaborative baking\n",
    "-----------------------\n",
    "\n",
    "Today we are going to compute with distances. First, the recommender system we talked about last time. Since we can't recommend news articles, we'll add ingredients to recipes. We start with the incidence matrix and recall we had two ways to come up with recommended items.\n",
    "\n",
    "<img src=http://compute-cuj.org/abcabc.001.jpeg width=700>\n",
    "\n",
    "<img src=http://compute-cuj.org/abcabc.002.jpeg width=700>\n",
    "\n",
    "This was pretty straightforward (I hope). The techniques here are referred to ask \"k-nearest neighbors\" (or KNN or kNN). It's actually a pretty powerful machine learning (well, statistical) technique. And we leverage this kind of scheme all the time -- your doctor, for example, distills \"you\" into a row in a table, a height, a weight, a blood pressure, maybe some facts from your medical history. She then gives you advice about dropping a few pounds, say by what the medical profession knows about people like you. The idea is that the health outcomes of people \"similar\" to you can help predict what's around the corner for you. \n",
    "\n",
    "The key ideas here are pretty fundamental and **they have to do with distance.** Rows, for example, can be compared. In the case of collaborative filtering, we can evaluate one recipe relative to another, marking some as close (similar ingredients) and others as far (different tastes). This is a basic, mathematical abstraction that machine learning applies to all tables. Rows are points in a \"high-dimensional space\". (The same is true for columns, of course, except that it's typical to have tables -- spreadsheets-- organized so that rows refer to units of observation and columns refer to their characteristics.)\n",
    "\n",
    "Let's see an incidence matrix from our cakes data set. It is weenie, but I'm down the rabbit hole now."
   ]
  },
  {
   "cell_type": "code",
   "execution_count": null,
   "metadata": {
    "collapsed": false
   },
   "outputs": [],
   "source": [
    "from pandas import read_csv\n",
    "cakes = read_csv(\"http://compute-cuj.org/cakes.csv\")"
   ]
  },
  {
   "cell_type": "code",
   "execution_count": null,
   "metadata": {
    "collapsed": false
   },
   "outputs": [],
   "source": [
    "cakes.head(5)"
   ]
  },
  {
   "cell_type": "markdown",
   "metadata": {},
   "source": [
    "The first five rows of the `incidence` data frame. Again, the matrix holds a 0 in row i and column j if the recipe in row i is missing ingredient j. It's 1 otherwise. Remember how many cakes we had..."
   ]
  },
  {
   "cell_type": "code",
   "execution_count": null,
   "metadata": {
    "collapsed": false
   },
   "outputs": [],
   "source": [
    "cakes.shape"
   ]
  },
  {
   "cell_type": "markdown",
   "metadata": {},
   "source": [
    "So, 1,000 recipes and 381 ingredients. As we commented in the last notebook, row and column sums can be important. Summing down the columns counts how many recipes (out of 1,000) contain each ingredient. Here we `apply()` the `sum()` function down columns, indicated with `axis=0`. We sort the resuts and see that many ingredients appear just once."
   ]
  },
  {
   "cell_type": "code",
   "execution_count": null,
   "metadata": {
    "collapsed": false
   },
   "outputs": [],
   "source": [
    "cakes.apply(sum,axis=0).sort_values()"
   ]
  },
  {
   "cell_type": "markdown",
   "metadata": {},
   "source": [
    "Here we compute just how many ingredients appear in one recipe. We take the column sum and ask for a boolean outcome, `True` if there was one recipe and `False` for more. Adding these up turns `True` to 1 and `False` to zero. "
   ]
  },
  {
   "cell_type": "code",
   "execution_count": null,
   "metadata": {
    "collapsed": false
   },
   "outputs": [],
   "source": [
    "sum( cakes.apply(sum,axis=0) == 1)"
   ]
  },
  {
   "cell_type": "markdown",
   "metadata": {},
   "source": [
    "That means 126 or about 13% are used by just one recipe. How many have two? Three? Less than five?"
   ]
  },
  {
   "cell_type": "code",
   "execution_count": null,
   "metadata": {
    "collapsed": false
   },
   "outputs": [],
   "source": [
    "# your code here\n",
    "\n"
   ]
  },
  {
   "cell_type": "markdown",
   "metadata": {},
   "source": [
    "How should we judge similarity between two recipes? Again, we want them to have use much the same ingredients. A simple measure for that is the **Jaccard metric.** It is good for rows (or columns) that are made up of 0's and 1's. Essentially it looks at how many 1's the two recipes have in common, divided by the total number of ingredients they require. Well, you subtract that ratio from 1. So, if two recipes have nothing in common, the metric will be 1, and if they have everything in common, it will be 0."
   ]
  },
  {
   "cell_type": "code",
   "execution_count": null,
   "metadata": {
    "collapsed": false
   },
   "outputs": [],
   "source": [
    "# Jaccard distance\n",
    "\n",
    "def dist(a,b):\n",
    "    \n",
    "    intersection = sum((a+b)==2)\n",
    "    union = sum((a+b)>=1)\n",
    "    \n",
    "    # print intersection,union\n",
    "    \n",
    "    return 1.0-(0.0+intersection)/union"
   ]
  },
  {
   "cell_type": "markdown",
   "metadata": {},
   "source": [
    "Let's try out the function. We'll make two series (Pandas' representation of a row or column) of 0's and 1's and computes their Jaccard distance. See if this makes sense. Change the 0's and 1's to all agree or disagree."
   ]
  },
  {
   "cell_type": "code",
   "execution_count": null,
   "metadata": {
    "collapsed": false
   },
   "outputs": [],
   "source": [
    "from pandas import Series\n",
    "x = Series([1,0,1,1])\n",
    "y = Series([0,0,1,1])\n",
    "dist(x,y)"
   ]
  },
  {
   "cell_type": "markdown",
   "metadata": {},
   "source": [
    "Finally, to compute the distance between two recipes, we need to access rows. This is done using `.iloc[]` subsetting. We haven't seen this yet, but it gives us fine-grained control over the rows or columns we want to extract. The notation is \n",
    ">`row selection, column selection`\n",
    "\n",
    "Before the comma refers to rows and after to columns. We can use single integers for a single row or column, a slice like `5:10` to get a range,  and the empty slice `:` to ask for all the rows or columns. The result is a Pandas Series. \n",
    "\n",
    "Here is recipe with ID 40. "
   ]
  },
  {
   "cell_type": "code",
   "execution_count": null,
   "metadata": {
    "collapsed": false
   },
   "outputs": [],
   "source": [
    "cakes.iloc[40,:]"
   ]
  },
  {
   "cell_type": "markdown",
   "metadata": {},
   "source": [
    "This recipe has read 10 ingredients."
   ]
  },
  {
   "cell_type": "code",
   "execution_count": null,
   "metadata": {
    "collapsed": false
   },
   "outputs": [],
   "source": [
    "sum(cakes.iloc[40,:])"
   ]
  },
  {
   "cell_type": "markdown",
   "metadata": {},
   "source": [
    "Here are the 10."
   ]
  },
  {
   "cell_type": "code",
   "execution_count": null,
   "metadata": {
    "collapsed": false
   },
   "outputs": [],
   "source": [
    "[c for c in cakes.columns if cakes[c][10]]"
   ]
  },
  {
   "cell_type": "markdown",
   "metadata": {},
   "source": [
    "And here is the distance between recipe 40 and recipe 10."
   ]
  },
  {
   "cell_type": "code",
   "execution_count": null,
   "metadata": {
    "collapsed": false
   },
   "outputs": [],
   "source": [
    "[c for c in cakes.columns if cakes[c][40]]"
   ]
  },
  {
   "cell_type": "markdown",
   "metadata": {},
   "source": [
    "The two recipes share 8 ingredients and between them, there are 12 total ingredients. That means the distance is 1-8/12 = 1-2/3 = 1/3. Let's see!"
   ]
  },
  {
   "cell_type": "code",
   "execution_count": null,
   "metadata": {
    "collapsed": false
   },
   "outputs": [],
   "source": [
    "dist(cakes.iloc[40,:],cakes.iloc[10,:])"
   ]
  },
  {
   "cell_type": "markdown",
   "metadata": {},
   "source": [
    "Yes! \n",
    "\n",
    "Now, this loop iterates through the entire set of rows and calculates the distance between recipe 40 and the rest. "
   ]
  },
  {
   "cell_type": "code",
   "execution_count": null,
   "metadata": {
    "collapsed": false
   },
   "outputs": [],
   "source": [
    "distances = Series([ dist(cakes.iloc[40,:],cakes.iloc[i,:]) for i in range(1000)])\n",
    "distances.head()"
   ]
  },
  {
   "cell_type": "markdown",
   "metadata": {},
   "source": [
    "Here we sort the distaances and look at the distance of the 25th nearest recipe to number 40."
   ]
  },
  {
   "cell_type": "code",
   "execution_count": null,
   "metadata": {
    "collapsed": false
   },
   "outputs": [],
   "source": [
    "close = distances.sort_values().reset_index(drop=True)[25]\n",
    "close"
   ]
  },
  {
   "cell_type": "markdown",
   "metadata": {},
   "source": [
    "We then subset just the nearby cakes, those with distance less than 0.417. "
   ]
  },
  {
   "cell_type": "code",
   "execution_count": null,
   "metadata": {
    "collapsed": false
   },
   "outputs": [],
   "source": [
    "near_cakes = cakes[(distances<=close) & (distances>0)]\n",
    "near_cakes.head(5)"
   ]
  },
  {
   "cell_type": "markdown",
   "metadata": {},
   "source": [
    "Let's pull out the ingredients in recipe 40, storing them in a list."
   ]
  },
  {
   "cell_type": "code",
   "execution_count": null,
   "metadata": {
    "collapsed": false
   },
   "outputs": [],
   "source": [
    "ingredients = [ing for ing in cakes.columns if cakes[ing][40]]\n",
    "ingredients"
   ]
  },
  {
   "cell_type": "markdown",
   "metadata": {},
   "source": [
    "Finally, we sort the ingredients according to the number of recipes that contain them. We then leave out all the ingredients that are already in cake 40. "
   ]
  },
  {
   "cell_type": "code",
   "execution_count": null,
   "metadata": {
    "collapsed": false
   },
   "outputs": [],
   "source": [
    "recommendations = near_cakes.apply(sum,axis=0).sort_values(ascending=False).reset_index()\n",
    "recommendations[~recommendations[\"index\"].isin(ingredients)].head(10)"
   ]
  },
  {
   "cell_type": "markdown",
   "metadata": {},
   "source": [
    "Let's wrap these two into a function and have a look at a few cakes and what we recommend to add."
   ]
  },
  {
   "cell_type": "code",
   "execution_count": null,
   "metadata": {
    "collapsed": true
   },
   "outputs": [],
   "source": [
    "def dist(a,b):\n",
    "    \n",
    "    intersection = sum((a+b)==2)\n",
    "    union = sum((a+b)>=1)\n",
    "    \n",
    "    # print intersection,union\n",
    "    \n",
    "    return 1.0-(0.0+intersection)/union\n",
    "\n",
    "def recommend(c,k=10,recipes=cakes):\n",
    "    \n",
    "    n_recipes = recipes.shape[0]\n",
    "    \n",
    "    ingredients = [ing for ing in cakes.columns if cakes[ing][c]]\n",
    "    print \"Ingredients in recipe\",c\n",
    "    print ingredients\n",
    "    \n",
    "    distances = Series([dist(recipes.iloc[c,:],recipes.iloc[i,:]) for i in range(n_recipes)])\n",
    "    close = list(distances.sort_values())[k]\n",
    "\n",
    "    near_recipes = recipes[(distances<=close) & (distances>0)]\n",
    "    recommendations = near_recipes.apply(sum,axis=0).sort_values(ascending=False).reset_index()\n",
    "    \n",
    "    return recommendations[~recommendations[\"index\"].isin(ingredients)][:10]"
   ]
  },
  {
   "cell_type": "code",
   "execution_count": null,
   "metadata": {
    "collapsed": false
   },
   "outputs": [],
   "source": [
    "recommend(920,25)"
   ]
  },
  {
   "cell_type": "code",
   "execution_count": null,
   "metadata": {
    "collapsed": false
   },
   "outputs": [],
   "source": [
    "recommend(230,25)"
   ]
  },
  {
   "cell_type": "code",
   "execution_count": null,
   "metadata": {
    "collapsed": false
   },
   "outputs": [],
   "source": [
    "recommend(430,25)"
   ]
  },
  {
   "cell_type": "markdown",
   "metadata": {},
   "source": [
    "**Principal components**\n",
    "\n",
    "Last time we took the idea of distnce quite, um, far. From distances comes notions of near and far, clusters! We also had a right angle relationship and the notion of a projection (the nearst point to a line or a surface). From there, we saw Ggobi present different projections and we learned about one, so-called Principal components. Today we are going to kick the tires on SciKitLearn, a Python module for working with machine learning and statistical modeling."
   ]
  },
  {
   "cell_type": "code",
   "execution_count": null,
   "metadata": {
    "collapsed": false
   },
   "outputs": [],
   "source": [
    "from sklearn.decomposition import PCA \n",
    "from pandas import DataFrame\n",
    "\n",
    "pca = PCA(n_components=2)\n",
    "fit = DataFrame(pca.fit_transform(cakes))"
   ]
  },
  {
   "cell_type": "code",
   "execution_count": null,
   "metadata": {
    "collapsed": false
   },
   "outputs": [],
   "source": [
    "from plotly.plotly import iplot, sign_in\n",
    "import plotly.graph_objs as go\n",
    "sign_in(\"cocteautt\",\"9psj3t57ti\")\n",
    "\n",
    "mylayout = go.Layout(autosize=False, width=1000,height=1000)\n",
    "\n",
    "mydata = [go.Scatter(x=fit.iloc[:,0],y=fit.iloc[:,1],marker={\"color\":\"grey\"},mode=\"markers\")]\n",
    "\n",
    "myfigure = go.Figure(data=mydata,layout=mylayout)\n",
    "iplot(myfigure)"
   ]
  },
  {
   "cell_type": "code",
   "execution_count": null,
   "metadata": {
    "collapsed": false
   },
   "outputs": [],
   "source": [
    "mylayout = go.Layout(autosize=False, width=1000,height=1000)\n",
    "\n",
    "points0 = go.Scatter(x=fit[cakes[\"cake mix\"]==1].iloc[:,0],y=fit[cakes[\"cake mix\"]==1].iloc[:,1],name=\"cake mix\",mode=\"markers\",marker={\"color\":\"orange\"})\n",
    "points1 = go.Scatter(x=fit[cakes[\"cake mix\"]==0].iloc[:,0],y=fit[cakes[\"cake mix\"]==0].iloc[:,1],name=\"no cake mix\",mode=\"markers\",marker={\"color\":\"grey\"})\n",
    "\n",
    "mydata = [points0,points1]\n",
    "\n",
    "myfigure = go.Figure(data=mydata,layout=mylayout)\n",
    "iplot(myfigure)"
   ]
  },
  {
   "cell_type": "code",
   "execution_count": null,
   "metadata": {
    "collapsed": false
   },
   "outputs": [],
   "source": [
    "mylayout = go.Layout(autosize=False, width=1000,height=1000)\n",
    "\n",
    "points0 = go.Scatter(x=fit[cakes[\"cinnamon\"]==1].iloc[:,0],y=fit[cakes[\"cinnamon\"]==1].iloc[:,1],name=\"cinnamon\",mode=\"markers\",marker={\"color\":\"orange\"})\n",
    "points1 = go.Scatter(x=fit[cakes[\"cinnamon\"]==0].iloc[:,0],y=fit[cakes[\"cinnamon\"]==0].iloc[:,1],name=\"cinnamon free\",mode=\"markers\",marker={\"color\":\"grey\"})\n",
    "\n",
    "mydata = [points0,points1]\n",
    "\n",
    "myfigure = go.Figure(data=mydata,layout=mylayout)\n",
    "iplot(myfigure)"
   ]
  }
 ],
 "metadata": {
  "anaconda-cloud": {},
  "kernelspec": {
   "display_name": "Python [conda root]",
   "language": "python",
   "name": "conda-root-py"
  },
  "language_info": {
   "codemirror_mode": {
    "name": "ipython",
    "version": 2
   },
   "file_extension": ".py",
   "mimetype": "text/x-python",
   "name": "python",
   "nbconvert_exporter": "python",
   "pygments_lexer": "ipython2",
   "version": "2.7.12"
  }
 },
 "nbformat": 4,
 "nbformat_minor": 1
}
