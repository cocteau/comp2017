{
 "cells": [
  {
   "cell_type": "markdown",
   "metadata": {},
   "source": [
    "A little drill\n",
    "-------------\n",
    "\n",
    "As promised, your drill will have a little rudimentary work and then a much more open-ended assignment. The \"basics\" this time have to do with blocks of code and navigating dictionaries and lists. Skim this if you are feeling Python-powerful. Read more closely if you have been hanging on. \n",
    "\n",
    "**Blocks of code: Loops and conditional evaluation**\n",
    "\n",
    "A block of code is nothing more than a group of Python commands. Typically, this group hangs together because, when executed in sequence, they perform be a single high-level task. Most modern programming languages have some kind of block structure. Python identifies blocks through common indenttion. This language requirement, forcing common indentation, also makes the code is more readable.\n",
    "\n",
    "![stack](http://www.python-course.eu/images/blocks.png)\n",
    "\n",
    "\"So, how does it work? All statements with the same distance to the right belong to the same block of code, i.e. the statements within a block line up vertically. The block ends at a line less indented or the end of \\[your notebooks' code cell\\]. If a block has to be more deeply nested, it is simply indented further to the right... There is another aspect of structuring in Python, which we haven't mentioned so far, which you can see in the example below. Loops and Conditional statements end with a colon \":\" - the same is true for functions and other structures introducing blocks. So, we should have said Python structures by colons and indentation.\" (Cribbed from the [Python Tutorial](http://www.python-course.eu/python3_blocks.php))\n",
    "\n",
    "**Conditional expressions**\n",
    "\n",
    "We have seen examples in which blocks of code are executed only if certain conditions apply. These are called \"conditional blocks\" and we'd like to document them formally here. In the cell below we have a simple example -- the code is indented to the same level (and the notebook helps you here) is all to be executed if the expression between the \"if\" and the colon \":\" is true. You can put any Boolean expression in here, including the operators like \"and\" and \"or\" and \"not\". "
   ]
  },
  {
   "cell_type": "code",
   "execution_count": null,
   "metadata": {
    "collapsed": false
   },
   "outputs": [],
   "source": [
    "x = \"Pecan Pie Vending Machine in Cedar Creek, Texas\"\n",
    "\n",
    "if \"Pie\" in x:\n",
    "    x = x.replace(\"Pie\",\"Sandies\")\n",
    "    x = x.upper()\n",
    "    print x"
   ]
  },
  {
   "cell_type": "code",
   "execution_count": null,
   "metadata": {
    "collapsed": false
   },
   "outputs": [],
   "source": [
    "x = \"Pecan Pie Vending Machine in Cedar Creek, Texas\"\n",
    "\n",
    "\"Pie\" in x"
   ]
  },
  {
   "cell_type": "markdown",
   "metadata": {},
   "source": [
    "Change x above to different strings and make sure it does what you think it should. Next, here is another example where we take one of two actions depending on whether the initial condition is true or false. There's a lot of indentation in this example, corresponding to **nested blocks** -- you only get to the \"if\" statement asking whether x is larger than 8, if x is larger than 5. Make sure you understand what is getting executed when."
   ]
  },
  {
   "cell_type": "code",
   "execution_count": null,
   "metadata": {
    "collapsed": false
   },
   "outputs": [],
   "source": [
    "x = 10\n",
    "\n",
    "if x > 5:\n",
    "    print \"big number\"\n",
    "    if x>8:\n",
    "        print \"it's really big\"\n",
    "else:\n",
    "    print \"small number\""
   ]
  },
  {
   "cell_type": "markdown",
   "metadata": {},
   "source": [
    "Again, change x to a few different values and make sure you understand what's happening. \n",
    "\n",
    "Finally, we can specify as many subconditions to an \"if\" statement. That is, it's not just if-elese, it's if-elif-elif-...elif-else. In the cell below, if x is larger than 25 we print out \"really big\". On the other hand, if it's just bigger than 10 (between 10 and 25), we print out \"big\" and otherwise (x is less than or equal to 10) we call it \"small\".  Change the values of x to make sure you know whata this is doing. Try adding other conditions.\n",
    "\n",
    "Note that in this case, the subconditions are putting tighter constraints on the value of x. This is common."
   ]
  },
  {
   "cell_type": "code",
   "execution_count": null,
   "metadata": {
    "collapsed": false
   },
   "outputs": [],
   "source": [
    "x = 7\n",
    "\n",
    "if x > 25:\n",
    "    print \"really big\"\n",
    "elif x > 10:\n",
    "    print \"big\"\n",
    "else:\n",
    "    print \"small\""
   ]
  },
  {
   "cell_type": "markdown",
   "metadata": {},
   "source": [
    "**Loops**\n",
    "\n",
    "Another common reason for using blocks is that we'd like to repeat the group of operations several times, with inputs that we specify. The \"for loop\" basically iterates over a list-like data set and executes the following code block with each data point. For example, range() returns a set of integers in, well, a given range. You can specify a start, and end and an increment. **The result in each case is a list of integers.** \n",
    "\n",
    "The list runs from the start value, up to but not including the end value, in steps of the increment."
   ]
  },
  {
   "cell_type": "code",
   "execution_count": null,
   "metadata": {
    "collapsed": false
   },
   "outputs": [],
   "source": [
    "# a list of 0 through 8\n",
    "print range(9)\n",
    "\n",
    "# a list from 5 to 19\n",
    "print range(5,20)\n",
    "\n",
    "# a list from 30 to 48 in steps of 2\n",
    "print range(30,50,2)"
   ]
  },
  {
   "cell_type": "markdown",
   "metadata": {},
   "source": [
    "The simplest \"for loop\" just iterates over a list. In the cell below, have our source data as range(10) or the integers from 0 through 9. The loop proceeds by successively assigning the variable \"i\" to each element of the list of integers. First, \"i\" stands for the number  0, then \"i\" is 1 then i is 2 and so on up until 9. **With each new value, we execute the code in the block**, here just the single line that prints the value of \"i\".\n",
    "\n",
    "Because it is a variable name, \"i\" could have been any name. \"pineapple\" or \"sheep\" or \"diet_coke\" would all work if you substituted every occurence of the name \"i\" with your new choice."
   ]
  },
  {
   "cell_type": "code",
   "execution_count": null,
   "metadata": {
    "collapsed": false
   },
   "outputs": [],
   "source": [
    "for i in range(10):\n",
    "    print i"
   ]
  },
  {
   "cell_type": "markdown",
   "metadata": {},
   "source": [
    "Here we run through the integers 1 though 10 and test if the number is odd or not, printing one thing if it is and another if it's even. Notice that again we have **nested blocks**. The print conditional block is nested in the looping block. We also have a new operator here \"%\" -- a%b returns the remainder of the division of a by b. (And so an even number has 0 remainder after division by 2)."
   ]
  },
  {
   "cell_type": "code",
   "execution_count": null,
   "metadata": {
    "collapsed": false
   },
   "outputs": [],
   "source": [
    "for i in range(1,11):\n",
    "    \n",
    "    if i % 2 == 0:\n",
    "        print str(i) +\" an even number\"\n",
    "        \n",
    "    else:\n",
    "        print str(i) + \" an odd number\""
   ]
  },
  {
   "cell_type": "markdown",
   "metadata": {},
   "source": [
    "Our print statement exhibits a string that is the sum of two parts. One is  \" an odd number\" or \" an even number\". The other is str(i). The command str() takes any object and turns it into a string. So the nuber 1 becomes the string \"1\" that you can then concatenate with the other string in the printout statement. \n",
    "\n",
    "If we didn't use str(), you'd get an error. Python doesn't know what the command below means -- the error that's printed makes this clear."
   ]
  },
  {
   "cell_type": "code",
   "execution_count": null,
   "metadata": {
    "collapsed": false
   },
   "outputs": [],
   "source": [
    "1+\"even\""
   ]
  },
  {
   "cell_type": "markdown",
   "metadata": {},
   "source": [
    "So all of this is a little boring but it's a good start. You can iterate over lots of different kinds of things, chiefly lists. Remember, they store data in order so the loop below assigns each name from the list \"students\" successively to the variable name s. It then carries that value into the loop block and creates a slightly lame sentence with the indicated name. So we start with s being \"Juan\" and end with s being \"Yingying.\""
   ]
  },
  {
   "cell_type": "code",
   "execution_count": null,
   "metadata": {
    "collapsed": false
   },
   "outputs": [],
   "source": [
    "students = [\"Ajibola\",\"Elise\",\"Megan\",\"Jake\",\"Inti\",\"Kasiana\",\"Siqi\"]\n",
    "\n",
    "for student in students:\n",
    "    \n",
    "    drill = student + \" is learning about code blocks.\"\n",
    "    print drill\n",
    "    print \"---\"\n",
    "    "
   ]
  },
  {
   "cell_type": "markdown",
   "metadata": {},
   "source": [
    "Again, \"student\" is the name of a variable and is arbitrary -- we could have used anything. Replace \"student\" with the letter s or the word light_bulb. \n",
    "\n",
    "Before we finish iteration, there is one other kind of construction that loops. The \"while\" loop will continue executing until some condition is satisfied. You might want to run through a list of sentences and print out the first that is less than 140 charaters, or one that contains the word \"Pecan\". \n",
    "\n",
    "Below we will use the command sample() from the \"random\" package. The package contains a number of tools for generating random variables. For example, sample() -- as its name might suggest -- takes a list as an argument and, in computer style, puts the contents of the list into a hat and pulls out some number of the elements at random, a number you specify. Here we take 3 from the list of integers from 0 to 9, or we take a single student name from the list of students. \n",
    "\n",
    "Execute this code several times to make sure you see what it's doing."
   ]
  },
  {
   "cell_type": "code",
   "execution_count": null,
   "metadata": {
    "collapsed": false
   },
   "outputs": [],
   "source": [
    "from random import sample\n",
    "\n",
    "# 3 draws from the collection 0,...,9\n",
    "print sample(range(10),3)\n",
    "\n",
    "# 2 draws from our list of students\n",
    "print sample(students,2)"
   ]
  },
  {
   "cell_type": "markdown",
   "metadata": {},
   "source": [
    "Notice that sample() returns a list. So if we ask for 1 randomly selected element, we will get a list with one element. Often we don't want a list with one element, but we want the student name, say, that we selected. You can do this with the following command (where the square braces ask for the entry with index 0, the first and only element in the list)."
   ]
  },
  {
   "cell_type": "code",
   "execution_count": null,
   "metadata": {
    "collapsed": false
   },
   "outputs": [],
   "source": [
    "# 1 randomly selected student name\n",
    "student = sample(students,1)\n",
    "print student\n",
    "\n",
    "# 1 randomly selected student name, but a string\n",
    "print student[0]"
   ]
  },
  {
   "cell_type": "markdown",
   "metadata": {},
   "source": [
    "We can do this in one line too. Here we select a single item from the list [\"H\",\"T\"]. It's like a 50-50 coin toss everytime you execute the code below. Each time you run it, Python puts the \"T\" and \"H\" in a hat, mixes it up and selects one. Try it a few times!"
   ]
  },
  {
   "cell_type": "code",
   "execution_count": null,
   "metadata": {
    "collapsed": false
   },
   "outputs": [],
   "source": [
    "sample([\"H\",\"T\"],1)[0]"
   ]
  },
  {
   "cell_type": "markdown",
   "metadata": {},
   "source": [
    "Below we will use the command sample() from the \"random\" package to pick either \"H\" or \"T\" with 50% chance for each and print out how many \"coin tosses\" it took to get the first \"H\". We will use the counter \"count\" (again an arbitrary name, but  which we start as 0) and increment it each time we toss something other than a \"H\". \n",
    "\n",
    "The code starts with a flip. If it was \"H\", then we never execute the \"while\" loop. If it was tails, \"T\", we go into the loop and keep flipping until we get a \"H\". Got it? Execute this a few times and make sure you understand what it's doing."
   ]
  },
  {
   "cell_type": "code",
   "execution_count": null,
   "metadata": {
    "collapsed": false
   },
   "outputs": [],
   "source": [
    "flip = sample([\"H\",\"T\"],1)[0]\n",
    "print flip\n",
    "count = 1\n",
    "\n",
    "while flip == \"T\":\n",
    "    flip = sample([\"H\",\"T\"],1)[0]\n",
    "    print flip\n",
    "    count = count + 1\n",
    "    \n",
    "print \"--->\", count, \"flip(s)\""
   ]
  },
  {
   "cell_type": "markdown",
   "metadata": {},
   "source": [
    "This while-looping is pretty common action. We want to do things until a condition is satisfied. We might search through words or sentences. We might want to add words to a string until we are at 140 characters and so on.\n",
    "\n",
    "**1. Write a loop (while or for) that runs through the names of students in our class (some subset) and takes action based on their Twitter ID number.**\n",
    "\n",
    "We have also seen code blocks when we defined functions. Look back to your notebook from Tuesday. The body of the function is a code block that has other indented blocks for \"if\" statements and loops. It's all on dispay!"
   ]
  },
  {
   "cell_type": "markdown",
   "metadata": {},
   "source": [
    "** Navigating complex nestings of dictionaries and lists **\n",
    "\n",
    "As we have seen, APIs and other web services often return data in the form of JSON strings. Or, as in the case of \"feedparser\", data are transfromed into an object that made up of things like lists and dictionaries (\"like\" in the sense that you use the same mechanisms to extract data -- numerical indices in one case and \"keys\" in the other).  \n",
    "\n",
    "**2. Make a list of contact information. Each entry in the list represents is a dictionary representing a member of the class. These dictionaries should include your classmate's name, their Twitter handle, and a string that describes something you know about them. Call your list `contacts` and provide it with at least 3 entries, summaries of 3 of your classmates.**\n",
    "\n",
    "**3. Create a dictionary from the third article in the current NYT RSS feed. The dictionary should contain 4 keys -- \"author\", \"title\", \"summary\" and \"tags\". In the first three cases, we want a single string as the value for each key. So the title is a string like \"Something important happened today\". The \"tags\" key is to hold a list of strings, one for each tag suggested by the NYT. So it might be [\"Trump\",\"Bannon\",\"Pecan Pie\"].**\n",
    "\n",
    "OK that's the rudimentary stuff for this drill. Now, onto the more open-ended assignment. Bots!"
   ]
  },
  {
   "cell_type": "markdown",
   "metadata": {},
   "source": [
    "The bot bazaar\n",
    "--------------\n",
    "\n",
    "**Yes, a Pecan Pie is on the line.**\n",
    "\n",
    "We finished the last class session looking at a simple implementation of the Two Headlines bot. There are countless examples out there of bots that do practical work, bots that are informational, bots that protest, and bots as art pieces. We are looking for a journalistic Twitter bot. One that might tell as story in pieces (a serial bot) or one that might react to the passage of bills in Congress. Or one that might channel events in a given neighborhood, telling untold stories. \n",
    "\n",
    "We'd like these first bots of yours to be simple and, at their most complicated, draw from some feed of data. They are not meant to respond to users or the audience. We will create so-called \"conversational bots\" next week. For now, they should just report in some way. See someting, say something. Beyond that constraint, the level of complexity is up to you.\n",
    "\n",
    "Let's pull together some of the code from Mike on Thursday."
   ]
  },
  {
   "cell_type": "code",
   "execution_count": null,
   "metadata": {
    "collapsed": false
   },
   "outputs": [],
   "source": [
    "import feedparser\n",
    "\n",
    "# fetch the nytimes and breitbart RSS feeds\n",
    "nytimes_rss_url = 'http://rss.nytimes.com/services/xml/rss/nyt/HomePage.xml'\n",
    "breitbart_rss_url = 'http://feeds.feedburner.com/breitbart'\n",
    "\n",
    "nytimes_feed = feedparser.parse(nytimes_rss_url)\n",
    "breitbart_feed = feedparser.parse(breitbart_rss_url)\n",
    "\n",
    "# get the first story from each of the two feeds\n",
    "nytimes_first_story = nytimes_feed['entries'][0]\n",
    "breitbart_first_story = breitbart_feed['entries'][0]\n",
    "\n",
    "print 'nyt: '+ nytimes_first_story['title']\n",
    "print 'b: ' + breitbart_first_story['title']\n",
    "\n",
    "# combine the two headlines into a single headline\n",
    "nytimes_words = nytimes_first_story['title'].split(' ')\n",
    "breitbart_words = breitbart_first_story['title'].split(' ')\n",
    "\n",
    "# take the 1st half of the nytimes \"words\" plus the second half of the breitbart \"words\n",
    "new_words = nytimes_words[:len(nytimes_words)/2] + breitbart_words[len(breitbart_words)/2:]\n",
    "\n",
    "# this is python weirdness to take a list of words\n",
    "# and join them together with a space between each word\n",
    "new_headline = ' '.join(new_words)\n",
    "print \"two headlines: \"+new_headline"
   ]
  },
  {
   "cell_type": "markdown",
   "metadata": {},
   "source": [
    "**An aside about \"import\" statements**\n",
    "\n",
    "First, consider the statement\n",
    "\n",
    ">`import feedparser`\n",
    "\n",
    "This imports the \"module\" feedparser, creating a reference that lets us get to all the goodies it contains. That is, to use the function parse() we write the following.\n",
    "\n",
    ">`import feedparser`\n",
    "<br><br>\n",
    "... and later ...\n",
    "<br><br>\n",
    "`feedparser.parse('http://rss.nytimes.com/services/xml/rss/nyt/HomePage.xml')`\n",
    "\n",
    "The second form of this statement we've seen uses a \"from\". Here's what it looks like for our feedparser example.\n",
    "\n",
    ">`from feedparser import parse`\n",
    "<br><br>\n",
    "... and later ...\n",
    "<br><br>\n",
    "`parse('http://rss.nytimes.com/services/xml/rss/nyt/HomePage.xml')`\n",
    "\n",
    "We've been using this last form to make it clear that we are relying on specific functions or data from a module. This was true of Pandas and TextBlob and all the others we've been using. The first form of \"import\" has  advantages in that we don't have to know in advance what we'll use from module. We can access all the goodies without having to make another import statement. It's great for interactive work.\n",
    "\n",
    "For example, in Pandas, we might import read_csv() and then later we find we want DataFrame(). With the second import statement, we either have to request both at one time (anticipating our need)...\n",
    "\n",
    ">`from pandas import read_csv, DataFrame`\n",
    " \n",
    "... or make two import calls, one for each function in different cells, as the need arises.\n",
    "\n",
    ">`from pandas import read_csv`\n",
    "<br><br>\n",
    "... and later ...\n",
    "<br><br>\n",
    "`from pandas import DataFrame`\n",
    "\n",
    "Whereas with the first style of \"import\" we are covered.\n",
    "\n",
    ">`import pandas`\n",
    "<br><br>\n",
    "... then later ...\n",
    "<br><br>\n",
    "`pandas.read_csv(\"http://compute-cuj.org/unemployment.csv\")`\n",
    "<br><br>\n",
    "... then later ...\n",
    "<br><br>\n",
    "`pandas.DataFrame(list_of_lists)`\n",
    "\n",
    "Got it?"
   ]
  },
  {
   "cell_type": "markdown",
   "metadata": {},
   "source": [
    "**Back to the bots!**\n",
    "\n",
    "OK so we saw the Two Headlines bot that Mike recoded in a simple way. Everything we've done up to now just runs once and then exits/stops. Let's look at how we can have something run forever - our bot doesn't need to sleep much!\n",
    "\n",
    "Python has a great [`time`](https://docs.python.org/2/library/time.html) module, which handles various time-related functions (duh!). The `time` module also has a very helpful method called `sleep()`, which tells our program to sleep, or \"pause\", for a number of seconds. Let's take a look at it:"
   ]
  },
  {
   "cell_type": "code",
   "execution_count": null,
   "metadata": {
    "collapsed": false
   },
   "outputs": [],
   "source": [
    "# the time module allows us to \"sleep\" or pause for a given number of seconds\n",
    "import time\n",
    "\n",
    "# loop 5 times, pausing for 2 seconds during each iteration\n",
    "for number in range(0, 5):\n",
    "    print number\n",
    "    \n",
    "    # sleep for one second\n",
    "    time.sleep(2)\n",
    "    \n",
    "print 'done!'"
   ]
  },
  {
   "cell_type": "markdown",
   "metadata": {},
   "source": [
    "We can add a simple \"forever\" loop to get our script to run until we stop it. The code below will loop forever, pausing for 1 second, until you hit the stop button in your notebook."
   ]
  },
  {
   "cell_type": "code",
   "execution_count": null,
   "metadata": {
    "collapsed": false
   },
   "outputs": [],
   "source": [
    "# the time module allows us to \"sleep\" or pause for a given number of seconds\n",
    "import time\n",
    "\n",
    "# loop forever!\n",
    "while True:\n",
    "    print 'hello'\n",
    "    \n",
    "    # sleep for one second\n",
    "    time.sleep(1)\n",
    "    \n",
    "# to get this to stop, hit the Stop button in your notebook"
   ]
  },
  {
   "cell_type": "markdown",
   "metadata": {},
   "source": [
    "** Let's put it all together and build our news bot**\n",
    "\n",
    "This is a very simple \"news\" bot, which will tweet out new top stories from The New York Times. The bot will check the NYTimes HomePage RSS feed every 10 seconds - if it sees a new story, it will tweet it.\n",
    "\n",
    "I'm also adding some super complicated AI, to add some color-commentary to each story that our bot tweets.\n",
    "\n",
    "This code uses the module called [`random`](https://docs.python.org/2/library/random.html), which we saw at the top of this notebook. Recall that it makes it easy to randomly select an item from a `list`.\n",
    "\n",
    "*So you don't put extra stress on The New York Times servers, you should sleep every 60 seconds (at least). We are only sleeping for 10 seconds here for demo purposes.*"
   ]
  },
  {
   "cell_type": "code",
   "execution_count": null,
   "metadata": {
    "collapsed": false
   },
   "outputs": [],
   "source": [
    "# this \"bot\" will tweet out any new stories published in the nytimes homepage\n",
    "import time    \n",
    "import feedparser\n",
    "import random\n",
    "\n",
    "# our list of pithy comments about the nyt articles\n",
    "insightful_things_to_say = [\n",
    "    'this is really interesting',\n",
    "    'great read -->',\n",
    "    'hmmm....',\n",
    "    'amazing',\n",
    "    'how does this happen?',\n",
    "]\n",
    "\n",
    "# the location of the nyt rss feeed\n",
    "nytimes_rss_url = 'http://rss.nytimes.com/services/xml/rss/nyt/HomePage.xml'\n",
    "\n",
    "# keep track of the nytimes links/urls that we tweeted.\n",
    "# we will put each link we tweet into this list\n",
    "prev_tweeted_links = []\n",
    "\n",
    "# loop forever!\n",
    "while True:\n",
    "    \n",
    "    # fetch and parse the NYTimes RSS feed\n",
    "    nytimes_feed = feedparser.parse(nytimes_rss_url)\n",
    "\n",
    "    # get the first story\n",
    "    first_story = nytimes_feed['entries'][0]\n",
    "\n",
    "    # take the link of the first story and see if we've tweeted it before\n",
    "    # (is the new link in our list of previously tweeted links? if not, tweet it!)\n",
    "    link = first_story['link']\n",
    "    \n",
    "    if not link in prev_tweeted_links:\n",
    "        \n",
    "        # it's new, lets tweet it out!\n",
    "        print 'new story - lets tweet it: ' + link \n",
    "  \n",
    "        # build the text of our tweet -- a pithy comment, the title and a link to the story\n",
    "        tweet_text = random.choice(insightful_things_to_say) + ' ' + first_story['title'] + ' ' + first_story['link']\n",
    "        \n",
    "        # print our tweet text as a test\n",
    "        print \"our tweet: \" + tweet_text\n",
    "        print \"--\"*10\n",
    "        # fire it off to twitter by uncommenting the line below\n",
    "        #api.update_status(status=tweet_text)\n",
    "        \n",
    "        # keep track of the this link that we just tweeted\n",
    "        prev_tweeted_links.append(link)\n",
    "        \n",
    "    else:\n",
    "        \n",
    "        # we've already tweeted this...no new stories\n",
    "        # nothing to do\n",
    "        print \"no new story... let's wait a little while\"\n",
    "\n",
    "    # sleep for a little while\n",
    "    time.sleep(10)\n",
    "    \n",
    "# if you want to stop this script, hit the Stop button in your notebook"
   ]
  },
  {
   "cell_type": "markdown",
   "metadata": {},
   "source": [
    "**Some computing tools for programming with \"languag\"**\n",
    "\n",
    "The Twitter bot Mike prepared relies on mashing up two headlines. Some of that might get better if we knew a little about what the headline described. What is the subject? What action is described? Some of these questions are addressed by a field of computer science (well, computational linguistics) called Natural Language Processing. There are plenty of tools in Python for making use of the fruits of this research. \n",
    "\n",
    "We will be using a package called [TextBlob](https://textblob.readthedocs.io/en/dev/) that is a simplified version of the Natural Language Toolkit (NLTK) in Python. (Sometimes tools become really powerful for practitioners and leave non-experts behind. That's what has happened, to some extent, with the NLTK. It's a little hard to just \"jump in\". And so TextBlob is like computational training wheels.) [Allison Parrish's Natural Language Basics with TextBlob](http://rwet.decontextualize.com/book/textblob/) is a great place to read about what TextBlob is good for. \n",
    "\n",
    "First, we need to install the package. Off to PIP! Then we'll install some data the NLTK will need. They are collections of texts and special functions that we'll explain shortly."
   ]
  },
  {
   "cell_type": "code",
   "execution_count": null,
   "metadata": {
    "collapsed": false
   },
   "outputs": [],
   "source": [
    "%%bash\n",
    "pip install TextBlob"
   ]
  },
  {
   "cell_type": "code",
   "execution_count": null,
   "metadata": {
    "collapsed": false
   },
   "outputs": [],
   "source": [
    "from nltk import download\n",
    "download('brown')\n",
    "download('punkt')\n",
    "download('maxent_ne_chunker')\n",
    "download('words')\n",
    "download('conll2000')\n",
    "download('maxent_treebank_pos_tagger')\n",
    "download('averaged_perceptron_tagger')"
   ]
  },
  {
   "cell_type": "markdown",
   "metadata": {},
   "source": [
    "Then, load the package for this session and bring in a headline from todays New York Times. We read it in as a string but preface the quotes with a \"u\". That tells Python the string is in Unicode -- publishers use fancy quotation marks, for example, that are not the simple \" or '. \n",
    "\n",
    "The TextBlob() function takes text and turns it into a \"TextBlob\" object."
   ]
  },
  {
   "cell_type": "code",
   "execution_count": null,
   "metadata": {
    "collapsed": false
   },
   "outputs": [],
   "source": [
    "from textblob import TextBlob\n",
    "\n",
    "headline = u\"After Election, Trump’s Professed Love for Leaks Quickly Faded\"\n",
    "tb = TextBlob(headline)\n",
    "\n",
    "type(tb)"
   ]
  },
  {
   "cell_type": "code",
   "execution_count": null,
   "metadata": {
    "collapsed": false
   },
   "outputs": [],
   "source": [
    "tb"
   ]
  },
  {
   "cell_type": "markdown",
   "metadata": {},
   "source": [
    "The TextBlob object has a number of attribures that have processed the text. The simplest are lists of words and sentences. Here we pull just the words."
   ]
  },
  {
   "cell_type": "code",
   "execution_count": null,
   "metadata": {
    "collapsed": false
   },
   "outputs": [],
   "source": [
    "tb.words"
   ]
  },
  {
   "cell_type": "markdown",
   "metadata": {},
   "source": [
    "This is obviously a better approach than the one we took when we just split a string on spaces -- a technique that didn't handle punctuation like commas and periods well. OK that's a good trick but there are better ones! For example, TextBlob's language processing let's it estimate which words are part of noun phrases. \n",
    "\n",
    "There are various techniques for doing this and none of them are perfect. To be fair, using a headline means using a text fragment and not a sentence. The language processing tools are usually trained on full sentences of text. Still, it's not bad."
   ]
  },
  {
   "cell_type": "code",
   "execution_count": null,
   "metadata": {
    "collapsed": false
   },
   "outputs": [],
   "source": [
    "tb.noun_phrases"
   ]
  },
  {
   "cell_type": "markdown",
   "metadata": {},
   "source": [
    "Noun phrases are obtained by extracting information from a \"tagged\" version of the text. Here the tags represent parts of speech. You can see [a complete list of the tags here.](https://cs.nyu.edu/grishman/jet/guide/PennPOS.html) The parts of speech are stored as a list of word-tag pairs."
   ]
  },
  {
   "cell_type": "code",
   "execution_count": null,
   "metadata": {
    "collapsed": false
   },
   "outputs": [],
   "source": [
    "tb.tags"
   ]
  },
  {
   "cell_type": "code",
   "execution_count": null,
   "metadata": {
    "collapsed": false
   },
   "outputs": [],
   "source": [
    "type(tb.tags[0])"
   ]
  },
  {
   "cell_type": "markdown",
   "metadata": {},
   "source": [
    "The .tags attribute is a list. (See the square brackets?) The list elements are a new data type called a \"tuple\" which is like a list, for our purposes. So you can take, say the first element of the tags list and look at the first and second elements of the tuple (the word and its estimates part of speech)."
   ]
  },
  {
   "cell_type": "code",
   "execution_count": null,
   "metadata": {
    "collapsed": false
   },
   "outputs": [],
   "source": [
    "tb.tags[0]"
   ]
  },
  {
   "cell_type": "code",
   "execution_count": null,
   "metadata": {
    "collapsed": false
   },
   "outputs": [],
   "source": [
    "tb.tags[0][0]"
   ]
  },
  {
   "cell_type": "code",
   "execution_count": null,
   "metadata": {
    "collapsed": false
   },
   "outputs": [],
   "source": [
    "tb.tags[0][1]"
   ]
  },
  {
   "cell_type": "markdown",
   "metadata": {},
   "source": [
    "While I'm not wild about it, TextBlob also provides an estimate of the sentiment of the statement. That is, is the text expressing a positive or negative sentiment. I'll leave you to consult the Parrish blog post or the TextBlob documentation of this lovely feature."
   ]
  },
  {
   "cell_type": "code",
   "execution_count": null,
   "metadata": {
    "collapsed": false
   },
   "outputs": [],
   "source": [
    "tb.sentiment"
   ]
  },
  {
   "cell_type": "markdown",
   "metadata": {},
   "source": [
    "Here we do the same thing to a different headline. Mashing them up might mean replacing one noun phrase with another. How might you do that?"
   ]
  },
  {
   "cell_type": "code",
   "execution_count": null,
   "metadata": {
    "collapsed": false
   },
   "outputs": [],
   "source": [
    "headline2 = u\"Trump Vows to Catch ‘Low Life Leakers’ in Washington D.C.\"\n",
    "tb2 = TextBlob(headline2)\n",
    "tb2.tags"
   ]
  },
  {
   "cell_type": "code",
   "execution_count": null,
   "metadata": {
    "collapsed": false
   },
   "outputs": [],
   "source": [
    "tb2.noun_phrases"
   ]
  },
  {
   "cell_type": "markdown",
   "metadata": {},
   "source": [
    "One last thing. There are various methods to \"parse\" text -- different algorithms for tagging words in a sentence, for extracting noun phrases and for estimating sentiment. You can replace the default when you call TextBlob. The documentation describes other noun phrase extractors. Here's how you would use the ConllExtractor, based on a data set compiled for the Conference on Computational Natural Language Learning (CoNLL-2000)."
   ]
  },
  {
   "cell_type": "code",
   "execution_count": null,
   "metadata": {
    "collapsed": false
   },
   "outputs": [],
   "source": [
    "from textblob.np_extractors import ConllExtractor\n",
    "extractor = ConllExtractor()\n",
    "\n",
    "tb = TextBlob(headline,np_extractor=extractor)\n",
    "tb.noun_phrases"
   ]
  },
  {
   "cell_type": "markdown",
   "metadata": {},
   "source": [
    "**Your turn**\n",
    "\n",
    "You now have some simple facility with text (this will only get beefier and more powerful as we go through the class) and you can pull data from APIs with ease. So, next, a Twitter bot! We'd like these first bots of yours **to be simple and, at their most complicated, draw from some feed of data.** (Like an API or an RSS feed or...) They are not meant to respond to users or the audience. We will create so-called \"conversational bots\" next week with Suman. Your bot might look to other bots or other Twitter accounts for input though. We just don't want you crafting something that responds to people \"talking\" to it. \n",
    "\n",
    "**4. Create a Twitter bot that, at its most complex, could report in some way.  See someting, say something. It might be simpler, of course. But beyond the constraint that you only respond to data or an API, and not users, you are free to create. A prize to the most journalistically interesting, or downright cool, bot!**\n",
    "\n",
    "If you would like your bot to run 24/7 I can install it on one of our servers. Just let me know!"
   ]
  }
 ],
 "metadata": {
  "anaconda-cloud": {},
  "kernelspec": {
   "display_name": "Python [default]",
   "language": "python",
   "name": "python2"
  },
  "language_info": {
   "codemirror_mode": {
    "name": "ipython",
    "version": 2
   },
   "file_extension": ".py",
   "mimetype": "text/x-python",
   "name": "python",
   "nbconvert_exporter": "python",
   "pygments_lexer": "ipython2",
   "version": "2.7.12"
  }
 },
 "nbformat": 4,
 "nbformat_minor": 0
}
