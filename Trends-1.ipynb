{
 "cells": [
  {
   "cell_type": "code",
   "execution_count": null,
   "metadata": {
    "collapsed": true
   },
   "outputs": [],
   "source": [
    "%matplotlib inline"
   ]
  },
  {
   "cell_type": "markdown",
   "metadata": {},
   "source": [
    "<h1 align=\"center\">Trending Topics - A Signal for Attention </h1>\n",
    "<hr>\n",
    "<img src=\"http://noble66.github.io/Viz/mh370drift_world2.gif\" style=\"width: 65%;\"/>\n",
    "<br>"
   ]
  },
  {
   "cell_type": "markdown",
   "metadata": {},
   "source": [
    "Welcome to the first class where we will explore topics that trend on social media platforms, specifically Twitter and Facebook. \n",
    "\n",
    "There are **so** many questions that revolve around this particular feature available to users on most social networks today, that it would be hard to cover everything in a single class. However, we will do our best to discuss the relevant parts and defer the rest of the material via readings outside class. Main points from these reading materials will be explored further in [discussion sessions](#Discussion).\n",
    "\n",
    "Here's the flow for our session on **trending topics**: \n",
    "\n",
    "> We will start with some [introductory](#Introduction) questions that focus on how and where trends come from? Or who decides what's on the trending topic list? Can they really be considered **a signal for \"attention\"** on social media platforms? It is important to understand these factors before we embark on parsing and finding patterns in data about computed trends from Facebook or Twitter. This is fundamental to any data science analysis - the incentives and procedures through which the data source generates and publishes data can often give us significant knowledge about how to interrogate it. \n",
    "\n",
    ">Following that, we will explore some real [datasets](#Data) of trends collected from Facebook and Twitter. This will give you hands-on experience analyzing trends, assessing their patterns and rhythms. On Thursday, we will flip things around and you will be asked to come up with trending algorithms.\n",
    "\n",
    ">The next section will be [methods](#Methods), where we will study some metrics that help **quantify features in the trend signal**. Example features include how long a trend lasted in some location, or how many geolocations it spread to etc. Note it isn't necessary that these features will reveal something \"interesting\" about the trend. The idea of this exercise is to help you calibrate your thinking about trends as a signal of social attention. In other words, assuming trends were a signal of \"attention\", what metrics can be used to compare to trends? \n",
    "\n",
    ">Finally, we will [discuss](#Discussion) more general readings about trending topics, including the recent controversy around Facebook's Trending Topic, the limitations of algorithmic methods in surfacing trends and the unintended appearance of fake news in trending topics list! \n",
    "\n",
    "[Introduction](#Introduction) | [Data](#Data) | [Methods](#Methods) | [Discussion](#Discussion)\n",
    "\n",
    "<hr>"
   ]
  },
  {
   "cell_type": "markdown",
   "metadata": {},
   "source": [
    "# Introduction\n",
    "\n",
    "We will start this session with some web work and a discussion. \n",
    "\n",
    "1. The idea of a trending or popular topic has become a fixture of the web and almost a navigational strategy for many of us. But what does it mean for a topic to be trending? How do these notions relate to other uses of the word, say from fashion? Next, let's find situations where trends are published, and talk about what they mean. What's trending on these sites?\n",
    "\n",
    "2. Next, let's focus just on Twitter and Facebook. What are the differences between their ideas of what's trending? What are your options for exploring trends on each platform? What comparisons can you make and what changes?\n",
    "\n",
    "In a broad sense, the idea behind trending topics is to surface something that signifies what the community is interested in, or paying attention to. Thus, when a group of users on Twitter increasingly RT (Retweet) a message or tweet about some topic, Twitter labels this as a \"trend\". \n",
    "\n",
    "Due to the incredible amounts of user-generated messages that these social platforms see everyday, Trending Topics are usually determined by an \"algorithm\" (a computer program or a set of guidelines for humans to follow... or a mixture). The role of the algorithm is to collect a substantial chunk of data generated on the social media site and strive to find **words/or phrases that occur more frequently than others, or words that are being produced with high \"velocity\"**. "
   ]
  },
  {
   "cell_type": "code",
   "execution_count": null,
   "metadata": {
    "collapsed": false
   },
   "outputs": [],
   "source": [
    "%%HTML\n",
    "<blockquote class=\"twitter-tweet\" data-lang=\"en\"><p lang=\"en\" dir=\"ltr\">Trending topics are determined by an algorithm measuring velocity of Tweets about a topic, not overall popularity: <a href=\"https://t.co/8gJJOT3gCw\">https://t.co/8gJJOT3gCw</a></p>&mdash; Policy (@policy) <a href=\"https://twitter.com/policy/status/742642510862950400\">June 14, 2016</a></blockquote>\n",
    "<script async src=\"//platform.twitter.com/widgets.js\" charset=\"utf-8\"></script>"
   ]
  },
  {
   "cell_type": "markdown",
   "metadata": {},
   "source": [
    "What does the term \"velocity\" mean here? Take a moment to figure it out. What have you found? \n",
    "\n",
    "Note that velocity is probably a better measure than frequency in satisfying the real time condition, because while overall frequency of a word might be very high its usage in the last few minutes might be low - meaning thats not actually \"trending\" now. An simplistic way to calculate velocity is:\n",
    "\n",
    "**Velocity_of_word (trending nature) = number of times a word was observed / time duration **\n"
   ]
  },
  {
   "cell_type": "markdown",
   "metadata": {},
   "source": [
    "Remeber when the power went out during the SuperBowl of 2013\n",
    "<blockquote class=\"twitter-tweet\" data-lang=\"en\"><p lang=\"en\" dir=\"ltr\">All the lights are out!! It’s pandemonium!! Thank god we have out Beyonce finger lights! <a href=\"http://t.co/JxUKr27i\">pic.twitter.com/JxUKr27i</a></p>&mdash; Neil Patrick Harris (@ActuallyNPH) <a href=\"https://twitter.com/ActuallyNPH/status/298245477042900992\">February 4, 2013</a></blockquote>\n",
    "<script async src=\"//platform.twitter.com/widgets.js\" charset=\"utf-8\"></script>\n",
    "\n",
    "Here is a chart comparing two trending topics \"superbowl\" and \"power\" that evening. \n",
    "\n",
    "<img src=\"http://www.socialflow.com/wp-content/uploads/2013/02/power_superbowl.jpg\" style=\"width: 80%;\"/>\n"
   ]
  },
  {
   "cell_type": "markdown",
   "metadata": {},
   "source": [
    "### 1.1 Sampling\n",
    "\n",
    "Trending algorithms often begin by creating a **sample** of tweets or FB status messages. Why do we want to work with  a subset of these messages, why not the whole thing you ask? Well, for one, the data might simply be too big to analyze quickly. In this case, some form of random sampling would help reduce the size of the data, but hopefully preserve the important patterns. Twitter, for example, offers users a random sample of tweets from their API.\n",
    "\n",
    "Also, depending on your notion of a trend, we might want to identify patterns in certain cohorts/groups/communities within a social network. This means creating a sample of data from just these members, possibly using statistical sampling again if the number is too large.\n",
    "\n",
    "So sampling, being the first phase of the trend algorithm, plays a critical role in what trends are surfaced. For example, if you sample all Facebook messages originating from India vs. those originating from the USA, then there is bound to be significant difference in the trending topic list, because the status updates would probably be different. This is true unless there is a global event that captures the attention of both nations simulateneously. \n",
    "\n",
    "Which sample you choose really goes back to your goals for computing a trending topic in the first place? What do you intend or what do your readers expect?\n",
    "\n",
    "### 1.2 Personalization\n",
    "\n",
    "Both Twitter and Facebook personalize trends based on many signals. The main signals include: \n",
    "* (1) Your interests: Pages you follow or things you LIKE.  \n",
    "* (2) People in your social network, and\n",
    "* (3) Your location: Twitter provides trends in more than 400 geolocations world wide. Facebook collects trends in only 5 zones, namely CA, IN, US, GB and AU. \n",
    "\n",
    "Twitter calls this sort of personalization \"Tailored Trends\" which is on by default, although you can click on \"change\" and retrieve trending topics for ANY geolocation. The Facebook trending list is personalized by default as well, but more importantly it is *not possible* to retrieve the global list of trends for any Facebook zone in Facebook's UI. Meaning on Twitter, you can see whats trending in Paris even if you live in Boston. On Facebook, you cannot see what's trending in Australia unless you live there. \n",
    "\n",
    "Luckily for us, our APIs have the ability to extrat the global list of Facebook trends from all its 5 zones. \n",
    "\n",
    "### 1.3 Trend Propagation\n",
    "\n",
    "So the next obvious question is: why does a trend start in one place and spread all over the network? To understand this, we must delve a bit deeper. A sequence of activity resembles what we call time series data. Activity in a social network can be tracked in three levels: (1) Micro, (2) Meso and (3) Macro. \n",
    "\n",
    "* Micro: You tweet or RT something\n",
    "* Meso: All the people in Washington DC tweet/RT something\n",
    "* Macro: The entire network activity\n",
    "\n",
    "Meso signals resemble time series data generated from activity of a collection of users. We do not know exactly how such activity correlates with one other, but most previous research hint at information cascades as one reason.\n",
    "\n",
    "**Information cascades** resemble a mathematical system where each node will make a decision of whether to forward the message/information or not based on its previous experience (is this a influential person) and the current signal information (is this tweet good enough to RT). In general, the *n*th agent considers the decisions of the previous *n-1* agents, and his/her own signal. He/she then makes a decision based on some reasoning to determine the most rational choice. The result is a set of activities on information propagating from node to node. \n",
    "\n",
    "<img src=\"https://cdn-images-1.medium.com/max/800/1*7988kEm4d2hDZdCpQoMGiQ.png\">\n",
    "\n",
    "Because meso signals are generated from micro signal (individual) activity and individual activity is influenced by network topology (who you follow and who follows you), the trend signal is indirectly caused by information dynamics governed by network topology. "
   ]
  },
  {
   "cell_type": "markdown",
   "metadata": {},
   "source": [
    "### 1.4 The Attention Signal\n",
    "\n",
    "Thus, the **trending topic over time is a SIGNAL** - a signal for what has captured the attention of a particular demographic (i.e. in a geo-location or within a community). Plotting such topic signals can often reveal interesting facts about information diffusion. \n",
    "\n",
    "For example, lets look at the trending topic '#Ferguson' in various US cities. \n",
    "\n",
    "<img src=\"https://cdn-images-1.medium.com/max/800/1*NXer4xgyr9qFEnUEjuIFJA.gif\">\n",
    "\n",
    "Here, the X-axis represents a fixed duration of time from when the trend was first seen in St. Louis. Y-axis represents the score of the trend in the trending topic list. (A score of 10 represents rank 1)"
   ]
  },
  {
   "cell_type": "markdown",
   "metadata": {},
   "source": [
    "### 1.5 Introductory Data Reads"
   ]
  },
  {
   "cell_type": "markdown",
   "metadata": {},
   "source": [
    "| Article | Description |\n",
    "| ------ | ----------- |\n",
    "|1. [FB Newsroom Trending Topics Guideline](https://fbnewsroomus.files.wordpress.com/2016/05/full-trending-review-guidelines.pdf)   |  How your news gets to be on the Trending Topic List |\n",
    "|2. [The Digital Flames of Ferguson](https://medium.com/i-data/the-digital-flames-of-ferguson-87c4eb9aaae4#.5cuci5dm0) | Quantifying how news spreads from location to location using Twitter trends. |\n",
    "|3. [#TrumpWon: Trend vs. Reality](https://medium.com/i-data/trumpwon-trend-vs-reality-16cec3badd60#.lspl71ll7)   | Our reality is decided by what we pay attention to. |\n",
    "|4. [Hong Kong, the World and Facebook Trends](https://medium.com/i-data/hong-kong-the-world-and-facebook-trends-28331ee8f2d1#.60t0s8k3j)   | A product's user Interface design can affect what becomes a trend|"
   ]
  },
  {
   "cell_type": "markdown",
   "metadata": {},
   "source": [
    "<hr>"
   ]
  },
  {
   "cell_type": "markdown",
   "metadata": {
    "collapsed": true
   },
   "source": [
    "### Some Helper Scripts before we begin"
   ]
  },
  {
   "cell_type": "markdown",
   "metadata": {},
   "source": [
    "##### Counters..."
   ]
  },
  {
   "cell_type": "code",
   "execution_count": null,
   "metadata": {
    "collapsed": false
   },
   "outputs": [],
   "source": [
    "# A Counter is really useful thing, that can count the frequency of things in a list..\n",
    "# it can then order in descending fashion. \n",
    "from collections import Counter\n",
    "x = ['ford','chevy','honda','ford','chevy','lincoln','ford']\n",
    "print Counter(x)\n",
    "print ''\n",
    "print Counter(x).most_common(2)"
   ]
  },
  {
   "cell_type": "markdown",
   "metadata": {},
   "source": [
    "##### Sets..."
   ]
  },
  {
   "cell_type": "code",
   "execution_count": null,
   "metadata": {
    "collapsed": false
   },
   "outputs": [],
   "source": [
    "x = ['ford','chevy','honda','ford','chevy','lincoln','ford']\n",
    "print set(x)"
   ]
  },
  {
   "cell_type": "code",
   "execution_count": null,
   "metadata": {
    "collapsed": false
   },
   "outputs": [],
   "source": [
    "y = ['ford','chevy','aston martin']\n",
    "set(x).intersection(set(y))"
   ]
  },
  {
   "cell_type": "markdown",
   "metadata": {},
   "source": [
    "<hr>"
   ]
  },
  {
   "cell_type": "markdown",
   "metadata": {},
   "source": [
    "# Data\n",
    "[Introduction](#Introduction) | [Data](#Data) | [Methods](#Methods) | [Discussion](#Discussion)"
   ]
  },
  {
   "cell_type": "markdown",
   "metadata": {},
   "source": [
    "There are two sources of trends data we will work with: Facebook and Twitter.\n",
    "\n",
    "**Facebook Data Description**: The ingestion script probes Facebook every 15 minutes and logs the trends for five zones: CA, AU, US, IN, GB.  [Download the data](http://sumandebroy.com/columbia/fb_trends.csv.gz), uncompress it, and place it in the same folder as this notebook.\n",
    "\n",
    "**Twitter Data Description**: The ingestion script probes Twitter every 15 minutes and logs the TTL (trending topic list) + underlying trends (users might not see this in the UI) for ~400 geographical locations worldwide. Again, [download the data](http://sumandebroy.com/columbia/twitter_trending_topics_for_us_120to122.csv.gz), uncompressit, and place it in the same folder as this notebook."
   ]
  },
  {
   "cell_type": "markdown",
   "metadata": {},
   "source": [
    "Let's do some basic analysis on the two datasets:\n",
    "  * [Facebook](#tt-fb)\n",
    "  * [Twitter](#tt-tw)"
   ]
  },
  {
   "cell_type": "code",
   "execution_count": null,
   "metadata": {
    "collapsed": true
   },
   "outputs": [],
   "source": [
    "from pandas import read_csv"
   ]
  },
  {
   "cell_type": "markdown",
   "metadata": {},
   "source": [
    "### 2.1 Facebook Trends <a id=\"tt-fb\"></a>"
   ]
  },
  {
   "cell_type": "code",
   "execution_count": null,
   "metadata": {
    "collapsed": false
   },
   "outputs": [],
   "source": [
    "#load fb trends data\n",
    "trends = read_csv(\"fb_trends.csv\")"
   ]
  },
  {
   "cell_type": "code",
   "execution_count": null,
   "metadata": {
    "collapsed": false
   },
   "outputs": [],
   "source": [
    "# what does this data look like.. \n",
    "trends.head()"
   ]
  },
  {
   "cell_type": "code",
   "execution_count": null,
   "metadata": {
    "collapsed": false
   },
   "outputs": [],
   "source": [
    "trends.count() "
   ]
  },
  {
   "cell_type": "markdown",
   "metadata": {},
   "source": [
    "**[Q]**: why are there fewer headlines? Facebook does not return headlines for very low trending news. "
   ]
  },
  {
   "cell_type": "code",
   "execution_count": null,
   "metadata": {
    "collapsed": false
   },
   "outputs": [],
   "source": [
    "# what zones am I looking at? \n",
    "trends[\"zone\"].value_counts()"
   ]
  },
  {
   "cell_type": "code",
   "execution_count": null,
   "metadata": {
    "collapsed": false
   },
   "outputs": [],
   "source": [
    "trends['topic_name'].value_counts().head(20)"
   ]
  },
  {
   "cell_type": "code",
   "execution_count": null,
   "metadata": {
    "collapsed": false
   },
   "outputs": [],
   "source": [
    "trends['topic_name'].describe()"
   ]
  },
  {
   "cell_type": "code",
   "execution_count": null,
   "metadata": {
    "collapsed": false,
    "scrolled": true
   },
   "outputs": [],
   "source": [
    "trends[2160:2170]"
   ]
  },
  {
   "cell_type": "code",
   "execution_count": null,
   "metadata": {
    "collapsed": false
   },
   "outputs": [],
   "source": [
    "# view some row\n",
    "trends[1849:1850]"
   ]
  },
  {
   "cell_type": "code",
   "execution_count": null,
   "metadata": {
    "collapsed": false
   },
   "outputs": [],
   "source": [
    "# you can also combine two columns !\n",
    "trends[['position','topic_name']][:4]"
   ]
  },
  {
   "cell_type": "code",
   "execution_count": null,
   "metadata": {
    "collapsed": false
   },
   "outputs": [],
   "source": [
    "# most common entries in a column, lets say topic_name\n",
    "trends['topic_name'].value_counts().head(20)"
   ]
  },
  {
   "cell_type": "code",
   "execution_count": null,
   "metadata": {
    "collapsed": false
   },
   "outputs": [],
   "source": [
    "# what were the 10 most popular trend in US\n",
    "trends['topic_name'][ trends['zone']=='US' ].value_counts().head(10)"
   ]
  },
  {
   "cell_type": "code",
   "execution_count": null,
   "metadata": {
    "collapsed": false
   },
   "outputs": [],
   "source": [
    "# how many items are there on the 22nd ? \n",
    "mask = (trends['datetime'] > '2017-01-22') & (trends['datetime'] <= '2017-01-23')\n",
    "mask.value_counts()"
   ]
  },
  {
   "cell_type": "markdown",
   "metadata": {},
   "source": [
    "*An aside about columns of strings*\n",
    "\n",
    "When a column in a DataFrame is made up of strings, you can access all the string methods you learned in your drill using the \".str\" object of the column. So, here we might look at the uppercase versions of the topic_names."
   ]
  },
  {
   "cell_type": "code",
   "execution_count": null,
   "metadata": {
    "collapsed": false
   },
   "outputs": [],
   "source": [
    "trends[\"topic_name\"].str.upper().head(10)"
   ]
  },
  {
   "cell_type": "markdown",
   "metadata": {},
   "source": [
    "You can also use the subsetting operator to extract out portions of a string. "
   ]
  },
  {
   "cell_type": "code",
   "execution_count": null,
   "metadata": {
    "collapsed": false
   },
   "outputs": [],
   "source": [
    "trends[\"topic_name\"].str[:5].head(10)"
   ]
  },
  {
   "cell_type": "code",
   "execution_count": null,
   "metadata": {
    "collapsed": false
   },
   "outputs": [],
   "source": [
    "# using this, show me data from a given date\n",
    "mask = trends['datetime'].str[:10] == '2017-01-22'\n",
    "mask.value_counts()"
   ]
  },
  {
   "cell_type": "markdown",
   "metadata": {},
   "source": [
    "Of course, there are several ways to do this. In this case, we could also use the string method startswith()"
   ]
  },
  {
   "cell_type": "code",
   "execution_count": null,
   "metadata": {
    "collapsed": false
   },
   "outputs": [],
   "source": [
    "mask = trends['datetime'].str.startswith('2017-01-22')\n",
    "mask.value_counts()"
   ]
  },
  {
   "cell_type": "markdown",
   "metadata": {},
   "source": [
    "We'll have more to say about some of the nice syntax in a DataFrame, but for now, it's enough to know that the material we covered about strings is not lost."
   ]
  },
  {
   "cell_type": "code",
   "execution_count": null,
   "metadata": {
    "collapsed": false
   },
   "outputs": [],
   "source": [
    "# trends that reached rank 1 in India\n",
    "trends[(trends['zone']=='IN') & (trends['position']==1)]  "
   ]
  },
  {
   "cell_type": "markdown",
   "metadata": {},
   "source": [
    "Zero rows returned... looks fishy !"
   ]
  },
  {
   "cell_type": "code",
   "execution_count": null,
   "metadata": {
    "collapsed": false
   },
   "outputs": [],
   "source": [
    "# hmm.. whats going on here.\n",
    "trends[(trends['zone']=='IN') & (trends['position']=='1')]  #example of dirty data, format returned is different "
   ]
  },
  {
   "cell_type": "code",
   "execution_count": null,
   "metadata": {
    "collapsed": false
   },
   "outputs": [],
   "source": [
    "# trends that reached rank 1 in GB on the 21st? \n",
    "trends[(trends['zone']=='GB') & (trends['position']=='1') & (trends['datetime'].str.startswith('2017-01-21'))]  "
   ]
  },
  {
   "cell_type": "code",
   "execution_count": null,
   "metadata": {
    "collapsed": false
   },
   "outputs": [],
   "source": [
    "# any common trends between US and GB on the 20th  ?\n",
    "\n",
    "gbTrends = trends['topic_name'][(trends['zone']=='GB') & (trends['datetime'].str.startswith('2017-01-20'))]\n",
    "usTrends = trends['topic_name'][(trends['zone']=='US') & (trends['datetime'].str.startswith('2017-01-20'))]\n",
    "\n",
    "print set(gbTrends).intersection(set(usTrends))"
   ]
  },
  {
   "cell_type": "markdown",
   "metadata": {},
   "source": [
    "### 2.2 Twitter Trends <a id=\"tt-tw\"></a>"
   ]
  },
  {
   "cell_type": "code",
   "execution_count": null,
   "metadata": {
    "collapsed": false
   },
   "outputs": [],
   "source": [
    "#load twitter trends data\n",
    "trends = read_csv('twitter_trending_topics_for_us_120to122.csv',names=[\"datetime\",\"timestamp\",\"country\",\"city\",\"position\",\"topic_name\"])"
   ]
  },
  {
   "cell_type": "code",
   "execution_count": null,
   "metadata": {
    "collapsed": false
   },
   "outputs": [],
   "source": [
    "# what this data looks like\n",
    "trends.head()"
   ]
  },
  {
   "cell_type": "code",
   "execution_count": null,
   "metadata": {
    "collapsed": false
   },
   "outputs": [],
   "source": [
    "# how big is this dataset?\n",
    "trends.count()  "
   ]
  },
  {
   "cell_type": "markdown",
   "metadata": {},
   "source": [
    "**[Q]**: Why is the count of cities lower than the overall count?"
   ]
  },
  {
   "cell_type": "code",
   "execution_count": null,
   "metadata": {
    "collapsed": false
   },
   "outputs": [],
   "source": [
    "# Describe topics trended on these days?\n",
    "trends['topic_name'].describe()"
   ]
  },
  {
   "cell_type": "code",
   "execution_count": null,
   "metadata": {
    "collapsed": false
   },
   "outputs": [],
   "source": [
    "# what are the most common trends in this time period\n",
    "trends[\"topic_name\"].value_counts().head(50)"
   ]
  },
  {
   "cell_type": "code",
   "execution_count": null,
   "metadata": {
    "collapsed": false
   },
   "outputs": [],
   "source": [
    "# What trended in LA ? \n",
    "mask = (trends['city'] == 'Los Angeles')\n",
    "trends[mask].head(10)"
   ]
  },
  {
   "cell_type": "code",
   "execution_count": null,
   "metadata": {
    "collapsed": false
   },
   "outputs": [],
   "source": [
    "# more concise report on what trended in LA\n",
    "trends['topic_name'][mask].value_counts().head(10)"
   ]
  },
  {
   "cell_type": "markdown",
   "metadata": {},
   "source": [
    "**[Q]**: How do you find the top trend in other cities? "
   ]
  },
  {
   "cell_type": "code",
   "execution_count": null,
   "metadata": {
    "collapsed": false
   },
   "outputs": [],
   "source": [
    "# Limit by date\n",
    "mask = trends['datetime'].str.startswith('2017-01-21')\n",
    "before22 = trends[mask]\n",
    "\n",
    "before22['topic_name'].value_counts().head(10)"
   ]
  },
  {
   "cell_type": "code",
   "execution_count": null,
   "metadata": {
    "collapsed": false
   },
   "outputs": [],
   "source": [
    "# what was trending in Seattle before 20-21st Jan? \n",
    "before22['topic_name'][ before22[\"city\"]=='Seattle' ].value_counts().head(10)"
   ]
  },
  {
   "cell_type": "code",
   "execution_count": null,
   "metadata": {
    "collapsed": false
   },
   "outputs": [],
   "source": [
    "# what trends reached rank 1 in Boston? \n",
    "trends['topic_name'][(trends['position']==1) & (trends['city']=='Boston')].value_counts()"
   ]
  },
  {
   "cell_type": "code",
   "execution_count": null,
   "metadata": {
    "collapsed": false
   },
   "outputs": [],
   "source": [
    "# what trend was emerging, but never made it to Boston's TTL\n",
    "trends['topic_name'][(trends['position']>10) & (trends['position']<15) & (trends['city']=='Boston')].value_counts()"
   ]
  },
  {
   "cell_type": "code",
   "execution_count": null,
   "metadata": {
    "collapsed": false
   },
   "outputs": [],
   "source": [
    "# what were the most common trends in some city ? \n",
    "trends['topic_name'][(trends['city']=='Atlanta')].value_counts().head(50)"
   ]
  },
  {
   "cell_type": "code",
   "execution_count": null,
   "metadata": {
    "collapsed": false
   },
   "outputs": [],
   "source": [
    "# Exercises"
   ]
  },
  {
   "cell_type": "markdown",
   "metadata": {},
   "source": [
    "<hr>"
   ]
  },
  {
   "cell_type": "markdown",
   "metadata": {},
   "source": [
    "# Methods\n",
    "[Introduction](#Introduction) | [Data](#Methods) | [Methods](#Results) | [Discussion](#Discussion)"
   ]
  },
  {
   "cell_type": "markdown",
   "metadata": {},
   "source": [
    "Methods are a list of features that trend signals usually contain. While these might not be valuable individually to comprehend the nature of the trend, a combination of all features allows two things:\n",
    "\n",
    "* Uniquely fingerprint a trend in the world\n",
    "* Allow comparison between two trend signals."
   ]
  },
  {
   "cell_type": "markdown",
   "metadata": {},
   "source": [
    "### Measures to capture features in a trend signal\n",
    "  * [Origin](#chapter-1)\n",
    "  * [Persistence](#chapter-2)\n",
    "  * [Recurrence](#chapter-3)\n",
    "  * [Geospan](#chapter-4)\n",
    "  * [Drift](#chapter-5)\n",
    "  * [Volatility](#chapter-6)"
   ]
  },
  {
   "cell_type": "markdown",
   "metadata": {
    "collapsed": true
   },
   "source": [
    "### 3.1 Origin<a id=\"chapter-1\"></a>"
   ]
  },
  {
   "cell_type": "markdown",
   "metadata": {},
   "source": [
    "The origin of a trend indicates where it was initiated. The main reason origin is a fascinating features includes (1) big trends can originate in small cities and go national (2) sometimes cities have an affinity to initiate certain categories of trends, e.g., many gaming trending topics originate in SF whereas numerous fashion trending topics originate in NY. "
   ]
  },
  {
   "cell_type": "code",
   "execution_count": null,
   "metadata": {
    "collapsed": true
   },
   "outputs": [],
   "source": [
    "# Exercise: Within the time limits of this data, find where \"#WomensMarch\" or \"#USofScience\" originated ! "
   ]
  },
  {
   "cell_type": "code",
   "execution_count": null,
   "metadata": {
    "collapsed": true
   },
   "outputs": [],
   "source": [
    "# Exercise: Can you find a city that did not originate any trend, but always latched on to existing ones? "
   ]
  },
  {
   "cell_type": "markdown",
   "metadata": {},
   "source": [
    "### 3.2 Persistence of a Trend <a id=\"chapter-2\"></a>"
   ]
  },
  {
   "cell_type": "markdown",
   "metadata": {},
   "source": [
    "Persistence of a trend is the duration of continuous time units for which it kept trending in some geo-location, signigied by continual presence in the trending topic list. This means during the persistence spell, a trend never fell out of the TTL and was not replaced by any other trend. \n",
    "\n",
    "So what does persistence really signify? Recall that a topic trends because people are tweeting about it. Two conditions are necessary for a trend to persist: \n",
    "* (1) a decent volume of tweets containing the trending word in a short amount of time and \n",
    "* (2) a failure of consolidation - i.e.  other tweets from the user group (either geo-location or follower group) fail to use the same trending word/ hash-tag in a consolidated fashion in enough tweets. This is also [the reason why #OccupyWallStreet **did not** trend in New York](http://www.niemanlab.org/2011/10/why-hasnt-occupywallstreet-trended-in-new-york/). \n",
    "\n",
    "\n",
    "<img src = \"http://www.niemanlab.org/images/socialflow_twittertrending.png\">\n",
    "\n",
    "The first condition assures that the word is trending enough to be above the threshold or cut-off marker that qualifies as a trend. The second condition assures that other trends are not competing hard enough to enter into the TTL. \n",
    "\n",
    "\n",
    "#### Visualizing Persistence:\n",
    "\n",
    "A smart way scientist visualize persistence is through something called dispersion plot. The Y-axis represents geo locations whereas the X-axis represents units of time since origin. You can the place a (dot) for every time the trend was observed at a location, and a blank if it wasn't. The result is continuos lines indicating persistence and gaps indicating lack of it. "
   ]
  },
  {
   "cell_type": "markdown",
   "metadata": {},
   "source": [
    "<img src=\"drogba.png\" width=\"60%\">"
   ]
  },
  {
   "cell_type": "markdown",
   "metadata": {},
   "source": [
    "Shown above is a dispersion plot of **Euro2012**, a soccer tournament. Notice how the trend persists/ sticks more in European cities than the American counterparts, indicating more interest or attention in the former locations.  "
   ]
  },
  {
   "cell_type": "code",
   "execution_count": null,
   "metadata": {
    "collapsed": false
   },
   "outputs": [],
   "source": [
    "# calculate persistence of trend '#USofScience' in Boston. \n",
    "trends[(trends['topic_name'] == '#USofScience') & (trends['city']=='Boston') & (trends['position']<11)]"
   ]
  },
  {
   "cell_type": "markdown",
   "metadata": {},
   "source": [
    "### 3.3 Recurrence of a Trend <a id=\"chapter-3\"></a>\n",
    "\n",
    "The recurrence of a trend is the number of times the trend reappears in the TTL (Trending Topic List) after initially dropping out the TTL. "
   ]
  },
  {
   "cell_type": "markdown",
   "metadata": {},
   "source": [
    "The phenomena causing recurrence is intuitively more challenging to comprehend than persistence. Firstly, it makes sense to assume that if a trend can persist for longer its chances of recurrence are lower, because **sustained attention is hard!** Recurrence indicates disrupted or unsteady attention spans among users in the community. The repetition of the trend reappearing could be due to many factors, including reduction of attention of one trend caused due to a sudden relative increase in attention of the another trend.  "
   ]
  },
  {
   "cell_type": "markdown",
   "metadata": {},
   "source": [
    "Here's another fascinating tidbit about recurrence: **data shows that the origin location of a trend plays an important role in the recurrence score.** In fact, the recurrence score is higher if the location's population is larger and more diverse. For example, trends will recur more often in New York than Tallahassee. This is because a big city with diverse population tweeting many different things disperses attention more quickly compared to a more homogenous crowd of smaller cities where people might have limited topics to tweet about. "
   ]
  },
  {
   "cell_type": "markdown",
   "metadata": {},
   "source": [
    "Recurrence is also common after people wake up from sleep. Because you don't tweet in bed (or do you?)"
   ]
  },
  {
   "cell_type": "markdown",
   "metadata": {},
   "source": [
    "<img src=\"https://cdn-images-1.medium.com/max/2000/1*4YreqD2g2mgtnrBlv0RNsw.gif\">"
   ]
  },
  {
   "cell_type": "code",
   "execution_count": null,
   "metadata": {
    "collapsed": true
   },
   "outputs": [],
   "source": [
    "# Exercise: \n",
    "# Find the recurrence of some trends from the Twitter dataset"
   ]
  },
  {
   "cell_type": "markdown",
   "metadata": {},
   "source": [
    "### 3.4 GeoSpan <a id=\"chapter-4\"></a>"
   ]
  },
  {
   "cell_type": "markdown",
   "metadata": {},
   "source": [
    "The geospan of a trend signal signifies the various geo-locations at which it was observed. In the case of micro signals, this boils down to individuals from different locations acting upon the media related to the trend. Geospan's are an important measure in identifying if a trend has gone national, in which case it will be visible in most geo locations of the country! "
   ]
  },
  {
   "cell_type": "code",
   "execution_count": null,
   "metadata": {
    "collapsed": false
   },
   "outputs": [],
   "source": [
    "# How many  cities in the US are we tracking? \n",
    "trends['city'][(trends['country'] == 'United States')].describe()"
   ]
  },
  {
   "cell_type": "code",
   "execution_count": null,
   "metadata": {
    "collapsed": false
   },
   "outputs": [],
   "source": [
    "# How many cities did #TrumpInauguration trend at? \n",
    "trends['city'][(trends['topic_name'] == '#TrumpInauguration')].describe()"
   ]
  },
  {
   "cell_type": "code",
   "execution_count": null,
   "metadata": {
    "collapsed": false
   },
   "outputs": [],
   "source": [
    "# How many cities did #WomensMarch trend at? \n",
    "trends['city'][(trends['topic_name'] == '#WomensMarch')].describe()"
   ]
  },
  {
   "cell_type": "code",
   "execution_count": null,
   "metadata": {
    "collapsed": false
   },
   "outputs": [],
   "source": [
    "# Exercise: find the cities where #TrumpInauguration did not trend! \n",
    "noTrendHere = set(trends['city'][(trends['country'] == 'United States')]) - set(trends['city'][(trends['topic_name'] == '#TrumpInauguration')])\n",
    "print noTrendHere"
   ]
  },
  {
   "cell_type": "markdown",
   "metadata": {},
   "source": [
    "### 3.5 Drift <a id=\"chapter-5\"></a>"
   ]
  },
  {
   "cell_type": "markdown",
   "metadata": {},
   "source": [
    "In simple terms, the drift of a trend is the chronological order of geo-locations that it touches on its way to becoming a national trend (sometimes it doesn't go national but only local). The reason we calculate drift is to observe two powerful network effects:\n",
    "\n",
    "* Drift can tell us which cities have low attention grasping capability, i.e. they can quickly catch up to another city's trending topic.\n",
    "* Drift can tell us which cities have similar interests, which is one of the reasons the trend spreads to that city.\n",
    "\n",
    "Shown below is the drift of #JesuisCharlie trend. It begins in Paris and then spreads to the French cities. However after that, it simultaneously drift to both some US cities (like NY, San Diego) and European cities (Madrid, Dusseldoff) within very short time. The final cities to get affected by the trend are South American and Australian cities. "
   ]
  },
  {
   "cell_type": "markdown",
   "metadata": {},
   "source": [
    "<img src=\"https://cdn-images-1.medium.com/max/2000/1*nmDuxI2vBA-R5gwIb1xjeg.gif\">"
   ]
  },
  {
   "cell_type": "code",
   "execution_count": null,
   "metadata": {
    "collapsed": true
   },
   "outputs": [],
   "source": [
    "# drift exercises time permitting. "
   ]
  },
  {
   "cell_type": "markdown",
   "metadata": {},
   "source": [
    "### 3.6 Volatility <a id=\"chapter-6\"></a>"
   ]
  },
  {
   "cell_type": "code",
   "execution_count": null,
   "metadata": {
    "collapsed": true
   },
   "outputs": [],
   "source": [
    "# More mathematical, time permitting. "
   ]
  },
  {
   "cell_type": "markdown",
   "metadata": {},
   "source": [
    "<hr>"
   ]
  },
  {
   "cell_type": "markdown",
   "metadata": {},
   "source": [
    "# Discussion\n",
    "[Introduction](#Introduction) | [Data](#Data) | [Methods](#Methods) | [Discussion](#Discussion)"
   ]
  },
  {
   "cell_type": "markdown",
   "metadata": {},
   "source": [
    "#### Bias\n",
    "\n",
    "Now let’s think about the bias issue. Bias means certain responses are more probable than others. This might cause a data sensor to detect some changes more promptly than others. Bias is not always social, it can be dependent on sampling. \n",
    "\n",
    "Sometimes, it is caused by the inherent signal generation. A nice example of this is determining which news articles are most read by users. One could pick a signal like ‘# of RTs the tweets with that news article received in Twitter’. But note Twitter has lots of bots, algorithm’s that could tweet out links based on domains or keywords. Thus, a link that has been RT-ed a lot might be under bots bias. On the other hand, think about an app like Instapaper, which flags a ‘read’ every time the user scrolls down the page to reach 20% distance from the end. This signal has much less bias, because bots cannot scroll. "
   ]
  },
  {
   "cell_type": "markdown",
   "metadata": {},
   "source": [
    "#### Algorithmic Curation\n",
    "\n",
    "* How do we start thinking about ways to have editors work in tandem with algorithms to identify trends. \n",
    "\n",
    "* What could happen if humans are not in the loop?"
   ]
  },
  {
   "cell_type": "markdown",
   "metadata": {},
   "source": [
    "Here is some more interesting reads about humans and algorithmic trend capture: "
   ]
  },
  {
   "cell_type": "markdown",
   "metadata": {},
   "source": [
    "| Article | Description |\n",
    "| ------ | ----------- |\n",
    "|1. [Fake news in Trends](https://www.washingtonpost.com/news/the-intersect/wp/2016/10/12/facebook-has-repeatedly-trended-fake-news-since-firing-its-human-editors/?utm_term=.ec1c1e47ca49)   |  Facebook fires editors, algorithm can't detect fake news. |\n",
    "|2. [Is this how the Trending Algorithm works?](https://qz.com/769413/heres-how-facebooks-automated-trending-bar-probably-works/) | And does that make it vulnerable? |\n",
    "|3. [The real problem with facebook and trending](https://stratechery.com/2016/the-real-problem-with-facebook-and-the-news/) | Is there a solution: editorial or algorithmic? |\n"
   ]
  },
  {
   "cell_type": "markdown",
   "metadata": {},
   "source": [
    "\n",
    "\n",
    "## Next Session:\n",
    "\n",
    "Trends-2:\n",
    ">Build your own trends from raw Twitter data. We will use raw tweets collected from Washington DC and New York to compile the trending topic list in these locations. All the personalization belongs to you.\n",
    "\n",
    "> More visualizations"
   ]
  }
 ],
 "metadata": {
  "kernelspec": {
   "display_name": "Python [conda root]",
   "language": "python",
   "name": "conda-root-py"
  },
  "language_info": {
   "codemirror_mode": {
    "name": "ipython",
    "version": 2
   },
   "file_extension": ".py",
   "mimetype": "text/x-python",
   "name": "python",
   "nbconvert_exporter": "python",
   "pygments_lexer": "ipython2",
   "version": "2.7.12"
  }
 },
 "nbformat": 4,
 "nbformat_minor": 1
}
