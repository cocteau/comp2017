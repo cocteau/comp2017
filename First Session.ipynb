{
 "cells": [
  {
   "cell_type": "markdown",
   "metadata": {},
   "source": [
    "Computational journalism: Hacking your attention\n",
    "------------------------------------------------\n",
    "\n",
    "**Background**\n",
    "\n",
    "First, the term *computational journalism.* What does it mean for journalism to be computational? Over the last few decades, computers have become part of our everyday lives. They regulate and shape our interactions with the physical and virtual worlds. Organizations increasingly equate (though not without problems) \"data release\" with transparency. Sensing (sound, light, air quality) is cheap and plentiful, and easily deployed by the general public. Our actions online generate vast quantities of digital data. In all of this, we can find new ways to ask questions about the world, how it's organized and how it functions. But the keys to this new digitized kingdom are data, code and algorithms. The curiosity, the questioning spirit, you developed last semester in your reporting classes, finds an outlet in new and unexpected ways, mediated by data, code and algorithms. Hence, *computational journalism.* It is simply a response to our new condition of living in a computational society.\n",
    "\n",
    "In this year's edition of the course, we will be focusing on computational tools and techniques that, while not necessarily new, certainly achieved new prominence in the recent national election. The vast networks of information that are created every day are simply too large for us to examine in their entirety. To get a sense of \"what's on,\" we take feeds from algorithmic recommender systems, we scan trending topics, we focus on information shared with us by our friends or people we trust. Over the last few years, we have seen how these tools and strategies for directing our attention can be hacked. \n",
    "\n",
    "This is the theme of our course. It is broad, admitedly, but we will be creating projects and stories that look at how we receive information. Here is a list of topics that your instructors have come up with -- we invite you to add to or edit this list.\n",
    "\n",
    "> *Search.* We will look at search engines, their design and function. We will both look at the \"autocomplete\" features as well as the returned lists of search results. We will examine what it takes to influence these algorithms and assess their frailties (promoting, say, \"filter bubbles\"). We will read alternative designs for search engines, designs that emphasize enriching political discourse -- as well as clicktroughs. \n",
    "<br><br>\n",
    "> *Trending topics.* How do different organizations identify currently popular topics? What's being discussed right now? We will compare Facebook and Twitter, assembling large data sets and providing you with both an opportunity to question how well existing algorithms function as well as build something different.\n",
    "<br><br>\n",
    "> *Algorithmic recommender systems.* Distinct from trending topics, here we look newsfeed analysis. \n",
    "<br><br>\n",
    "> *Fake news.* This term needs to be retired, but the concept lets us discuss the Fake News AI (artificial intelligence) challenge, network analyses to see how a fake news story goes viral on Twitter, and even have a wiff of \"bots\" to see the role that fake Twitter accounts might be playing in material going viral. We will implement \"Hoaxy\" and the underlying tools that classify a Twitter account as fake. \n",
    "<br><br>\n",
    "> *Network analysis.* We introduce and build tools for looking at networks that are activated by certain kinds of material when shared on Twitter. We will buy 10,000 followers and examine how many are bots and how they behave. We will also look at networks of news sites that are all under the control of a single authority. How do you spot the depencence and then graph the networks? \n",
    "<br><br>\n",
    "> *Bots and botnets.* From conversational bots (deployed by the Clinton and Trump campaigns, for example), to bots that harass, to bots that \"join in\" and help spread content on a social network, to \"Google bombs\", we will examine how autonomous programs can be used to hack our attention.\n",
    "<br><br>\n",
    "> *Adtech.* We will begind with Facebooks's targeting abilities and then look at Google Ads and Facebook advertising as vehicles for fake news, for spreading viral content. \n",
    "<br><br>\n",
    "> *Explainable AI.* How can we make predictions, algorithms, more understandable? \n",
    "<br><br>\n",
    "> *Hacking stories.* Or, rather, stories of our hacked attention. Here we mean stories like the Lotan piece you read for today. What goes into crafting a story like this?\n",
    "\n",
    "We will learn a variety of tools along the way, and our primary programming language will be Python. We will talk through how we came to this decision, but for the moment, know that it is a flexible language that lets you easily connect to networks like Twitter, assemble and analyze data from formal databases and the web, and build responsive services based on all these inputs. \n",
    "\n",
    "We will use Python from within this notebook framework. The notebook is an ideal way to address you journalistic and programming needs. Beyond simply commenting on what\n",
    "your code is doing, these notebooks are a legitimate authoring system that you will use\n",
    "to create (and publish) pitches and memos for this class. "
   ]
  },
  {
   "cell_type": "markdown",
   "metadata": {},
   "source": [
    "**Why we code**\n",
    "\n",
    "The goal of this course is to introduce computation, broadly defined, as a tool for both finding and telling stories. This mean \"reporting on\" computation and its role in the world, as well as \"reporting with\" computing tools in pursuit of a story -- and any combination of the two.  \n",
    "\n",
    "When teaching computation (or any \"technology\") as part of a course, people often refer to \"literacy\" as a goal. For the most part, that term implies \"functional literacy\" -- do you understand how to use something? Can you write a program, say, to assemble a data set from the web? Stuart Selber, a professor of English at Penn State, writes about two other facets to being literate. After functional literacy, he defines \"critical literacy.\" Here are characteristics of a critically literate student.\n",
    "\n",
    ">*Design cultures.* A critically literate student scrutinizes the dominant perspectives that shape computer design cultures and their artifacts.\n",
    "\n",
    ">*Use contexts.* A critically literate student sees use contexts as an inseperable aspect of computers that helps to contextualize and constitute them.\n",
    "\n",
    ">*Institutional forces.* A critically literate student understands the institutional forces that shape computer use.\n",
    "\n",
    ">*Popular representations.* A critically literate student scrutinizes representations of \n",
    "computers in the public imagination.\n",
    "\n",
    "The third kind of literacy is \"rhetorical.\" \n",
    "\n",
    ">*Persuasion.* A rhetorically literate student understands that persuasion permeates interface design contexts in both implicit and explicit ways and that it always involves larger structures and forces (e.g., use contexts, ideology).\n",
    "\n",
    ">*Deliberation.* A rhetorically literate student understands that interface design problems are ill-defined problems whose solutions are representational arguments that have been arrived at through various deliberative activities.\n",
    "\n",
    ">*Reflection.* A rhetorically literate student articulates his or her interface design knowledge at a conscious level and subjects their actions and practices to critical assessment.\n",
    "\n",
    ">*Social action.* A rhetorically literate student sees interface design as a form of social versus technical action.\n",
    "\n",
    "From the standpoint of a journalism student, all of this might best be wrapped up in the following equivalences (shamelessly cribbed from Ian Bogost at Georgia Tech).\n",
    "<br><br>\n",
    "<center>**Digital Technology = Model of the World  = Argument**</center>\n",
    "<br><br>\n",
    "In short, every piece of digital technology embeds within it a model of the world. You might think of this as the dominant \"use case\" a designer had in mind. The net effect is that some actions are natural, \"designed for\", easy, while others are hard. And this is the argument. It is the way that technology trains you to adopt its conventions, its embedded model of the world. You are led to do the easy things and avoid the hard things. \n",
    "\n",
    "In this class, we will spend a great deal of time learning a programming language, Python. And yes, any given coding language has its own model of the world and makes its own arguments for certain kinds of practices (certain metaphors for actually writing code). But with a coding language comes almost unbounded flexibility to create. Unlike many of the designed systems we interact with, coding gives us the freedom to build, to imagine the world in new ways. \n",
    "\n",
    "All of these ideas take on particular resonance with our theme, \"Hacking your attention.\" We are inviting you to not only investigate existing algorithms for computing \"trending topics,\" but also to try out your own ideas about how this should be done. In an age when people are arguing for \"algorithmic accountability\" and \"explainable\" artificial intelligence\", it's the perfect time to consider a reporting practice that investigates by building. "
   ]
  },
  {
   "cell_type": "markdown",
   "metadata": {},
   "source": [
    "**Instructors**\n",
    "\n",
    "Given our ambitions for this course, we have two additional instructors who will be joining us for discussions, contributing to lectures and assignments, and providing assistance with your projects. The first is Suman Deb Roy.\n",
    "\n",
    ">**Suman Deb Roy** *is the Lead Data Scientist at betaworks, a technology company that operates as a studio - building new products, growing companies and seed investing. Previously, he worked with Microsoft Research and as a Fellow at the Missouri School of Journalism. He is responsible for building several data products at Digg, Instapaper and Poncho. Suman is also the author of 'Social Multimedia Signals: A Signal Processing Approach to Social Network Phenomena' - a book that describes theories, algorithms and best practices to intelligently learn from Web Media. *\n",
    "\n",
    ">*Dr. Roy’s work in transfer (machine) learning won the IEEE Communications Society MMTC Best Journal Paper Award in 2015 and his research on media analysis with algorithms has been covered in The NY Times, Bloomberg News, The Atlantic, The Economist, CJR, Huffington Post and Harvard. He was invited to speak about the same at various conferences and institutions, including the Bill and Melinda Gates Foundation, The Knight Foundation, Amazon, O’Reilly Media etc. His current research focuses on verification of algorithmic systems in real world applications, designing natural language interfaces in voice/ chat bots and the prospective use of AI in media literacy.* \n",
    "\n",
    "The second is Mike Young. As you will see, both Mike and Suman have extensive experience developing journalistic technologies.\n",
    "\n",
    ">**Michael Young** *is the CTO of Digg.com. Before working for Digg, he was CTO/co-founder of a Betaworks-funded personalized news service called News.me. A few years after starting News.me, betaworks acquired Digg, at which time Michael and his News.me team transitioned into the group that would rebuild Digg. Prior to that, he was the lead Creative Technologist in the NYTimes R&D Lab. At the NYTimes R&D lab, Michael led a group charged with prototyping new ways of consuming media across mobile, web, tv and other connected devices (cars, etc). During his time there, he authored two books, won the Yahoo! BBC London Hack Day, received a patent for \"Method and System for Providing Preference Based Content to a Location Aware Mobile Device\" and was awarded a Knight-Batten Award for Innovations in Journalism. Michael has a degree in Computer Science and Math from Lewis & Clark College in Portland, OR.*"
   ]
  },
  {
   "cell_type": "markdown",
   "metadata": {},
   "source": [
    "**Assignments**\n",
    "\n",
    "**Each week**, you will receive notebooks, like this one, that you will work through outside of class. They will usually be due before the next class meeting, but specific deadlines will be given with each. There will be one or two per week and their level of detail will depend on the material. Sometimes they will be more drill-like, and other times they will challenge you to create something new. But don't worry, we do not assume you know anything about Python, in particular, or coding, in general. \n",
    "\n",
    "**You may work on your assignment in groups, but you should answer any questions in your own words. No copying. It is important that we see how well you are understanding the material.**\n",
    "\n",
    "In addition, **each week** you will find a story or some technology (program, platform, web site) that deals with the themes of the class. You will write a summary/critique, and contribute it to the course Tumblr page. To help you, here are the kinds of questions you might address about a story you read.\n",
    "\n",
    "1. What is the story about? Use no more than two sentences.\n",
    "2. What drew you to this story, and why does it enhance our class discussion?\n",
    "3. What data is used in the story, if any? How did the journalist obtain the data?\n",
    "4. How did the computing help in telling the story? Who performed the computations?\n",
    "5. Did the journalist \"show their work\" and could you recreate their results?\n",
    "6. What non-computing sources were used, and how do they contribute to the story?\n",
    "7. What would you do to follow up on this story? Where would you go next? \n",
    "\n",
    "These writeups are **due by 5pm Monday evenings.**\n",
    "\n",
    "The class will culminate in a final project, the largest component of your grade. You will work in groups of 2-3 students. Your project is meant to be an act of computational journalism. This might mean building and documenting a new data set or computing service, or using computation to probe an existing platform or data set to tell a new story. No matter what path is chosen, we expect a well-written, well-reported story memo that accompanies your analysis or technology development. \n",
    "\n",
    "**A significant story pitch describing your project is due March 27.** This should be of\n",
    "sufficient detail that it’s clear you will have a strong, finished project by the end of the\n",
    "term — you might have started building something, reporting on something and\n",
    "analyzing data, etc. The purpose of this midterm check-in is to avoid end-of-term\n",
    "surprises as data fall through, holes emerge or analyses break down.\n",
    "\n",
    "**Each Monday by 5pm** students will update a Jupyter notebook corresponding to\n",
    "their final project. Initially, this might consist entirely of text and straight-up reporting, along with questions about a story idea and how to proceed. It might also consist of computations and progress toward a final story memo. We expect just one update per group.\n",
    "\n",
    "**Grading**\n",
    "\n",
    "Grades will be divided between weekly writing assignments (computing or data story\n",
    "writeups and project updates), weekly coding drills, your final project, and attendance/\n",
    "participation. \n",
    "\n",
    "> 15% Attendance and participation<br>\n",
    "> 15% Blog contributions (computing stories) and presentations<br>\n",
    "> 15% Project updates<br>\n",
    "> 15% Coding homework<br>\n",
    "> 40% Final project\n",
    " \n",
    "We will make use of the “low pass” option for grading."
   ]
  },
  {
   "cell_type": "markdown",
   "metadata": {},
   "source": [
    "**Python and Jupyter**\n",
    "\n",
    "Python is a programming language created by a guy, [Guido van Rossum](https://en.wikipedia.org/wiki/Guido_van_Rossum). van Rossum began work on Python in the late 1980s and version 1.0 was released in 1994. Python now has a considerable development community and you can find important resources at the [Python web site.](https://www.python.org/) According to that site, Python is \"a high-level general-purpose programming language that can be applied to many different classes of problems.\" \n",
    "\n",
    "Those problems include  string manipuation -- looking at the words or sentences in a document, say. Python is conversant in network protocols which means you can use it to access web sites and services -- this will help with web scraping or pulling data from Twitter. There are add-ons contributed by the community that let you make wonderful maps and data visualizations, perform analysis on tabular data (but not in a wonky Excel fashion), and access data stored in a variety of different databases. \n",
    "\n",
    "In the late 1990s van Rossum wrote a proposal entitled [\"Computer Programming for Everybody\"](https://www.python.org/doc/essays/cp4e/). To give you a sense of van Rossum as a designer of technology, consider this passage.\n",
    "\n",
    ">In the dark ages, only those with power or great wealth (and selected experts) possessed reading and writing skills or the ability to acquire them. It can be argued that literacy of the general population (while still not 100%), together with the invention of printing technology, has been one of the most emancipatory forces of modern history.\n",
    "\n",
    ">We have only recently entered the information age, and it is expected that computer and communication technology will soon replace printing as the dominant form of information distribution technology. About half of all US households already own at least one personal computer, and this number is still growing.\n",
    "\n",
    ">However, while many people nowadays use a computer, few of them are computer programmers. Non-programmers aren't really \"empowered\" in how they can use their computer: they are confined to using applications in ways that \"programmers\" have determined for them. One doesn't need to be a visionary to see the limitations here.\n",
    "\n",
    "Later he envisions a world with millions or even billions of computer programmers at various levels of proficiency. His is a world where people are not trained by expert-created platforms, but instead have sufficient facility with computation to help shape the software systems around them.\n",
    "\n",
    "In the rest of this Jupyter notebook, we introduce Python as a language and prepare you for its basic \"syntax\" -- as a language, what are the nouns and verbs and what grammar glues them together? We will also introduce you to the Jupyter notebook itself.\n",
    "\n",
    "Jupyter, by the way, comes from the original core languages that the notebook supported -- Julia, Python and R. You might have heard about Python and R, but probably not Julia. In fact, new langauges are being created all the time, often tailored to particular kinds of problems. Python is a bit of a generalist, while R is great for statistical computations. [Here is a very long list](https://en.wikipedia.org/wiki/List_of_programming_languages) of programming languages. \n",
    "\n",
    "But our choice is made -- Python. Let's have a look!"
   ]
  },
  {
   "cell_type": "markdown",
   "metadata": {},
   "source": [
    "**Introduction**\n",
    "\n",
    "We will begin our introduction to Python with some of the most infamous artifacts of the last election -- Donald Trump's tweets. Trump's use of Twitter might be a topic for a final project, and this article in the New York Times, [**10 Times Trump Spread Fake News**](https://www.nytimes.com/interactive/2017/business/media/trump-fake-news.html?em_pos=small&emc=edit_tu_20170118&nl=bits&nl_art=1&nlid=16428923&ref=headline&te=1&_r=0&smid=tw-share), suggests broader connections with the themes of our class.\n",
    "\n",
    ">His sourcing highlights the bounty of misinformation accessible on the web and its power in a deeply divided America — especially when endorsed by someone of Mr. Trump’s influence and visibility.\n",
    "\n",
    ">He offered this explanation for his actions while discussing an altered YouTube video he had tweeted as part of an unsubstantiated claim that a protester at one of his rallies had ties to the Islamic State: “I don’t know what they made up; all I can do is play what’s there,” Mr. Trump said on NBC’s “Meet the Press.”\n",
    "\n",
    ">“All I know is what’s on the internet.”\n",
    "\n",
    "So, to begin. **This text is written in \"Markdown,\"** a kind of pre-language for creating HTML. You should have run through the Markdown exercise before class. You can double-click on this \"cell\" to see the raw Markdown, and then shift-enter to render it as HTML.\n",
    "\n",
    "Your notebook knows a few kinds of cells and we will spend our time primarily with Markdown and Python. The cell below this is a \"code\" cell-- it contains simple Python instructions or \"expressions.\" You \"execute\" the code in the cell by simply clicking and then shift-enter. "
   ]
  },
  {
   "cell_type": "code",
   "execution_count": null,
   "metadata": {
    "collapsed": false
   },
   "outputs": [],
   "source": [
    "5+30"
   ]
  },
  {
   "cell_type": "markdown",
   "metadata": {},
   "source": [
    "You can also assign \"variables\" -- that is, we take the result of some expression or computation on the righthand side of the \"equals\" sign and let the name on the lefthand side refer to it. Here, \"p\" is associated with the sum of 5 and 30 and wherever we refer to p, that value of 35 is substituted."
   ]
  },
  {
   "cell_type": "code",
   "execution_count": null,
   "metadata": {
    "collapsed": false
   },
   "outputs": [],
   "source": [
    "p = 5+30\n",
    "12+p"
   ]
  },
  {
   "cell_type": "markdown",
   "metadata": {},
   "source": [
    "Working with Python is about creating and evolving \"software objects\". For example, the number 35 is an object that, like objects in the real world, has things you can do with it (add it to or multiply it by another number, say) and various properties (for example, 35 is smaller than 38). Python's creators designed a series of powerful objects that will help us do a lot of work, and, importantly, they left open a backdoor so you can make new kinds of objects. Why might we do that?\n",
    "\n",
    "Community members have created objects to work with images and sound, to manipulate tabular data and not just single values like 35, to make requests for data across the web, or to suck the data out of PDF files. All of this will become second nature. But for now, the important thing is that **Python is an object-oriented language**, meaning that software objects are used to organize data and computations. \n",
    "\n",
    "You can get the type or \"class\" of any object by asking with the \"function\" type()."
   ]
  },
  {
   "cell_type": "code",
   "execution_count": null,
   "metadata": {
    "collapsed": false
   },
   "outputs": [],
   "source": [
    "type(35)"
   ]
  },
  {
   "cell_type": "markdown",
   "metadata": {},
   "source": [
    "Here \"int\" stands for \"integer\" which we (hopefully) remember from grade school. \n",
    "\n",
    "Before we explain what functions like type() are (although they are again objects), let's look at some other data types. There are objects to represent \"real\" numbers, strings of characters and even objects that contain other objects, perhaps organizing them into a list."
   ]
  },
  {
   "cell_type": "code",
   "execution_count": null,
   "metadata": {
    "collapsed": false
   },
   "outputs": [],
   "source": [
    "type(5.0/30.0 + 2.3)"
   ]
  },
  {
   "cell_type": "markdown",
   "metadata": {},
   "source": [
    "Wait, \"float\"? What's that? Hmm. \n",
    "\n",
    "Lucky thing Python even knows about more elaborate objects like YouTube videos. But we're getting ahead of ourselves. The type \"float\" represents a \"floating point number\" which is a computer representation of numbers that have a decimal point. "
   ]
  },
  {
   "cell_type": "code",
   "execution_count": null,
   "metadata": {
    "collapsed": false
   },
   "outputs": [],
   "source": [
    "from IPython.display import YouTubeVideo\n",
    "YouTubeVideo('PZRI1IfStY0')"
   ]
  },
  {
   "cell_type": "markdown",
   "metadata": {},
   "source": [
    "As we think about the kinds of data we come across everyday browsing the web, certainly numbers are important. But so too are sequences of characters or \"strings\". These might represent people's names or addresses, for example. We create a string in Python by surrounding a series of characters with quotations."
   ]
  },
  {
   "cell_type": "code",
   "execution_count": null,
   "metadata": {
    "collapsed": false
   },
   "outputs": [],
   "source": [
    "type(\"Is he really going to make us read Trump's Tweets?\")"
   ]
  },
  {
   "cell_type": "markdown",
   "metadata": {},
   "source": [
    "We can again introduce variables to store this data descriptively, and work with the names as easily as we would the underlying data."
   ]
  },
  {
   "cell_type": "code",
   "execution_count": null,
   "metadata": {
    "collapsed": false
   },
   "outputs": [],
   "source": [
    "p = \"Is he really going to make us read Trump's Tweets?\"\n",
    "p + \" Heaven help us.\""
   ]
  },
  {
   "cell_type": "markdown",
   "metadata": {},
   "source": [
    "This is a nice example of computations changing depending on the type of the objects involved. Add two numbers and you get their sum. Add two strings and you get a concatenation. What about multiplication?"
   ]
  },
  {
   "cell_type": "code",
   "execution_count": null,
   "metadata": {
    "collapsed": false
   },
   "outputs": [],
   "source": [
    "\"Tweets \"*10"
   ]
  },
  {
   "cell_type": "markdown",
   "metadata": {},
   "source": [
    "To access the data and computations (methods) unique to a particular object, we use so-called \"dot\" or \".\" notation. What kinds of things might we want to do with strings, for example? What computations make sense?\n",
    "\n",
    "(Note that the notebook has been \"printing\" out the result of the last computation in the cell. If we want to see the results of other computations, we need to call the \"print\" command as we are doing below.)"
   ]
  },
  {
   "cell_type": "code",
   "execution_count": null,
   "metadata": {
    "collapsed": false
   },
   "outputs": [],
   "source": [
    "p = \"In addition to winning the Electoral College in a landslide...\"\n",
    "\n",
    "print p.upper()\n",
    "print p.lower()\n",
    "\n",
    "print p.count(\"i\")\n",
    "print p.replace(\"t\",\"g\")"
   ]
  },
  {
   "cell_type": "markdown",
   "metadata": {},
   "source": [
    "Notice that when we are taking action like translating something to uppercase or counting the number of \"i\"'s in the string, we end the method with parentheses. Think back to your algebra when you were introduced to functions. It's the same concept here. Sometimes functions require \"arguments\" (like when we replaced the \"t\"'s with \"g\"'s) and sometimes they do not (like when we turned the string to upper or lowercase).\n",
    "\n",
    "Notice that methods can (and likely will be) unique to the kind of object we are dealing with. This will toss up an error because it's not clear how one turns a number into uppercase."
   ]
  },
  {
   "cell_type": "code",
   "execution_count": null,
   "metadata": {
    "collapsed": false
   },
   "outputs": [],
   "source": [
    "p = 40\n",
    "p.upper()"
   ]
  },
  {
   "cell_type": "markdown",
   "metadata": {},
   "source": [
    "Python has a simple help facility to let you see what kinds of things you can do to an object and what kinds of data it has. help() is another function, by the way. (This means we've seen two kinds of functions -- help() and type() are so-called \"globals\" that can be applied widely, whereas upper() and count() are associated with specific object types and are called with the dot notation.)"
   ]
  },
  {
   "cell_type": "code",
   "execution_count": null,
   "metadata": {
    "collapsed": false
   },
   "outputs": [],
   "source": [
    "p = \"Tweets\"\n",
    "help(type(p))"
   ]
  },
  {
   "cell_type": "code",
   "execution_count": null,
   "metadata": {
    "collapsed": false
   },
   "outputs": [],
   "source": [
    "p = 1.5\n",
    "help(type(p))"
   ]
  },
  {
   "cell_type": "code",
   "execution_count": null,
   "metadata": {
    "collapsed": false
   },
   "outputs": [],
   "source": [
    "p.as_integer_ratio()"
   ]
  },
  {
   "cell_type": "markdown",
   "metadata": {},
   "source": [
    "Before we leave this introduction, just a comment on how you can extend the capabilities of Python. It know about numbers and strings and a lot of different kinds of \"built-in\" objects. But sometimes you want to work with other objects not considered by the language's designers. Here we \"import\" functionality from other packages or modules contributed by community members. In the case below, we create an object representing a YouTubeVideo and play it. Be warned! This one is not as exciting as floating point numbers. It's about Jupyter :)"
   ]
  },
  {
   "cell_type": "code",
   "execution_count": null,
   "metadata": {
    "collapsed": false
   },
   "outputs": [],
   "source": [
    "from IPython.display import YouTubeVideo\n",
    "YouTubeVideo('GMKZD1Ohlzk')"
   ]
  },
  {
   "cell_type": "markdown",
   "metadata": {},
   "source": [
    "I should add that the Jupyter notebook is quite a thing on its own. You can publish it as a document, you can send it around for others to use. It is also capable of \"magic,\" allowing us to tell the notebook to interpret the code in a cell as Python (default) or R or HTML or even UNIX. Here's the HTML code for embedding one of Trump's Tweets, taken directly from Twitter.\n",
    "\n",
    "Here we use the \"%%\" to tell Jupyter that the code that follows is HTML and to render it as such in the browser. The result is an embedded Tweet. "
   ]
  },
  {
   "cell_type": "code",
   "execution_count": null,
   "metadata": {
    "collapsed": false
   },
   "outputs": [],
   "source": [
    "%%HTML\n",
    "<blockquote class=\"twitter-tweet\" data-lang=\"en\"><p lang=\"en\" dir=\"ltr\">In addition to winning the Electoral College in a landslide, I won the popular vote if you deduct the millions of people who voted illegally</p>&mdash; Donald J. Trump (@realDonaldTrump) <a href=\"https://twitter.com/realDonaldTrump/status/802972944532209664\">November 27, 2016</a></blockquote>\n",
    "<script async src=\"//platform.twitter.com/widgets.js\" charset=\"utf-8\"></script>"
   ]
  },
  {
   "cell_type": "markdown",
   "metadata": {},
   "source": [
    "Now, let's recall one of our more advanced objects, a string. Here is the text of a couple of Trump's tweets. Let's count how often words are used. (Be careful here, we are just looking for the exact set of characters in the count() method.)"
   ]
  },
  {
   "cell_type": "code",
   "execution_count": null,
   "metadata": {
    "collapsed": false
   },
   "outputs": [],
   "source": [
    "tweet = \"Just tried watching Saturday Night Live - unwatchable! Totally biased, not funny and the Baldwin impersonation just can't get any worse. Sad\"\n",
    "tweet.count(\"o\")"
   ]
  },
  {
   "cell_type": "code",
   "execution_count": null,
   "metadata": {
    "collapsed": false
   },
   "outputs": [],
   "source": [
    "tweet = \"I agree, @MMFlint- To all Americans, I see you &amp; I hear you. I am your voice. Vote to #DrainTheSwamp w/ me on 11/8. https://t.co/D7nBwkogBb\"\n",
    "tweet.count(\"I \")"
   ]
  },
  {
   "cell_type": "markdown",
   "metadata": {},
   "source": [
    "These are just a couple Tweets out of oh so many. You can have access to all Trump's Tweets through the [Trump Twitter Archive](http://www.trumptwitterarchive.com/). The underlying data [are stored here.](https://github.com/bpb27/political_twitter_archive/tree/master/realdonaldtrump) \n",
    "\n",
    "We will work with this data set in your drill (to be posted tomorrow). For now, we'll use a special copy I created that is basically a big text file, one line per tweet. [Download it here](http://compute-cuj.org/trump.txt) and place it in the same folder as this notebook.\n",
    "\n",
    "We then use a function called open() to open the file and read() in the contents. We'll have a lot to say about how you load data for Python to work with. For now, we are taking the file of Tweets and reading them in as one long text string."
   ]
  },
  {
   "cell_type": "code",
   "execution_count": null,
   "metadata": {
    "collapsed": false
   },
   "outputs": [],
   "source": [
    "tweets = open(\"trump.txt\").read()\n",
    "tweets"
   ]
  },
  {
   "cell_type": "markdown",
   "metadata": {},
   "source": [
    "This printed out the string and included characters like \"\\n\". This special character means a newline -- it is what happens when you hit \"enter\" when you are typing in a Word document. We can have the \"\\n\"'s print as actual newlines by using the command \"print\" instead. Here we will get one line (perhaps wrapped) per Tweet."
   ]
  },
  {
   "cell_type": "code",
   "execution_count": null,
   "metadata": {
    "collapsed": false
   },
   "outputs": [],
   "source": [
    "print tweets"
   ]
  },
  {
   "cell_type": "code",
   "execution_count": null,
   "metadata": {
    "collapsed": false
   },
   "outputs": [],
   "source": [
    "# Write some code and tell me something about Trump's 1,000 most recent Tweets\n",
    "\n"
   ]
  }
 ],
 "metadata": {
  "anaconda-cloud": {},
  "kernelspec": {
   "display_name": "Python [Root]",
   "language": "python",
   "name": "Python [Root]"
  },
  "language_info": {
   "codemirror_mode": {
    "name": "ipython",
    "version": 2
   },
   "file_extension": ".py",
   "mimetype": "text/x-python",
   "name": "python",
   "nbconvert_exporter": "python",
   "pygments_lexer": "ipython2",
   "version": "2.7.12"
  }
 },
 "nbformat": 4,
 "nbformat_minor": 0
}
