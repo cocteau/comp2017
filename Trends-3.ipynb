{
 "cells": [
  {
   "cell_type": "markdown",
   "metadata": {},
   "source": [
    "Your approach to trending\n",
    "-------------------------\n",
    "**Due 2/3 at 5pm**\n",
    "\n",
    "In class we started to flesh out your ideas for a trending algorithm. We have a lot of data, code and new vocabulary to make this real! Keep in mind that you can propose anything you like. From a brand new algorithm to one that \"polishes up\" Twitter's, to anything else. You can rely on the data we have provided or collect your own. Please answer the following questions and get ready to start implementing on Thursday.\n",
    "\n",
    "**Your definition**\n",
    "\n",
    "1. Based on your work last night, let's start by putting your idea of trending into words. **What does it mean for a topic to trend on Twitter?** Does it have to do with popularity? Does it have to do with timeliness? Is there some measure of importance you want to add? What about how influential people are who are promoting the topic? This is your \"model of the world\" that your trending algorithm will, in turn, be an argument for.\n",
    "\n",
    "2. And what constitutes a topic? Is it user's mentioned? Hashtags? Particular news articles (URLs)? Words used in tweets that are not one of these kinds of entities? Words used in linked material?\n",
    "\n",
    "3. Why have you chosen this particular approach? Is there a journalistic principle you're applying? What makes this sensible?\n",
    "4. Keep an eye on how your algorithm might be gamed. Don't imagine an all powerful robot, but could someone with minimal skills boost something to trending that you think shouldn't be? How is your algorithm protected?"
   ]
  },
  {
   "cell_type": "markdown",
   "metadata": {},
   "source": [
    "Your answer here.\n",
    "\n"
   ]
  },
  {
   "cell_type": "markdown",
   "metadata": {},
   "source": [
    "**Making it computational**\n",
    "\n",
    "\n",
    "1. What data do you have to assemble to implement your idea? A collection of tweets per hour? A collection of tweets over the last week? \n",
    "\n",
    "2. Where will you get this information? Is it in the tweets or do you have to look elsewhere? If the data have to be extracted from the tweets, "
   ]
  },
  {
   "cell_type": "markdown",
   "metadata": {},
   "source": [
    "Your answer here.\n",
    "\n"
   ]
  },
  {
   "cell_type": "markdown",
   "metadata": {},
   "source": [
    "**Testing assumptions**\n",
    "\n",
    "The link between what you need to compute and the intentions behind your trending algorithm might need a little experimentation. Do you depend on followers counts being correlated with retweet counts? Do you depend on people using hashtags frequently? Do you depend on recognizing something about the URLs in tweets? \n",
    "\n",
    "Using the tweets (and the trends if need be) from the last two notebooks to test out an assumption or two."
   ]
  },
  {
   "cell_type": "code",
   "execution_count": null,
   "metadata": {
    "collapsed": true
   },
   "outputs": [],
   "source": [
    "# Your code here\n",
    "\n"
   ]
  },
  {
   "cell_type": "markdown",
   "metadata": {},
   "source": [
    "In class on Thursday, you will have a kind of software stub that you can start to code with to build your algorithm and test it, perhaps even compare it to Twitter. "
   ]
  }
 ],
 "metadata": {
  "kernelspec": {
   "display_name": "Python [conda root]",
   "language": "python",
   "name": "conda-root-py"
  },
  "language_info": {
   "codemirror_mode": {
    "name": "ipython",
    "version": 2
   },
   "file_extension": ".py",
   "mimetype": "text/x-python",
   "name": "python",
   "nbconvert_exporter": "python",
   "pygments_lexer": "ipython2",
   "version": "2.7.12"
  }
 },
 "nbformat": 4,
 "nbformat_minor": 1
}
