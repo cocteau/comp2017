{
 "cells": [
  {
   "cell_type": "markdown",
   "metadata": {},
   "source": [
    "Networks, Part 3\n",
    "------------\n",
    "\n",
    "To finish this section, we will formalize a path from a CSV file, say, to a format that's easy for Gephi to read.Here we read our cakes data set where each row is a pair of ingredients in a recipe, with a weight value. Here we read the data as a Pandas Data Frame and then use `networkx` to create a graph from its rows. Each row here, you recall, are pairs of ingredients from recipes. So they are edges in our graph."
   ]
  },
  {
   "cell_type": "code",
   "execution_count": null,
   "metadata": {
    "collapsed": false
   },
   "outputs": [],
   "source": [
    "from pandas import read_csv\n",
    "cakes = read_csv(\"http://compute-cuj.org/cakes_network.csv\")\n",
    "cakes.head()"
   ]
  },
  {
   "cell_type": "code",
   "execution_count": null,
   "metadata": {
    "collapsed": false
   },
   "outputs": [],
   "source": [
    "from networkx import from_pandas_dataframe, write_gexf, write_gml\n",
    "\n",
    "graph = from_pandas_dataframe(cakes,\"source\",\"target\")\n",
    "write_gexf(graph, \"cake.gexf\")"
   ]
  },
  {
   "cell_type": "markdown",
   "metadata": {},
   "source": [
    "We can now load this into Gephi using the File -> Open and specifying the Graph exchange XML format (gexf) format. \n",
    "\n",
    "**Susan Rice**\n",
    "\n",
    "To finish off, we also wanted to look at Susan Rice and mentions, say. There are plenty of networks we can form and the path through a data frame will suit us well. Here we look at mentions in a certain time period (the start of the hashtag)."
   ]
  },
  {
   "cell_type": "code",
   "execution_count": null,
   "metadata": {
    "collapsed": false
   },
   "outputs": [],
   "source": [
    "from pandas import read_csv, to_datetime\n",
    "\n",
    "mentions = read_csv(\"http://compute-cuj.org/mentions.csv\")\n",
    "mentions.head()"
   ]
  },
  {
   "cell_type": "code",
   "execution_count": null,
   "metadata": {
    "collapsed": true
   },
   "outputs": [],
   "source": [
    "mentions[\"stamp\"] = to_datetime(mentions[\"created_at\"],format='%a %b %d %H:%M:%S +0000 %Y')"
   ]
  },
  {
   "cell_type": "code",
   "execution_count": null,
   "metadata": {
    "collapsed": false
   },
   "outputs": [],
   "source": [
    "mentions.head()"
   ]
  },
  {
   "cell_type": "code",
   "execution_count": null,
   "metadata": {
    "collapsed": false
   },
   "outputs": [],
   "source": [
    "mentions[\"stamp\"].describe()"
   ]
  },
  {
   "cell_type": "code",
   "execution_count": null,
   "metadata": {
    "collapsed": false
   },
   "outputs": [],
   "source": [
    "from pandas import TimeGrouper\n",
    "\n",
    "mentions.set_index(\"stamp\",inplace=True)\n",
    "\n",
    "counts = mentions.groupby(TimeGrouper(freq='30min')).agg({\"id\":{\"counts\":\"count\"}})\n",
    "counts.columns = counts.columns.droplevel()\n",
    "counts = counts.reset_index()\n",
    "\n",
    "mentions.reset_index(inplace=True)\n",
    "\n",
    "counts.head()"
   ]
  },
  {
   "cell_type": "code",
   "execution_count": null,
   "metadata": {
    "collapsed": false
   },
   "outputs": [],
   "source": [
    "from plotly.plotly import iplot, sign_in\n",
    "import plotly.graph_objs as go\n",
    "\n",
    "sign_in(\"cocteautt\",\"9psj3t57ti\")\n",
    "\n",
    "mydata = [go.Scatter(x=counts[\"stamp\"],y=counts[\"counts\"],mode=\"line\")]\n",
    "mylayout = go.Layout(autosize=False, width=1000,height=500)\n",
    "myfigure = go.Figure(data = mydata, layout = mylayout)\n",
    "iplot(myfigure)"
   ]
  },
  {
   "cell_type": "code",
   "execution_count": null,
   "metadata": {
    "collapsed": false
   },
   "outputs": [],
   "source": [
    "small = mentions[mentions[\"stamp\"]<=\"2017-04-03 02:00:00\"][[\"screen_name\",\"mention\"]]\n",
    "small[\"screen_name\"] = small[\"screen_name\"].str.lower()\n",
    "small[\"mention\"] = small[\"mention\"].str.lower()"
   ]
  },
  {
   "cell_type": "code",
   "execution_count": null,
   "metadata": {
    "collapsed": false
   },
   "outputs": [],
   "source": [
    "small.shape"
   ]
  },
  {
   "cell_type": "code",
   "execution_count": null,
   "metadata": {
    "collapsed": false
   },
   "outputs": [],
   "source": [
    "mentions.shape"
   ]
  },
  {
   "cell_type": "code",
   "execution_count": null,
   "metadata": {
    "collapsed": false
   },
   "outputs": [],
   "source": [
    "from networkx import from_pandas_dataframe, write_gexf, write_gml\n",
    "\n",
    "graph = from_pandas_dataframe(small,\"screen_name\",\"mention\")\n",
    "write_gexf(graph, \"test.gexf\")"
   ]
  },
  {
   "cell_type": "markdown",
   "metadata": {
    "collapsed": true
   },
   "source": [
    "Now load this into Gephi!"
   ]
  }
 ],
 "metadata": {
  "anaconda-cloud": {},
  "kernelspec": {
   "display_name": "Python [conda root]",
   "language": "python",
   "name": "conda-root-py"
  },
  "language_info": {
   "codemirror_mode": {
    "name": "ipython",
    "version": 2
   },
   "file_extension": ".py",
   "mimetype": "text/x-python",
   "name": "python",
   "nbconvert_exporter": "python",
   "pygments_lexer": "ipython2",
   "version": "2.7.12"
  }
 },
 "nbformat": 4,
 "nbformat_minor": 2
}
