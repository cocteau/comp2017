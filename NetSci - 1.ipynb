{
 "cells": [
  {
   "cell_type": "markdown",
   "metadata": {},
   "source": [
    "<h1 align=center> Network Science </h1>\n",
    "\n",
    "<img src = \"http://31.media.tumblr.com/2000847d0d1bdf770b5920f71b8ceaf1/tumblr_n0tejefx891qznyv2o1_400.gif\" ></img>"
   ]
  },
  {
   "cell_type": "markdown",
   "metadata": {},
   "source": [
    "Networks are a ubiquitous way to represent complex systems, including those in the social and economic sciences. Half the things we read and write about in media are in some ways related to complex systems, but much of it is simplified for quick and easy consumption. This is why its so important to understand how to analyze and evaluate problems originating from complex systems. \n",
    "\n",
    "A fundamental way to understand such systems - global climate, organisms, the human brain, organizations (both social and economic), ecosystems, digital societies etc. is to analyze the networks of structured behavior or information flow.   \n",
    "\n",
    "Arguably the history of network analysis.. is rich. \n",
    "\n",
    "<img src = \"http://sumandebroy.com/columbia/images/nets1.png\" width=\"80%\"></img>\n",
    "\n",
    "\n",
    "The elementary structural attributes of all networks are the nodes, which are the basic units of a system, and the links, which are the connections between the nodes. Both the nodes and the links can widely differ in different fields. For example, the nodes might be humans or scientists in social networks; molecules, genes, or neurons in biology; routers or transformers in infrastructural networks; and Web pages or research publications in information networks. Similarly, the links might be friendships, alliances, reactions, synapses, optical and copper cables, URLs, or citations. \n",
    "\n",
    "In general, networks can be found in biology, in neuroscience, social science, economics, ecology, how computers are connected etc. "
   ]
  },
  {
   "cell_type": "markdown",
   "metadata": {},
   "source": [
    "### Why study networks ?\n",
    "\n",
    "Analyzing complex systems can be tricky. Writing about them can be trickier. Here are some properties that make these systems complex (but not complicated) to depict:\n",
    "\n",
    "1. *Cascading Effects* : A complex system posses the ability to send ripple effects due to strong coupling among its components. Failures or collapses can lead to cascading failures. \n",
    "2. *Nested layers* : Components about complex systems can themselves be complex. Think about economies, they are made up of organizations, which are made up of people and unions.\n",
    "3. *Emergent Phenomena* : While the results/ purpose of the individual or basic components may be analyzed separately, there are key systems properties that are only visible on a higher level of analysis. One interesting example of this is [Starlings murmurations](https://www.wired.com/2011/11/starling-flock/). Another example is how [hurricanes evolve](http://www.evolutionofcomputing.org/Multicellular/Emergence.html). "
   ]
  },
  {
   "cell_type": "markdown",
   "metadata": {},
   "source": [
    "** Analyzing Spread **: \n",
    "\n",
    "<img src= \"http://currents.plos.org/outbreaks/files/2014/08/ebolatrafficconnections4.png\" width=\"60%\"></img>\n",
    "\n",
    "Epidemics can be simulated using networks. For e.g, the 2014 West African Ebola Outbreak is so far the largest and deadliest recorded in history. The affected countries, Sierra Leone, Guinea, Liberia, and Nigeria, were  struggling to contain and to mitigate the outbreak. A network model was developed based on the confirmed and suspected cases, 2615 as of 20 August 2014, to predict the risk of international dissemination, especially because the epidemic is now affecting cities with major commercial airports.\n",
    "\n",
    "Networks are also a traditionally powerful way to depict conversations in social platforms\n",
    "\n",
    "<img src= \"https://cdn-images-1.medium.com/max/1000/1*YCLWmSc-kPxILwq58PhrVw.jpeg\" width=\"90%\"></img>\n",
    "\n",
    "*2016 US Elections — Annotated Network Graph highlights the dominant communities on Twitter (made with Gephi and [Scale Model](https://medium.com/in-beta/scale-model-94018a5536a5))*"
   ]
  },
  {
   "cell_type": "markdown",
   "metadata": {},
   "source": [
    "### Network Elements. \n",
    "\n",
    "A network can be an exceedingly complex structure, as the connections among the nodes can exhibit complicated patterns. One challenge in studying complex networks is to develop simplified measures that capture some elements of the structure in an understandable way.\n",
    "\n",
    "The totality of the nodes and the links defines a network, often represented in graphic form as a connectivity matrix, telling us which nodes are directly connected to each other. Given that the study of networks was traditionally part of graph theory, a branch of discrete math, most of the language that network theory uses today has its roots in graph theory. Graphs are models of networks. Graphs are useful because they serve as mathematical models of network structures.\n",
    "\n",
    "- *Directed graph* : edges are directed, e.g. in a network that keeps track of which authors cite which other authors, or which web pages have links to which others\n",
    "\n",
    "- *Undirected graph*: edges are undirected...  this behavior is generally true\n",
    "of many social and/or economic relationships, such as partnerships, friendships,\n",
    "alliances, and acquaintances. \n",
    "\n",
    "#### Properties of Network\n",
    "\n",
    "Once a network has been mapped, the first priority is to characterize its topological and structural features.\n",
    "\n",
    "*Degree of a node*: \n",
    "- Degree of connectivity represents the most elementary measure of a node, specifying the number of links a node has to other nodes. Much can be learned about a network by inspecting the degree distribution, which in its simplest manifestation is a histogram of the number of nodes with a given degree.\n",
    "\n",
    "*Indegree and outdegree* of a node: \n",
    "- If the graph is directed, indegree represents possibilites of information flowing in to the note, and out-degree flowing out of the node.\n",
    "\n",
    "Much of the interest in networked relationships comesfrom the fact that individual\n",
    "nodes benefit (or suffer) from indirect relationships. Friends might provide access\n",
    "to favors from their friends, and information might spread through the links of\n",
    "a network. To capture the indirect interactions in a network, it is important to\n",
    "model paths through the network.\n",
    "\n",
    "*Edges*:\n",
    "    - weighted\n",
    "    - incident on a node\n",
    "    - Shortest path between two nodes\n",
    "    - Hop \n",
    "    - Density\n",
    "\n",
    "- What is the difference between a path and a walk?\n",
    "\n",
    "- Google's original ranking algorithm, **PageRank**, is also based on network science. Recall PageRank's orginal thesis:  \"to examine the entire link structure of the web and determine which pages are most important.\" \n",
    "    - A hyperlink from page x to page y counts as a \"vote\" cast by x for y. A vote from a high-ranked page is worth more than a vote from a low-ranked page.\n",
    "    - In this case, websites are represented by nodes, and urls embedded in them as links. (So each page can vote for any number of other pages; however, the weight of each of its individual votes decreases according to the total number of votes it has cast)\n",
    "    - ... but a lot of the rest of it is.. the closely guarded. \n",
    "    "
   ]
  },
  {
   "cell_type": "markdown",
   "metadata": {},
   "source": [
    "## Intro to Gephi\n",
    "\n",
    "<img src = \"http://sumandebroy.com/columbia/images/beta2.gif\" width=\"40%\"></img>"
   ]
  },
  {
   "cell_type": "markdown",
   "metadata": {},
   "source": [
    "Now that you know the basic elements of networks, lets go and interact with one. \n",
    "\n",
    "For this exercise, we shall use a tool called [Gephi](https://gephi.org/).\n",
    "\n",
    "\n",
    "- First, download Gephi from [here](https://gephi.org/users/download/)\n",
    "- Gephi can ingest dataset files in different graph formats, one of which is [GML](https://en.wikipedia.org/wiki/Graph_Modelling_Language). \n",
    "- Lets download the dataset. Go to [this](http://sumandebroy.com/columbia/word_adjacencies.gml.zip) zip file, and extract the .gml file (dataset) in the folder where you are running the notebook. You will see a \".gml\" file. \n",
    "\n",
    "*What is this data about: * The dataset contains **word adjacencies**, i.e. an adjacency network of common adjectives and nouns in the novel David Copperfield by Charles Dickens. It was extracted in the paper: M. E. J. Newman, Phys. Rev. E 74, 036104 (2006). "
   ]
  },
  {
   "cell_type": "markdown",
   "metadata": {
    "collapsed": true
   },
   "source": [
    "### Gephi Demo 1 - David Copperfield, word adjacencies\n",
    "\n",
    "- Now load Gephi.\n",
    "- The click on \"File\" --> \"Open\" .. and choose \"word_adjacencis.gml\"\n",
    "- You should see an import report with some stats about number of edges and nodes. \n",
    "- Click \"OK\" and gephi should show the graph now. \n",
    "\n",
    "1. To see the degree distribution: Go to right panel in Statistics --> \"Network Overview\", click \"Average Degree\". \n",
    "2. Change Appearance of nodes: Node size, node color, node label size.\n",
    "3. Changing Appearance of network layout: Network layout are a set of algorithms that arrange the graph in a way thats aesthatically pleasing. We will start with the [*force directed* layout](https://en.wikipedia.org/wiki/Force-directed_graph_drawing). While these layouts can be computationally expensive, one of the fastest algorithms to project a force directed was developed by Fruchterman & Reingold in 1991.\n",
    "\n",
    "4. go to the preview tab, click refresh. This is where you export your beautiful network picture.\n"
   ]
  },
  {
   "cell_type": "markdown",
   "metadata": {},
   "source": [
    "##  Social Network Analysis\n",
    "\n",
    "\n",
    "Ideas don't come from people, ideas come from conversations. Investigating social structures and information diffusion through the use of networks and graph theory can be one of the most powerful tools available to an analyst. "
   ]
  },
  {
   "cell_type": "markdown",
   "metadata": {},
   "source": [
    "#### Properties of Real Networks ... \n",
    "\n",
    "We have already studied a few fundamental characteristics of networks, such as its degree distribution. The degree\n",
    "distribution of a network is a description of the relative frequencies of nodes that\n",
    "have different degrees. \n",
    "\n",
    "- *Centrality* \n",
    "    - Most of the measures discussed to this point are predominately macro in nature; that is, they describe broad characteristics of a network. In many cases, we might also be interested in micro measures that allow us to compare nodes and to say something about how a given node relates to the overall network. Centrality describes the most important nodes in relation to every other node in the network.\n",
    "    - Eigenvector centrality assigns relative scores to nodes in the network based on the\n",
    "concept that connections to nodes with high score contribute more to the score of a node\n",
    "than connections to nodes with lower scores. PageRank is a variant of eigenvector centrality\n",
    "\n",
    "- *Small world*\n",
    "    - A small-world network is one in which the mean geodesic (i.e., shortest-path) distance between nodes increases sufficiently slowly as a function of the number of nodes in the network. In other words, most nodes are not neighbors of one another, but the neighbors of any given node are likely to be neighbors of each other and most nodes can be reached from every other node by a small number of hops or steps. Thus, nodes are highly clustered. \n",
    "- *Scale free*\n",
    "    - Scale-free networks are a type of network characterized by the presence of large hubs. These networks are incredibly tolerant to failures. Many known networks, such as the World Wide Web, online social networks, protein networks, interbank payment networks are scale free. \n",
    "\n",
    "<img src=\"http://blogs.cornell.edu/info2040/files/2012/09/scale-free-network-1p6ttzk.png\"> </img>\n",
    "\n",
    "Small World and Scale Free often go hand in hand, and give rise to patterns that have been found in many biological systems, including the brain. One  theory in neuroscience is the brain is organised as a small-world  network, where most neurons are connected relatively sparsely and  locally. This theory also proposes there are a very small proportion of  highly connected neurons (hubs), which have connections spanning much  longer distances. [Some researchers claim to have found evidence for such  hub neurons in the human brain](http://science.sciencemag.org/content/326/5958/1419)\n",
    "\n",
    "\n",
    "- *Modularity*\n",
    "    - The tendency of the network to form explicit clusters of node. It measures the strength of division of a network into modules (also called groups, clusters or communities)."
   ]
  },
  {
   "cell_type": "markdown",
   "metadata": {
    "collapsed": false
   },
   "source": [
    "### Gephi Demo 2:  A social graph\n",
    "\n",
    "Lets play around with [this](http://socialcomputing.asu.edu/datasets/Twitter) dataset, which contains nodes and edges extracted from Twitter. The data here is anonymized, so nodes only have a number (not a name). But **you can crawl your own networks from Twitter** and then test it using this method. \n",
    "\n",
    "Basic statistics\n",
    "- Number of Nodes: 11,316,811\n",
    "- Number of Edges: 85,331,846\n",
    "\n",
    "Because I don't want gephi to crawl and run out of memory, we are going to visualize only the top~7K nodes of this network that had highest degree. You can get this reduced dataset [here](http://sumandebroy.com/columbia/nodes_7k.csv)\n",
    "\n",
    "- Just like the previous case, open gephi and click on \"File\" --> \"Open\" .. and choose \"nodes_7k.csv\"\n",
    "- You should see an import report with some stats about number of edges and nodes.\n",
    "- Click \"OK\" and gephi should show the graph now (or something like a dark square...these are all nodes!)\n",
    "\n",
    "Here's how to make the network viz:\n",
    "- Step 1: Lets see the degree distribution, but this time we will filter by range. Go to filters, click on topology and double-click on degree range. Now increase the lower limit to ~40. You should have fewer nodes in the graph now. \n",
    "- Step 2: Run \"eigenvector centrality\" from the statistics window.\n",
    "- Step 3: Change node size by centrality. \n",
    "- Step 4: Change colors by centrality\n",
    "- Step 5: Change the layout to openord. Go to preview and see what you created (don't forget to refresh)\n",
    "- Step 6: Finally go over to statistics, and calculate at the average degree distribution. \n",
    "\n",
    "The degree distribution displays the count of nodes with the appropriate distribution.\n",
    "\n",
    "\n",
    "<img src=\"http://sumandebroy.com/columbia/ddist.png\" width=\"70%\"></img>\n",
    "\n",
    "- count = no. of nodes \n",
    "- value = degree of these nodes"
   ]
  },
  {
   "cell_type": "markdown",
   "metadata": {
    "collapsed": true
   },
   "source": [
    "### Gephi Demo 3: \n",
    "\n",
    "- you can crawl a follower graph from twitter, and use this technique to visualize it. (e.g., I started with betaworks and crawled the follow graph)\n",
    "\n"
   ]
  },
  {
   "cell_type": "markdown",
   "metadata": {
    "collapsed": true
   },
   "source": [
    "<hr> \n",
    "### Next class\n",
    "\n",
    "- How to convert any dataset into a network graph using NetworkX.\n",
    "\n",
    "In the meantime,  play around with the many gephi datasets available online. "
   ]
  }
 ],
 "metadata": {
  "anaconda-cloud": {},
  "kernelspec": {
   "display_name": "Python [default]",
   "language": "python",
   "name": "python2"
  },
  "language_info": {
   "codemirror_mode": {
    "name": "ipython",
    "version": 2
   },
   "file_extension": ".py",
   "mimetype": "text/x-python",
   "name": "python",
   "nbconvert_exporter": "python",
   "pygments_lexer": "ipython2",
   "version": "2.7.12"
  }
 },
 "nbformat": 4,
 "nbformat_minor": 2
}
