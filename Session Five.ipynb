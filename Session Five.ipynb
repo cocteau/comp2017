{
 "cells": [
  {
   "cell_type": "markdown",
   "metadata": {},
   "source": [
    "# Bot or Not: Using the Twitter API to look at our \"fake\" followers\n",
    "\n",
    "![Bot](http://media.npr.org/assets/img/2017/02/04/trumpbot_51_wide-99a6d194a30546394eff755db56b8579745e5921-s800-c85.png \"Bot\")\n",
    "\n",
    "Before we get started with the Twitter API and detecting bots, let's take a look at [HTTP](https://en.wikipedia.org/wiki/Hypertext_Transfer_Protocol) and how it works.\n",
    "\n",
    "## HTTP\n",
    "\n",
    "Most APIs are built on top of a simple protocol called HTTP. HTTP powers most of the communications on the web, including your browser and probably most of the apps that you use. HTTP allows you (via your browser, a mobile app or even code you write!) to **request** data (HTML, PDFs, MP3s, etc) from a service across the internets (e.g. google.com, twitter.com) and that service will respond with the requested data (i.e. the **response**).\n",
    "\n",
    "Let's take a look at how HTTP (and the Internet) works in more detail...\n",
    "\n",
    "\n",
    "## What's an API?\n",
    "\n",
    "An API, or application programming interface, allows you to specify the data you want and returns it in a computer-friendly format like JSON or XML. The \"interface\"  is a regularized way to make requests, and a consistent specification for the data you asked for. So many organizations now publish APIs for their data. From [The New York Times](https://developer.nytimes.com/) to [ProPublica](https://propublica.github.io/campaign-finance-api-docs/), to governmental organizations like the [EPA](https://developer.epa.gov/category/api/), to social media sites like [Twitter](https://dev.twitter.com/overview/api) and [Instagram](https://www.instagram.com/developer/) and [LinkedIn](https://developer.linkedin.com).\n",
    "\n",
    "\n",
    "## API Authentication\n",
    "\n",
    "Most API providers require you as the developer to use a form of authentication while using their APIs. There are various forms of authentication: oauth, api keys and even username and passwords.\n",
    "\n",
    "For example, like [The New York Times](https://developer.nytimes.com/) only require that you use an API key when making API calls. With API keys, you usually just pass the key in your API calls, like:\n",
    "\n",
    "```\n",
    "https://developer.nytimes.com/article_search_v2.json?api_key=abcxyz&q=tesla\n",
    "```\n",
    "\n",
    "[OAuth](https://en.wikipedia.org/wiki/OAuth) is a bit more complicated but provides more fine-grained control for the API service as well as the users. Let's come back to it right after we set up our Twitter API keys (yep, they use OAuth for their API authentication).\n"
   ]
  },
  {
   "cell_type": "markdown",
   "metadata": {},
   "source": [
    "## Using The Twitter API\n",
    "\n",
    "To access the Twitter API, we need to register an \"application\" (um, an \"app\"!) that will be pulling data from their service. This means that in one sweet instant you have become a developer! 😮 The steps are pretty easy and listed below. You'll first need to get a set of \"keys\" to drive this bad boy and then install a Python library that exposes the Twitter API through special objects. \n",
    "    \n",
    "**1) Get Your API Keys**\n",
    "\n",
    "If you don't already have credentials for Twitter, you have to create an application and generate a set of keys (an API key, API secret, Access token and Access token secret) on the Twitter developer site. There are five easy steps!\n",
    "\n",
    "1. Create a Twitter user account if you do not already have one.\n",
    "2. Go to [https://apps.twitter.com](https://apps.twitter.com/) and log in with your Twitter user account. This step gives you a Twitter developer's account under the same name as your user account. (Um, and congratulations! You're now a developer!)\n",
    "3. Click “Create New App”\n",
    "4. Fill out the form, agree to the terms, and click “Create your Twitter application”\n",
    "5. In the next page, click on “Keys and Access Tokens” tab, and copy your “API key” and “API secret”. Scroll down and click “Create my access token”, and copy your “Access token” and “Access token secret”.\n",
    "\n",
    "Once you have your tokens, copy them below."
   ]
  },
  {
   "cell_type": "code",
   "execution_count": null,
   "metadata": {
    "collapsed": true
   },
   "outputs": [],
   "source": [
    "CONSUMER_KEY = \"put your consumer key here\"\n",
    "CONSUMER_SECRET = \"put your consumer secret here\"\n",
    "ACCESS_TOKEN = \"your access token goes here\"\n",
    "ACCESS_TOKEN_SECRET = \"and your token secret goes here\""
   ]
  },
  {
   "cell_type": "markdown",
   "metadata": {},
   "source": [
    "**2) Install the Tweepy Library**\n",
    "\n",
    "The developer community has created [hundreds of Twitter libraries](https://dev.twitter.com/resources/twitter-libraries) that help you access Twitter's API. By \"help\" we mean they have created objects that hide the details of making requests for data from Twitter, and leave you with a clean coding interface. Your requests to Twitter are in the form of neat methods (verbs) that return data on users, their statuses and followers. You can even post tweets using these libraries.\n",
    "\n",
    "We will by using Tweepy to call the Twitter API. Why? It has many of the best features of the other libraries and its documentation is complete. Often, free software projects can be thinly documented, leaving you a little out to sea if you have a problem.\n",
    "\n",
    "Keep these two links open in tabs as we go through the code below: [Tweepy documentation](http://tweepy.readthedocs.io/en/v3.5.0/\n",
    ") and [source code](https://github.com/tweepy/tweepy).\n",
    "\n",
    "Use the following to install the Tweepy library (version 3.5) on your machine. Recall that the double percent signs indicate that the code in the cell is to be interpreted as something other than Python commands. In this case, we are giving instructions to the UNIX **sh**ell. We'll have more to say about that later, but the shell is essentially what you're typing into when you initiate this notebook with \"jupyter notebook\"."
   ]
  },
  {
   "cell_type": "code",
   "execution_count": null,
   "metadata": {
    "collapsed": false
   },
   "outputs": [],
   "source": [
    "%%sh\n",
    "pip install tweepy==3.5.0"
   ]
  },
  {
   "cell_type": "markdown",
   "metadata": {},
   "source": [
    "Before we start making API calls, we need to initialize our Tweepy object."
   ]
  },
  {
   "cell_type": "code",
   "execution_count": null,
   "metadata": {
    "collapsed": false
   },
   "outputs": [],
   "source": [
    "# before we can make Twitter API calls, we need to initialize a few things...\n",
    "from tweepy import OAuthHandler, API\n",
    "\n",
    "# setup the authentication\n",
    "auth = OAuthHandler(CONSUMER_KEY, CONSUMER_SECRET)\n",
    "auth.set_access_token(ACCESS_TOKEN, ACCESS_TOKEN_SECRET)\n",
    "\n",
    "# create an object we will use to communicate with the Twitter API\n",
    "api = API(auth)\n",
    "type(api)"
   ]
  },
  {
   "cell_type": "markdown",
   "metadata": {},
   "source": [
    "## Getting a User's Profile Info\n",
    "\n",
    "Now you are prepped and ready to start making Twitter API calls. First, lets look at some user profiles. \n",
    "\n",
    "We will be calling the `users/show` api: https://dev.twitter.com/rest/reference/get/users/show\n",
    "    "
   ]
  },
  {
   "cell_type": "code",
   "execution_count": null,
   "metadata": {
    "collapsed": false
   },
   "outputs": [],
   "source": [
    "# get a user's profile (the 'nytimes' in this case)\n",
    "user = api.get_user('nytimes')\n",
    "\n",
    "# print out some of the user's information\n",
    "print user.screen_name\n",
    "print user.statuses_count\n",
    "print user.friends_count\n",
    "print user.followers_count\n",
    "print user.description"
   ]
  },
  {
   "cell_type": "markdown",
   "metadata": {},
   "source": [
    ">**NOTE:** When you run the `api.get_user()` code above and you get an error that looks like this:\n",
    "```\n",
    "\"TweepError: [{u'message': u'Invalid or expired token.', u'code': 89}]\n",
    "```\n",
    "This means that you don't have the right API keys, tokens and secrets."
   ]
  },
  {
   "cell_type": "code",
   "execution_count": null,
   "metadata": {
    "collapsed": true
   },
   "outputs": [],
   "source": [
    "print type(user)"
   ]
  },
  {
   "cell_type": "markdown",
   "metadata": {},
   "source": [
    "The result of the call to the API is technically a JSON string. As we did with tweets, we could parse it into primitive Python objects like lists and dictionaries and numbers and strings. Tweepy creates high-level objects to represent the result of an API call. This is why you access \".screen_name\" and \".followers_count\" as attributes of the object. \n",
    "\n",
    "Objects have both data and methods and the methods for this object are things like follow() and unfollow() the user. All of this conveniently wrapped up in a high-level object."
   ]
  },
  {
   "cell_type": "markdown",
   "metadata": {},
   "source": [
    "**Try This!** \n",
    "\n",
    "Modify the code above to get the user profile information for `@realDonaldTrump` and `@rosieTuring`."
   ]
  },
  {
   "cell_type": "markdown",
   "metadata": {},
   "source": [
    "## Send a Tweet!\n",
    "\n",
    "If you were writing a bot, it would need to tweet! You can send out a tweet with one line of code.\n",
    "\n",
    "We will be using the `statuses/update` api to send the tweet: https://dev.twitter.com/rest/reference/post/statuses/update"
   ]
  },
  {
   "cell_type": "code",
   "execution_count": null,
   "metadata": {
    "collapsed": false
   },
   "outputs": [],
   "source": [
    "# send a tweet!\n",
    "# you probably want to modify this message before you send it :-)\n",
    "\n",
    "api.update_status(status='Learning all about bots. I really love this class! Period.')"
   ]
  },
  {
   "cell_type": "markdown",
   "metadata": {},
   "source": [
    "## Look at a User's Tweets\n",
    "\n",
    "Now, let's look at [`@realDonaldTrump`](https://twitter.com/realDonaldTrump)'s tweets. If you've had enough of all that, replace it with [`@justinbieber`](https://twitter.com/justinbieber) or someone less anxious-making.\n",
    "\n",
    "We will use the `statuses/user_timeline` api to do this: https://dev.twitter.com/rest/reference/get/statuses/user_timeline"
   ]
  },
  {
   "cell_type": "code",
   "execution_count": null,
   "metadata": {
    "collapsed": false
   },
   "outputs": [],
   "source": [
    "# get the \"real\" Donald's last 100 tweets\n",
    "tweets = api.user_timeline(screen_name='realDonaldTrump', count=100)\n",
    "\n",
    "print len(tweets)"
   ]
  },
  {
   "cell_type": "markdown",
   "metadata": {},
   "source": [
    "You can loop over the 100 tweets and print them out. Here, a tweet object from Tweepy has data attributes like the text of the tweet, stored in \".text\""
   ]
  },
  {
   "cell_type": "code",
   "execution_count": null,
   "metadata": {
    "collapsed": false
   },
   "outputs": [],
   "source": [
    "# get the \"real\" Donald's last 100 tweets\n",
    "tweets = api.user_timeline(screen_name='realDonaldTrump', count=100)\n",
    "\n",
    "# loop over the tweets and print out the tweet text. don't tell Mark we are doing loops!\n",
    "for tweet in tweets:\n",
    "    print tweet.text"
   ]
  },
  {
   "cell_type": "code",
   "execution_count": null,
   "metadata": {
    "collapsed": true
   },
   "outputs": [],
   "source": [
    "print type(tweet)"
   ]
  },
  {
   "cell_type": "markdown",
   "metadata": {},
   "source": [
    "**Try This!**\n",
    "\n",
    "Use the example above to get the latest tweets for yourself, `scottoiesky`, `@nytimes`, etc. What other information would be useful to have besides the text of the tweet?"
   ]
  },
  {
   "cell_type": "markdown",
   "metadata": {},
   "source": [
    "## Let's Look at @rosieturning's Followers"
   ]
  },
  {
   "cell_type": "markdown",
   "metadata": {},
   "source": [
    "Our goal is to see if we can detect bots/fake twitter accounts, so let's start looking at `@rosieturning`'s followers.\n",
    "\n",
    "If you look at the Twitter API documentation, you will see there are a few ways to get information about a user's followers:\n",
    "\n",
    "1. the [`followers/list` api](https://dev.twitter.com/rest/reference/get/followers/list), or\n",
    "2. the [`followers/ids` api](https://dev.twitter.com/rest/reference/get/followers/ids)\n",
    "\n",
    "Which one should we use?\n"
   ]
  },
  {
   "cell_type": "code",
   "execution_count": null,
   "metadata": {
    "collapsed": false
   },
   "outputs": [],
   "source": [
    "# get Rosie's followers list\n",
    "follower_ids = api.followers_ids(screen_name='rosieturing')\n",
    "\n",
    "# how many followers (i.e. what's the \"lenght\" of the list of follower ids)\n",
    "print type(follower_ids)\n",
    "print len(follower_ids)"
   ]
  },
  {
   "cell_type": "code",
   "execution_count": null,
   "metadata": {
    "collapsed": false
   },
   "outputs": [],
   "source": [
    "for follower_id in follower_ids:\n",
    "    print follower_id"
   ]
  },
  {
   "cell_type": "markdown",
   "metadata": {},
   "source": [
    "**Great!** But we need the profile information for these users. How do we get the user profile's for ~2500 users?"
   ]
  },
  {
   "cell_type": "markdown",
   "metadata": {},
   "source": [
    "We could use the `users/show` api (which we used above) to each of the 2500 user's profile info: https://dev.twitter.com/rest/reference/get/users/show\n"
   ]
  },
  {
   "cell_type": "code",
   "execution_count": null,
   "metadata": {
    "collapsed": false
   },
   "outputs": [],
   "source": [
    "# remember how we got the user profile for a single user?\n",
    "user = api.get_user(user_id=2489833821)\n",
    "print user"
   ]
  },
  {
   "cell_type": "code",
   "execution_count": null,
   "metadata": {
    "collapsed": false,
    "scrolled": true
   },
   "outputs": [],
   "source": [
    "# so, could we do something like this?\n",
    "follower_ids = api.followers_ids(screen_name='rosieturing')\n",
    "\n",
    "# loop over each follower id and make an api call to get the user's profile info\n",
    "#for follower_id in follower_ids:\n",
    "    #user = api.get_user(user_id=follower_id)\n",
    "    #print user\n",
    "    \n",
    "# what's wrong with this code?"
   ]
  },
  {
   "cell_type": "markdown",
   "metadata": {},
   "source": [
    "Instead of making 2500 API calls to Twitter, let's see if we can be more efficient.\n",
    "\n",
    "The **`users/lookup`** api allows us to get 100 user's at a time!\n",
    "https://dev.twitter.com/rest/reference/get/users/lookup\n",
    "\n",
    "Ok, so how do we get 100 user id's at a time from our `follower_ids` list??"
   ]
  },
  {
   "cell_type": "code",
   "execution_count": null,
   "metadata": {
    "collapsed": false
   },
   "outputs": [],
   "source": [
    "follower_ids = api.followers_ids(screen_name='rosieturing')\n",
    "\n",
    "# get the total number of ids in the list\n",
    "number_of_followers = len(follower_ids)\n",
    "\n",
    "# get 100 ids from the list at a time\n",
    "for i in range(0, number_of_followers, 100):\n",
    "    \n",
    "    subset_of_follower_ids = follower_ids[i:i + 100]\n",
    "    print len(subset_of_follower_ids)"
   ]
  },
  {
   "cell_type": "markdown",
   "metadata": {},
   "source": [
    "Ok, let's pull it all together now. We have our list of Rosie's ~2500 follower ids and know how to slice the list to get 100 of them at a time. Next, we can use the **`users/lookup`** api to get the profile info for these 100 users at a time.\n",
    "\n",
    "https://dev.twitter.com/rest/reference/get/users/lookup"
   ]
  },
  {
   "cell_type": "code",
   "execution_count": null,
   "metadata": {
    "collapsed": false
   },
   "outputs": [],
   "source": [
    "# first, we get the list of Rosie's follower ids (this is old hat by now)\n",
    "follower_ids = api.followers_ids(screen_name='rosieturing')\n",
    "\n",
    "# how many follower ids do we have in the list?\n",
    "number_of_followers = len(follower_ids)\n",
    "\n",
    "# loop over 100 of the follower id's at a time\n",
    "for i in range(0, number_of_followers, 100):\n",
    "    \n",
    "    # slice the list of follower_ids to get 100 at a time\n",
    "    subset_of_follower_ids = follower_ids[i:i + 100]\n",
    "    \n",
    "    # call the users/lookup api on 100 users\n",
    "    user_profiles = api.lookup_users(subset_of_follower_ids)\n",
    "    \n",
    "    # did we get 100 user profiles? let's check by calling len()\n",
    "    print len(user_profiles)\n",
    "    \n",
    "    # looks good. now, let's loop over these 100 user profiles and print them\n",
    "    # definitely don't tell Mark that we are doing loops inside of loops!!!\n",
    "    for user_profile in user_profiles:\n",
    "        print user_profile.screen_name\n",
    "        print user_profile.description\n",
    "        \n",
    "    # just for fun, i'm going to \"break\" out of the list so we dont get all 2500 followers just yet\n",
    "    break\n",
    "    "
   ]
  },
  {
   "cell_type": "markdown",
   "metadata": {},
   "source": [
    "## Save @rosieturning's Followers to a CSV File\n",
    "\n",
    "It's easier to work on data stored locally on your machine. Calling Twitter 10s or 100s of times can be slow!\n",
    "\n",
    "So, let's grab all of the `@rosieturing's` followers and save them in a CSV file.\n",
    "\n",
    "What information about each of her followers should we save?"
   ]
  },
  {
   "cell_type": "markdown",
   "metadata": {
    "collapsed": true
   },
   "source": [
    "But, before we that, let's revisit the Python `csv` module which lets us easily read and write csv files."
   ]
  },
  {
   "cell_type": "code",
   "execution_count": null,
   "metadata": {
    "collapsed": true
   },
   "outputs": [],
   "source": [
    "# write some test data to a csv file\n",
    "from csv import writer\n",
    "\n",
    "# first, open the file that we will \"write\" our csv data to\n",
    "test_file = open(\"test.csv\", \"wb\")\n",
    "\n",
    "# second, create the csv \"writer\" object\n",
    "csv_file = writer(test_file)\n",
    "\n",
    "# write the header row and then a few rows of data\n",
    "csv_file.writerow([\"screen name\", \"number of followers\"])\n",
    "csv_file.writerow([\"myoung\", \"4000\"])\n",
    "csv_file.writerow([\"cocteau\", \"3000\"])\n",
    "csv_file.writerow([\"realDonaldTrump\", \"24000000\"])\n"
   ]
  },
  {
   "cell_type": "code",
   "execution_count": null,
   "metadata": {
    "collapsed": false
   },
   "outputs": [],
   "source": [
    "# read the csv file\n",
    "from pandas import read_csv\n",
    "data = read_csv(\"test.csv\")\n",
    "data"
   ]
  },
  {
   "cell_type": "markdown",
   "metadata": {},
   "source": [
    "Ok, lets get back to Rosie...now, we can get all of her followers and save their profile info to a CSV file."
   ]
  },
  {
   "cell_type": "code",
   "execution_count": null,
   "metadata": {
    "collapsed": false
   },
   "outputs": [],
   "source": [
    "# first, let's create the csv file\n",
    "rosies_file = open(\"rosies_followers.csv\", \"wb\")\n",
    "\n",
    "# next, create the csv \"writer\" object\n",
    "csv_file = writer(rosies_file)\n",
    "\n",
    "# write the \"header\" row to the csv file\n",
    "csv_file.writerow([\"screen name\", \"bio\", \"friends\", \"followers\", \"tweets\", \"listed\", \"favorites\"])\n",
    "\n",
    "# make the twitter api call to get rosie's follower ids\n",
    "follower_ids = api.followers_ids(screen_name='rosieturing')\n",
    "\n",
    "# loop through the list of follower ids and get 100 user profiles from twitter at a time\n",
    "number_of_followers = len(follower_ids)\n",
    "for i in range(0, number_of_followers, 100):\n",
    "    \n",
    "    # get 100 follower ids at a time\n",
    "    subset_of_follower_ids = follower_ids[i:i + 100]\n",
    "    \n",
    "    print \"getting 100 more user profiles...\"\n",
    "    # the \"user lookup\" api call - this should return 100 user profiles\n",
    "    user_profiles = api.lookup_users(subset_of_follower_ids)\n",
    "    \n",
    "    # write some of the user's info to the csv file\n",
    "    for user_profile in user_profiles:\n",
    "        csv_file.writerow([\n",
    "            user_profile.screen_name.encode('utf-8'),\n",
    "            user_profile.description.encode('utf-8'),\n",
    "            user_profile.friends_count,\n",
    "            user_profile.followers_count,\n",
    "            user_profile.statuses_count,\n",
    "            user_profile.listed_count,\n",
    "            user_profile.favourites_count,\n",
    "        ])\n",
    "        \n",
    "print \"done!\""
   ]
  },
  {
   "cell_type": "code",
   "execution_count": null,
   "metadata": {
    "collapsed": false
   },
   "outputs": [],
   "source": [
    "# read the csv file\n",
    "from pandas import read_csv\n",
    "data = read_csv(\"rosies_followers.csv\")\n",
    "data.head(50)"
   ]
  },
  {
   "cell_type": "markdown",
   "metadata": {},
   "source": [
    "Yay, we have our data and it stored on our machine. We can use the Twitter API if we need to get updated information about these users, but we have what we need for now.\n",
    "\n",
    "## Bot or Not?\n",
    "How can we tell which of Rosie's followers are bots and which are not? Here are some resources to hep you address the question. We will dig into it more on Thursday, but for now think about what you'd do. What data are available? How would you use it?\n",
    "\n",
    "\n",
    "[twitteraudit](https://www.twitteraudit.com/)\n",
    "\n",
    "[Fake Follower Check](https://fakers.statuspeople.com/)\n",
    "\n",
    "[Bot or Not](http://botornot.co/)\n",
    "\n",
    "[Why can't Twitter kill its bots](http://fusion.net/story/195901/twitter-bots-spam-detection/)\n",
    "\n",
    "[The Rise of Social Bots](http://cacm.acm.org/magazines/2016/7/204021-the-rise-of-social-bots/fulltext)\n",
    "\n",
    "[The DARPA Twitter Bot Challenge](https://arxiv.org/abs/1601.05140)\n",
    "\n",
    "[How Twitter Bots Are Shaping the Election](https://www.theatlantic.com/technology/archive/2016/11/election-bots/506072/)\n"
   ]
  },
  {
   "cell_type": "code",
   "execution_count": null,
   "metadata": {
    "collapsed": true
   },
   "outputs": [],
   "source": []
  }
 ],
 "metadata": {
  "anaconda-cloud": {},
  "kernelspec": {
   "display_name": "Python [conda root]",
   "language": "python",
   "name": "conda-root-py"
  },
  "language_info": {
   "codemirror_mode": {
    "name": "ipython",
    "version": 2
   },
   "file_extension": ".py",
   "mimetype": "text/x-python",
   "name": "python",
   "nbconvert_exporter": "python",
   "pygments_lexer": "ipython2",
   "version": "2.7.12"
  }
 },
 "nbformat": 4,
 "nbformat_minor": 0
}
